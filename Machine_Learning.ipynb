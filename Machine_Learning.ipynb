{
  "nbformat": 4,
  "nbformat_minor": 0,
  "metadata": {
    "colab": {
      "name": "Machine Learning.ipynb",
      "provenance": [],
      "collapsed_sections": [
        "XtBgRM3oidP2",
        "Z7-Jgf7xi_kq",
        "KpkTxWxSjRBA",
        "1dqvdoo9jipi",
        "RsqAYK9Dj05b",
        "rB9L4IIDj978",
        "yg_20y7MkTDL",
        "YfbrEFx1kcVH",
        "sgQRtgrFk2BP",
        "xS3tcmbRlHHP",
        "LNdrGlB5lV8a",
        "YrO6Dgfbr4gv",
        "P84qZ2ECP-qu",
        "R_BbEEMVfdg-",
        "NIWdednMfs3B",
        "gsa4rWMRgh5j",
        "vF6kdMKKg33i",
        "Tr2PcVpHg_9K",
        "Pr1K-npVV8uL",
        "R3ZDFCiNgNXL",
        "PSOv_1OPeOyv",
        "Ne0uE9I8ec45",
        "nFdBcNRphVcO",
        "Efe2iEXT3IZt"
      ],
      "mount_file_id": "1cHMuoHY27OxA7eRuPNL1GwQDPWRqrARp",
      "authorship_tag": "ABX9TyOTRrHZnNFjB2urDaKMhiUF",
      "include_colab_link": true
    },
    "kernelspec": {
      "name": "python3",
      "display_name": "Python 3"
    },
    "language_info": {
      "name": "python"
    }
  },
  "cells": [
    {
      "cell_type": "markdown",
      "metadata": {
        "id": "view-in-github",
        "colab_type": "text"
      },
      "source": [
        "<a href=\"https://colab.research.google.com/github/kunalavghade/Machine-Learning/blob/main/Machine_Learning.ipynb\" target=\"_parent\"><img src=\"https://colab.research.google.com/assets/colab-badge.svg\" alt=\"Open In Colab\"/></a>"
      ]
    },
    {
      "cell_type": "markdown",
      "source": [
        "# 1. Line Fitting"
      ],
      "metadata": {
        "id": "XtBgRM3oidP2"
      }
    },
    {
      "cell_type": "code",
      "source": [
        "import pandas as pd\n",
        "import numpy as np"
      ],
      "metadata": {
        "id": "F79jnbaVP8DC"
      },
      "execution_count": null,
      "outputs": []
    },
    {
      "cell_type": "markdown",
      "source": [
        "## Import Data"
      ],
      "metadata": {
        "id": "Z7-Jgf7xi_kq"
      }
    },
    {
      "cell_type": "code",
      "source": [
        "df = pd.read_csv(\"https://raw.githubusercontent.com/jbrownlee/Datasets/master/longley.csv\")\n",
        "df.head()"
      ],
      "metadata": {
        "colab": {
          "base_uri": "https://localhost:8080/"
        },
        "id": "ey2TVaeTi1Vo",
        "outputId": "2ab67c31-c445-4105-8de5-9c7cbe89b662"
      },
      "execution_count": null,
      "outputs": [
        {
          "output_type": "execute_result",
          "data": {
            "text/plain": [
              "     83  234.289  235.6    159  107.608  1947  60.323\n",
              "0  88.5  259.426  232.5  145.6  108.632  1948  61.122\n",
              "1  88.2  258.054  368.2  161.6  109.773  1949  60.171\n",
              "2  89.5  284.599  335.1  165.0  110.929  1950  61.187\n",
              "3  96.2  328.975  209.9  309.9  112.075  1951  63.221\n",
              "4  98.1  346.999  193.2  359.4  113.270  1952  63.639"
            ],
            "text/html": [
              "\n",
              "  <div id=\"df-33c9ab33-2da5-4f2b-8818-21999ca06fcc\">\n",
              "    <div class=\"colab-df-container\">\n",
              "      <div>\n",
              "<style scoped>\n",
              "    .dataframe tbody tr th:only-of-type {\n",
              "        vertical-align: middle;\n",
              "    }\n",
              "\n",
              "    .dataframe tbody tr th {\n",
              "        vertical-align: top;\n",
              "    }\n",
              "\n",
              "    .dataframe thead th {\n",
              "        text-align: right;\n",
              "    }\n",
              "</style>\n",
              "<table border=\"1\" class=\"dataframe\">\n",
              "  <thead>\n",
              "    <tr style=\"text-align: right;\">\n",
              "      <th></th>\n",
              "      <th>83</th>\n",
              "      <th>234.289</th>\n",
              "      <th>235.6</th>\n",
              "      <th>159</th>\n",
              "      <th>107.608</th>\n",
              "      <th>1947</th>\n",
              "      <th>60.323</th>\n",
              "    </tr>\n",
              "  </thead>\n",
              "  <tbody>\n",
              "    <tr>\n",
              "      <th>0</th>\n",
              "      <td>88.5</td>\n",
              "      <td>259.426</td>\n",
              "      <td>232.5</td>\n",
              "      <td>145.6</td>\n",
              "      <td>108.632</td>\n",
              "      <td>1948</td>\n",
              "      <td>61.122</td>\n",
              "    </tr>\n",
              "    <tr>\n",
              "      <th>1</th>\n",
              "      <td>88.2</td>\n",
              "      <td>258.054</td>\n",
              "      <td>368.2</td>\n",
              "      <td>161.6</td>\n",
              "      <td>109.773</td>\n",
              "      <td>1949</td>\n",
              "      <td>60.171</td>\n",
              "    </tr>\n",
              "    <tr>\n",
              "      <th>2</th>\n",
              "      <td>89.5</td>\n",
              "      <td>284.599</td>\n",
              "      <td>335.1</td>\n",
              "      <td>165.0</td>\n",
              "      <td>110.929</td>\n",
              "      <td>1950</td>\n",
              "      <td>61.187</td>\n",
              "    </tr>\n",
              "    <tr>\n",
              "      <th>3</th>\n",
              "      <td>96.2</td>\n",
              "      <td>328.975</td>\n",
              "      <td>209.9</td>\n",
              "      <td>309.9</td>\n",
              "      <td>112.075</td>\n",
              "      <td>1951</td>\n",
              "      <td>63.221</td>\n",
              "    </tr>\n",
              "    <tr>\n",
              "      <th>4</th>\n",
              "      <td>98.1</td>\n",
              "      <td>346.999</td>\n",
              "      <td>193.2</td>\n",
              "      <td>359.4</td>\n",
              "      <td>113.270</td>\n",
              "      <td>1952</td>\n",
              "      <td>63.639</td>\n",
              "    </tr>\n",
              "  </tbody>\n",
              "</table>\n",
              "</div>\n",
              "      <button class=\"colab-df-convert\" onclick=\"convertToInteractive('df-33c9ab33-2da5-4f2b-8818-21999ca06fcc')\"\n",
              "              title=\"Convert this dataframe to an interactive table.\"\n",
              "              style=\"display:none;\">\n",
              "        \n",
              "  <svg xmlns=\"http://www.w3.org/2000/svg\" height=\"24px\"viewBox=\"0 0 24 24\"\n",
              "       width=\"24px\">\n",
              "    <path d=\"M0 0h24v24H0V0z\" fill=\"none\"/>\n",
              "    <path d=\"M18.56 5.44l.94 2.06.94-2.06 2.06-.94-2.06-.94-.94-2.06-.94 2.06-2.06.94zm-11 1L8.5 8.5l.94-2.06 2.06-.94-2.06-.94L8.5 2.5l-.94 2.06-2.06.94zm10 10l.94 2.06.94-2.06 2.06-.94-2.06-.94-.94-2.06-.94 2.06-2.06.94z\"/><path d=\"M17.41 7.96l-1.37-1.37c-.4-.4-.92-.59-1.43-.59-.52 0-1.04.2-1.43.59L10.3 9.45l-7.72 7.72c-.78.78-.78 2.05 0 2.83L4 21.41c.39.39.9.59 1.41.59.51 0 1.02-.2 1.41-.59l7.78-7.78 2.81-2.81c.8-.78.8-2.07 0-2.86zM5.41 20L4 18.59l7.72-7.72 1.47 1.35L5.41 20z\"/>\n",
              "  </svg>\n",
              "      </button>\n",
              "      \n",
              "  <style>\n",
              "    .colab-df-container {\n",
              "      display:flex;\n",
              "      flex-wrap:wrap;\n",
              "      gap: 12px;\n",
              "    }\n",
              "\n",
              "    .colab-df-convert {\n",
              "      background-color: #E8F0FE;\n",
              "      border: none;\n",
              "      border-radius: 50%;\n",
              "      cursor: pointer;\n",
              "      display: none;\n",
              "      fill: #1967D2;\n",
              "      height: 32px;\n",
              "      padding: 0 0 0 0;\n",
              "      width: 32px;\n",
              "    }\n",
              "\n",
              "    .colab-df-convert:hover {\n",
              "      background-color: #E2EBFA;\n",
              "      box-shadow: 0px 1px 2px rgba(60, 64, 67, 0.3), 0px 1px 3px 1px rgba(60, 64, 67, 0.15);\n",
              "      fill: #174EA6;\n",
              "    }\n",
              "\n",
              "    [theme=dark] .colab-df-convert {\n",
              "      background-color: #3B4455;\n",
              "      fill: #D2E3FC;\n",
              "    }\n",
              "\n",
              "    [theme=dark] .colab-df-convert:hover {\n",
              "      background-color: #434B5C;\n",
              "      box-shadow: 0px 1px 3px 1px rgba(0, 0, 0, 0.15);\n",
              "      filter: drop-shadow(0px 1px 2px rgba(0, 0, 0, 0.3));\n",
              "      fill: #FFFFFF;\n",
              "    }\n",
              "  </style>\n",
              "\n",
              "      <script>\n",
              "        const buttonEl =\n",
              "          document.querySelector('#df-33c9ab33-2da5-4f2b-8818-21999ca06fcc button.colab-df-convert');\n",
              "        buttonEl.style.display =\n",
              "          google.colab.kernel.accessAllowed ? 'block' : 'none';\n",
              "\n",
              "        async function convertToInteractive(key) {\n",
              "          const element = document.querySelector('#df-33c9ab33-2da5-4f2b-8818-21999ca06fcc');\n",
              "          const dataTable =\n",
              "            await google.colab.kernel.invokeFunction('convertToInteractive',\n",
              "                                                     [key], {});\n",
              "          if (!dataTable) return;\n",
              "\n",
              "          const docLinkHtml = 'Like what you see? Visit the ' +\n",
              "            '<a target=\"_blank\" href=https://colab.research.google.com/notebooks/data_table.ipynb>data table notebook</a>'\n",
              "            + ' to learn more about interactive tables.';\n",
              "          element.innerHTML = '';\n",
              "          dataTable['output_type'] = 'display_data';\n",
              "          await google.colab.output.renderOutput(dataTable, element);\n",
              "          const docLink = document.createElement('div');\n",
              "          docLink.innerHTML = docLinkHtml;\n",
              "          element.appendChild(docLink);\n",
              "        }\n",
              "      </script>\n",
              "    </div>\n",
              "  </div>\n",
              "  "
            ]
          },
          "metadata": {},
          "execution_count": 29
        }
      ]
    },
    {
      "cell_type": "markdown",
      "source": [
        "## Convet pandas dataframe into numpy array"
      ],
      "metadata": {
        "id": "KpkTxWxSjRBA"
      }
    },
    {
      "cell_type": "code",
      "source": [
        "data = df.values\n",
        "x = data[:,4]\n",
        "y = data[:,-1] \n",
        "x,y"
      ],
      "metadata": {
        "colab": {
          "base_uri": "https://localhost:8080/"
        },
        "id": "q8RbjbVyi13q",
        "outputId": "39ec8ba6-dadf-4d2d-db8c-de9bb7cd8728"
      },
      "execution_count": null,
      "outputs": [
        {
          "output_type": "execute_result",
          "data": {
            "text/plain": [
              "(array([108.632, 109.773, 110.929, 112.075, 113.27 , 115.094, 116.219,\n",
              "        117.388, 118.734, 120.445, 121.95 , 123.366, 125.368, 127.852,\n",
              "        130.081]),\n",
              " array([61.122, 60.171, 61.187, 63.221, 63.639, 64.989, 63.761, 66.019,\n",
              "        67.857, 68.169, 66.513, 68.655, 69.564, 69.331, 70.551]))"
            ]
          },
          "metadata": {},
          "execution_count": 30
        }
      ]
    },
    {
      "cell_type": "markdown",
      "source": [
        "## define function to calculate intercept and slope"
      ],
      "metadata": {
        "id": "1dqvdoo9jipi"
      }
    },
    {
      "cell_type": "code",
      "source": [
        "def slope_intercept(x,y):\n",
        "  slope = ((np.mean(x)*np.mean(y)) - np.mean(x*y))/((np.mean(x)*np.mean(x)) - np.mean(x*x))\n",
        "  intercept = np.mean(y) - slope*np.mean(x)\n",
        "  return [slope,intercept]\n"
      ],
      "metadata": {
        "id": "rDyojI4Yi2O9"
      },
      "execution_count": null,
      "outputs": []
    },
    {
      "cell_type": "code",
      "source": [
        "m, c = slope_intercept(x,y)\n",
        "m, c"
      ],
      "metadata": {
        "colab": {
          "base_uri": "https://localhost:8080/"
        },
        "id": "YACtdRMfi2ZJ",
        "outputId": "7330a535-0a76-48bb-f84d-eac11d241d24"
      },
      "execution_count": null,
      "outputs": [
        {
          "output_type": "execute_result",
          "data": {
            "text/plain": [
              "(0.48093826579213933, 8.861512409822794)"
            ]
          },
          "metadata": {},
          "execution_count": 32
        }
      ]
    },
    {
      "cell_type": "markdown",
      "source": [
        "## Build Regrassion Line"
      ],
      "metadata": {
        "id": "RsqAYK9Dj05b"
      }
    },
    {
      "cell_type": "code",
      "source": [
        "# y = (m*x)+c\n",
        "regression_line = [((m*i)+c) for i in x]\n",
        "regression_line[0:10]"
      ],
      "metadata": {
        "colab": {
          "base_uri": "https://localhost:8080/"
        },
        "id": "4p9LTPG5i2f5",
        "outputId": "4f79ed0b-5387-4cf1-c6f2-b889a771eee4"
      },
      "execution_count": null,
      "outputs": [
        {
          "output_type": "execute_result",
          "data": {
            "text/plain": [
              "[61.10679809935448,\n",
              " 61.6555486606233,\n",
              " 62.211513295879016,\n",
              " 62.76266854847681,\n",
              " 63.33738977609841,\n",
              " 64.21462117290326,\n",
              " 64.75567672191943,\n",
              " 65.31789355463044,\n",
              " 65.96523646038666,\n",
              " 66.78812183315702]"
            ]
          },
          "metadata": {},
          "execution_count": 33
        }
      ]
    },
    {
      "cell_type": "code",
      "source": [
        "import matplotlib.pyplot as plt\n",
        "from matplotlib import style"
      ],
      "metadata": {
        "id": "r0uns6vxkDT9"
      },
      "execution_count": null,
      "outputs": []
    },
    {
      "cell_type": "markdown",
      "source": [
        "## plote regression line and data samples"
      ],
      "metadata": {
        "id": "rB9L4IIDj978"
      }
    },
    {
      "cell_type": "code",
      "source": [
        "style.use('ggplot')\n",
        "plt.scatter(x,y,color = \"red\",label=\"data\")\n",
        "plt.plot(x,regression_line,color = \"green\",label=\"regression_line\")\n",
        "plt.legend(loc=4)\n",
        "plt.title(\"Line Plote\")\n",
        "plt.show()"
      ],
      "metadata": {
        "colab": {
          "base_uri": "https://localhost:8080/"
        },
        "id": "AzMp-7SGkJaS",
        "outputId": "48f39e87-ea2e-441d-928e-db86c269609d"
      },
      "execution_count": null,
      "outputs": [
        {
          "output_type": "display_data",
          "data": {
            "text/plain": [
              "<Figure size 432x288 with 1 Axes>"
            ],
            "image/png": "[encoded data removed]"
          },
          "metadata": {}
        }
      ]
    },
    {
      "cell_type": "markdown",
      "source": [
        "## Predict the Value"
      ],
      "metadata": {
        "id": "yg_20y7MkTDL"
      }
    },
    {
      "cell_type": "code",
      "source": [
        "px = 120\n",
        "py = (m*px)+c\n",
        "py"
      ],
      "metadata": {
        "colab": {
          "base_uri": "https://localhost:8080/"
        },
        "id": "rG6vAjSskXCI",
        "outputId": "181fbf88-eb64-4e61-b43f-9611b96c2ed6"
      },
      "execution_count": null,
      "outputs": [
        {
          "output_type": "execute_result",
          "data": {
            "text/plain": [
              "66.57410430487951"
            ]
          },
          "metadata": {},
          "execution_count": 36
        }
      ]
    },
    {
      "cell_type": "markdown",
      "source": [
        "# 2. Linear Regrassion"
      ],
      "metadata": {
        "id": "YfbrEFx1kcVH"
      }
    },
    {
      "cell_type": "code",
      "source": [
        "import tensorflow as tf\n",
        "import numpy as np\n",
        "import pandas as pd \n",
        "import matplotlib.pyplot as plt\n",
        "from sklearn.model_selection import train_test_split"
      ],
      "metadata": {
        "id": "5L3UefXSk0Hf"
      },
      "execution_count": null,
      "outputs": []
    },
    {
      "cell_type": "markdown",
      "source": [
        "## Import Data"
      ],
      "metadata": {
        "id": "sgQRtgrFk2BP"
      }
    },
    {
      "cell_type": "code",
      "source": [
        "data = pd.read_csv('/content/drive/MyDrive/Colab Notebooks/Iris.csv')\n",
        "data.head()"
      ],
      "metadata": {
        "colab": {
          "base_uri": "https://localhost:8080/",
          "height": 206
        },
        "id": "hwS46hb4k5ce",
        "outputId": "8046b237-db79-46c7-ec5c-d9362e2c7261"
      },
      "execution_count": null,
      "outputs": [
        {
          "output_type": "execute_result",
          "data": {
            "text/plain": [
              "   Id  SepalLengthCm  SepalWidthCm  PetalLengthCm  PetalWidthCm      Species\n",
              "0   1            5.1           3.5            1.4           0.2  Iris-setosa\n",
              "1   2            4.9           3.0            1.4           0.2  Iris-setosa\n",
              "2   3            4.7           3.2            1.3           0.2  Iris-setosa\n",
              "3   4            4.6           3.1            1.5           0.2  Iris-setosa\n",
              "4   5            5.0           3.6            1.4           0.2  Iris-setosa"
            ],
            "text/html": [
              "\n",
              "  <div id=\"df-6e2cfb95-f8a0-44d6-a759-c8541382336b\">\n",
              "    <div class=\"colab-df-container\">\n",
              "      <div>\n",
              "<style scoped>\n",
              "    .dataframe tbody tr th:only-of-type {\n",
              "        vertical-align: middle;\n",
              "    }\n",
              "\n",
              "    .dataframe tbody tr th {\n",
              "        vertical-align: top;\n",
              "    }\n",
              "\n",
              "    .dataframe thead th {\n",
              "        text-align: right;\n",
              "    }\n",
              "</style>\n",
              "<table border=\"1\" class=\"dataframe\">\n",
              "  <thead>\n",
              "    <tr style=\"text-align: right;\">\n",
              "      <th></th>\n",
              "      <th>Id</th>\n",
              "      <th>SepalLengthCm</th>\n",
              "      <th>SepalWidthCm</th>\n",
              "      <th>PetalLengthCm</th>\n",
              "      <th>PetalWidthCm</th>\n",
              "      <th>Species</th>\n",
              "    </tr>\n",
              "  </thead>\n",
              "  <tbody>\n",
              "    <tr>\n",
              "      <th>0</th>\n",
              "      <td>1</td>\n",
              "      <td>5.1</td>\n",
              "      <td>3.5</td>\n",
              "      <td>1.4</td>\n",
              "      <td>0.2</td>\n",
              "      <td>Iris-setosa</td>\n",
              "    </tr>\n",
              "    <tr>\n",
              "      <th>1</th>\n",
              "      <td>2</td>\n",
              "      <td>4.9</td>\n",
              "      <td>3.0</td>\n",
              "      <td>1.4</td>\n",
              "      <td>0.2</td>\n",
              "      <td>Iris-setosa</td>\n",
              "    </tr>\n",
              "    <tr>\n",
              "      <th>2</th>\n",
              "      <td>3</td>\n",
              "      <td>4.7</td>\n",
              "      <td>3.2</td>\n",
              "      <td>1.3</td>\n",
              "      <td>0.2</td>\n",
              "      <td>Iris-setosa</td>\n",
              "    </tr>\n",
              "    <tr>\n",
              "      <th>3</th>\n",
              "      <td>4</td>\n",
              "      <td>4.6</td>\n",
              "      <td>3.1</td>\n",
              "      <td>1.5</td>\n",
              "      <td>0.2</td>\n",
              "      <td>Iris-setosa</td>\n",
              "    </tr>\n",
              "    <tr>\n",
              "      <th>4</th>\n",
              "      <td>5</td>\n",
              "      <td>5.0</td>\n",
              "      <td>3.6</td>\n",
              "      <td>1.4</td>\n",
              "      <td>0.2</td>\n",
              "      <td>Iris-setosa</td>\n",
              "    </tr>\n",
              "  </tbody>\n",
              "</table>\n",
              "</div>\n",
              "      <button class=\"colab-df-convert\" onclick=\"convertToInteractive('df-6e2cfb95-f8a0-44d6-a759-c8541382336b')\"\n",
              "              title=\"Convert this dataframe to an interactive table.\"\n",
              "              style=\"display:none;\">\n",
              "        \n",
              "  <svg xmlns=\"http://www.w3.org/2000/svg\" height=\"24px\"viewBox=\"0 0 24 24\"\n",
              "       width=\"24px\">\n",
              "    <path d=\"M0 0h24v24H0V0z\" fill=\"none\"/>\n",
              "    <path d=\"M18.56 5.44l.94 2.06.94-2.06 2.06-.94-2.06-.94-.94-2.06-.94 2.06-2.06.94zm-11 1L8.5 8.5l.94-2.06 2.06-.94-2.06-.94L8.5 2.5l-.94 2.06-2.06.94zm10 10l.94 2.06.94-2.06 2.06-.94-2.06-.94-.94-2.06-.94 2.06-2.06.94z\"/><path d=\"M17.41 7.96l-1.37-1.37c-.4-.4-.92-.59-1.43-.59-.52 0-1.04.2-1.43.59L10.3 9.45l-7.72 7.72c-.78.78-.78 2.05 0 2.83L4 21.41c.39.39.9.59 1.41.59.51 0 1.02-.2 1.41-.59l7.78-7.78 2.81-2.81c.8-.78.8-2.07 0-2.86zM5.41 20L4 18.59l7.72-7.72 1.47 1.35L5.41 20z\"/>\n",
              "  </svg>\n",
              "      </button>\n",
              "      \n",
              "  <style>\n",
              "    .colab-df-container {\n",
              "      display:flex;\n",
              "      flex-wrap:wrap;\n",
              "      gap: 12px;\n",
              "    }\n",
              "\n",
              "    .colab-df-convert {\n",
              "      background-color: #E8F0FE;\n",
              "      border: none;\n",
              "      border-radius: 50%;\n",
              "      cursor: pointer;\n",
              "      display: none;\n",
              "      fill: #1967D2;\n",
              "      height: 32px;\n",
              "      padding: 0 0 0 0;\n",
              "      width: 32px;\n",
              "    }\n",
              "\n",
              "    .colab-df-convert:hover {\n",
              "      background-color: #E2EBFA;\n",
              "      box-shadow: 0px 1px 2px rgba(60, 64, 67, 0.3), 0px 1px 3px 1px rgba(60, 64, 67, 0.15);\n",
              "      fill: #174EA6;\n",
              "    }\n",
              "\n",
              "    [theme=dark] .colab-df-convert {\n",
              "      background-color: #3B4455;\n",
              "      fill: #D2E3FC;\n",
              "    }\n",
              "\n",
              "    [theme=dark] .colab-df-convert:hover {\n",
              "      background-color: #434B5C;\n",
              "      box-shadow: 0px 1px 3px 1px rgba(0, 0, 0, 0.15);\n",
              "      filter: drop-shadow(0px 1px 2px rgba(0, 0, 0, 0.3));\n",
              "      fill: #FFFFFF;\n",
              "    }\n",
              "  </style>\n",
              "\n",
              "      <script>\n",
              "        const buttonEl =\n",
              "          document.querySelector('#df-6e2cfb95-f8a0-44d6-a759-c8541382336b button.colab-df-convert');\n",
              "        buttonEl.style.display =\n",
              "          google.colab.kernel.accessAllowed ? 'block' : 'none';\n",
              "\n",
              "        async function convertToInteractive(key) {\n",
              "          const element = document.querySelector('#df-6e2cfb95-f8a0-44d6-a759-c8541382336b');\n",
              "          const dataTable =\n",
              "            await google.colab.kernel.invokeFunction('convertToInteractive',\n",
              "                                                     [key], {});\n",
              "          if (!dataTable) return;\n",
              "\n",
              "          const docLinkHtml = 'Like what you see? Visit the ' +\n",
              "            '<a target=\"_blank\" href=https://colab.research.google.com/notebooks/data_table.ipynb>data table notebook</a>'\n",
              "            + ' to learn more about interactive tables.';\n",
              "          element.innerHTML = '';\n",
              "          dataTable['output_type'] = 'display_data';\n",
              "          await google.colab.output.renderOutput(dataTable, element);\n",
              "          const docLink = document.createElement('div');\n",
              "          docLink.innerHTML = docLinkHtml;\n",
              "          element.appendChild(docLink);\n",
              "        }\n",
              "      </script>\n",
              "    </div>\n",
              "  </div>\n",
              "  "
            ]
          },
          "metadata": {},
          "execution_count": 38
        }
      ]
    },
    {
      "cell_type": "markdown",
      "source": [
        "## Data Cleaning and Normalization"
      ],
      "metadata": {
        "id": "xS3tcmbRlHHP"
      }
    },
    {
      "cell_type": "code",
      "source": [
        "data['Species'] =  pd.factorize(data['Species'])[0]+1\n",
        "data.head(),data['Species'].value_counts()"
      ],
      "metadata": {
        "colab": {
          "base_uri": "https://localhost:8080/"
        },
        "id": "F0IehfVQlNHq",
        "outputId": "afa47c13-a839-4a1b-fc85-a1098890eb39"
      },
      "execution_count": null,
      "outputs": [
        {
          "output_type": "execute_result",
          "data": {
            "text/plain": [
              "(   Id  SepalLengthCm  SepalWidthCm  PetalLengthCm  PetalWidthCm  Species\n",
              " 0   1            5.1           3.5            1.4           0.2        1\n",
              " 1   2            4.9           3.0            1.4           0.2        1\n",
              " 2   3            4.7           3.2            1.3           0.2        1\n",
              " 3   4            4.6           3.1            1.5           0.2        1\n",
              " 4   5            5.0           3.6            1.4           0.2        1,\n",
              " 1    50\n",
              " 2    50\n",
              " 3    50\n",
              " Name: Species, dtype: int64)"
            ]
          },
          "metadata": {},
          "execution_count": 39
        }
      ]
    },
    {
      "cell_type": "code",
      "source": [
        "data = data.values\n",
        "x = data[:,4]\n",
        "y = data[:,5]\n",
        "x,y"
      ],
      "metadata": {
        "colab": {
          "base_uri": "https://localhost:8080/"
        },
        "id": "KhzXvdIHlSu7",
        "outputId": "2e7970dd-4adf-410d-9a8c-adda76fe4663"
      },
      "execution_count": null,
      "outputs": [
        {
          "output_type": "execute_result",
          "data": {
            "text/plain": [
              "(array([0.2, 0.2, 0.2, 0.2, 0.2, 0.4, 0.3, 0.2, 0.2, 0.1, 0.2, 0.2, 0.1,\n",
              "        0.1, 0.2, 0.4, 0.4, 0.3, 0.3, 0.3, 0.2, 0.4, 0.2, 0.5, 0.2, 0.2,\n",
              "        0.4, 0.2, 0.2, 0.2, 0.2, 0.4, 0.1, 0.2, 0.1, 0.2, 0.2, 0.1, 0.2,\n",
              "        0.2, 0.3, 0.3, 0.2, 0.6, 0.4, 0.3, 0.2, 0.2, 0.2, 0.2, 1.4, 1.5,\n",
              "        1.5, 1.3, 1.5, 1.3, 1.6, 1. , 1.3, 1.4, 1. , 1.5, 1. , 1.4, 1.3,\n",
              "        1.4, 1.5, 1. , 1.5, 1.1, 1.8, 1.3, 1.5, 1.2, 1.3, 1.4, 1.4, 1.7,\n",
              "        1.5, 1. , 1.1, 1. , 1.2, 1.6, 1.5, 1.6, 1.5, 1.3, 1.3, 1.3, 1.2,\n",
              "        1.4, 1.2, 1. , 1.3, 1.2, 1.3, 1.3, 1.1, 1.3, 2.5, 1.9, 2.1, 1.8,\n",
              "        2.2, 2.1, 1.7, 1.8, 1.8, 2.5, 2. , 1.9, 2.1, 2. , 2.4, 2.3, 1.8,\n",
              "        2.2, 2.3, 1.5, 2.3, 2. , 2. , 1.8, 2.1, 1.8, 1.8, 1.8, 2.1, 1.6,\n",
              "        1.9, 2. , 2.2, 1.5, 1.4, 2.3, 2.4, 1.8, 1.8, 2.1, 2.4, 2.3, 1.9,\n",
              "        2.3, 2.5, 2.3, 1.9, 2. , 2.3, 1.8]),\n",
              " array([1., 1., 1., 1., 1., 1., 1., 1., 1., 1., 1., 1., 1., 1., 1., 1., 1.,\n",
              "        1., 1., 1., 1., 1., 1., 1., 1., 1., 1., 1., 1., 1., 1., 1., 1., 1.,\n",
              "        1., 1., 1., 1., 1., 1., 1., 1., 1., 1., 1., 1., 1., 1., 1., 1., 2.,\n",
              "        2., 2., 2., 2., 2., 2., 2., 2., 2., 2., 2., 2., 2., 2., 2., 2., 2.,\n",
              "        2., 2., 2., 2., 2., 2., 2., 2., 2., 2., 2., 2., 2., 2., 2., 2., 2.,\n",
              "        2., 2., 2., 2., 2., 2., 2., 2., 2., 2., 2., 2., 2., 2., 2., 3., 3.,\n",
              "        3., 3., 3., 3., 3., 3., 3., 3., 3., 3., 3., 3., 3., 3., 3., 3., 3.,\n",
              "        3., 3., 3., 3., 3., 3., 3., 3., 3., 3., 3., 3., 3., 3., 3., 3., 3.,\n",
              "        3., 3., 3., 3., 3., 3., 3., 3., 3., 3., 3., 3., 3., 3.]))"
            ]
          },
          "metadata": {},
          "execution_count": 40
        }
      ]
    },
    {
      "cell_type": "markdown",
      "source": [
        "## Split data for Training and Testing"
      ],
      "metadata": {
        "id": "LNdrGlB5lV8a"
      }
    },
    {
      "cell_type": "code",
      "source": [
        "x_train,x_test,y_train,y_test = train_test_split(x,y,test_size = 0.2,random_state=0)\n",
        "x_test,y_test"
      ],
      "metadata": {
        "colab": {
          "base_uri": "https://localhost:8080/"
        },
        "id": "laUPIzkHlcXg",
        "outputId": "90a3631c-28d0-49d9-dfed-606d21ce75ed"
      },
      "execution_count": null,
      "outputs": [
        {
          "output_type": "execute_result",
          "data": {
            "text/plain": [
              "(array([2.4, 1. , 0.2, 1.8, 0.2, 2.5, 0.3, 1.5, 1.4, 1.3, 1.4, 1.5, 1.2,\n",
              "        1.5, 1.4, 0.1, 1.5, 1.2, 0.3, 0.4, 2. , 1.5, 0.2, 0.2, 1.8, 0.2,\n",
              "        0.4, 1.3, 1. , 0.4]),\n",
              " array([3., 2., 1., 3., 1., 3., 1., 2., 2., 2., 3., 2., 2., 2., 2., 1., 2.,\n",
              "        2., 1., 1., 3., 2., 1., 1., 3., 1., 1., 2., 2., 1.]))"
            ]
          },
          "metadata": {},
          "execution_count": 41
        }
      ]
    },
    {
      "cell_type": "markdown",
      "source": [
        "## Creat Model and fit the data"
      ],
      "metadata": {
        "id": "WGlD1Qt-lgy6"
      }
    },
    {
      "cell_type": "code",
      "source": [
        "model = tf.keras.models.Sequential([tf.keras.layers.Dense(1,input_dim=1),tf.keras.layers.Dense(10,activation=tf.nn.sigmoid),tf.keras.layers.Dense(1)])"
      ],
      "metadata": {
        "id": "ybNt7obslfdi"
      },
      "execution_count": null,
      "outputs": []
    },
    {
      "cell_type": "code",
      "source": [
        "model.summary()"
      ],
      "metadata": {
        "colab": {
          "base_uri": "https://localhost:8080/"
        },
        "id": "qYHfEVXtlpkK",
        "outputId": "c8053834-d366-46db-a59c-6e51de5be752"
      },
      "execution_count": null,
      "outputs": [
        {
          "output_type": "stream",
          "name": "stdout",
          "text": [
            "Model: \"sequential_1\"\n",
            "_________________________________________________________________\n",
            " Layer (type)                Output Shape              Param #   \n",
            "=================================================================\n",
            " dense_3 (Dense)             (None, 1)                 2         \n",
            "                                                                 \n",
            " dense_4 (Dense)             (None, 10)                20        \n",
            "                                                                 \n",
            " dense_5 (Dense)             (None, 1)                 11        \n",
            "                                                                 \n",
            "=================================================================\n",
            "Total params: 33\n",
            "Trainable params: 33\n",
            "Non-trainable params: 0\n",
            "_________________________________________________________________\n"
          ]
        }
      ]
    },
    {
      "cell_type": "code",
      "source": [
        "model.compile(optimizer=tf.keras.optimizers.Adam(learning_rate=0.1),loss=tf.keras.losses.mean_squared_error,metrics=[tf.keras.metrics.MeanSquaredError()])"
      ],
      "metadata": {
        "id": "rffK2h74lwTA"
      },
      "execution_count": null,
      "outputs": []
    },
    {
      "cell_type": "code",
      "source": [
        "model.fit(x_train,y_train,epochs=1000,verbose=1)"
      ],
      "metadata": {
        "colab": {
          "base_uri": "https://localhost:8080/"
        },
        "id": "0RlbIBBjl7IL",
        "outputId": "22b99392-c500-44ed-c99d-4921591ff3e5"
      },
      "execution_count": null,
      "outputs": [
        {
          "output_type": "stream",
          "name": "stdout",
          "text": [
            "Epoch 1/1000\n",
            "4/4 [==============================] - 0s 4ms/step - loss: 3.9973 - mean_squared_error: 3.9973\n",
            "Epoch 2/1000\n",
            "4/4 [==============================] - 0s 4ms/step - loss: 1.2316 - mean_squared_error: 1.2316\n",
            "Epoch 3/1000\n",
            "4/4 [==============================] - 0s 5ms/step - loss: 1.3449 - mean_squared_error: 1.3449\n",
            "Epoch 4/1000\n",
            "4/4 [==============================] - 0s 3ms/step - loss: 0.3055 - mean_squared_error: 0.3055\n",
            "Epoch 5/1000\n",
            "4/4 [==============================] - 0s 4ms/step - loss: 0.6276 - mean_squared_error: 0.6276\n",
            "Epoch 6/1000\n",
            "4/4 [==============================] - 0s 5ms/step - loss: 0.3870 - mean_squared_error: 0.3870\n",
            "Epoch 7/1000\n",
            "4/4 [==============================] - 0s 5ms/step - loss: 0.1332 - mean_squared_error: 0.1332\n",
            "Epoch 8/1000\n",
            "4/4 [==============================] - 0s 4ms/step - loss: 0.2185 - mean_squared_error: 0.2185\n",
            "Epoch 9/1000\n",
            "4/4 [==============================] - 0s 4ms/step - loss: 0.1185 - mean_squared_error: 0.1185\n",
            "Epoch 10/1000\n",
            "4/4 [==============================] - 0s 4ms/step - loss: 0.1052 - mean_squared_error: 0.1052\n",
            "Epoch 11/1000\n",
            "4/4 [==============================] - 0s 4ms/step - loss: 0.1179 - mean_squared_error: 0.1179\n",
            "Epoch 12/1000\n",
            "4/4 [==============================] - 0s 3ms/step - loss: 0.0839 - mean_squared_error: 0.0839\n",
            "Epoch 13/1000\n",
            "4/4 [==============================] - 0s 4ms/step - loss: 0.0837 - mean_squared_error: 0.0837\n",
            "Epoch 14/1000\n",
            "4/4 [==============================] - 0s 4ms/step - loss: 0.0683 - mean_squared_error: 0.0683\n",
            "Epoch 15/1000\n",
            "4/4 [==============================] - 0s 4ms/step - loss: 0.0649 - mean_squared_error: 0.0649\n",
            "Epoch 16/1000\n",
            "4/4 [==============================] - 0s 5ms/step - loss: 0.0594 - mean_squared_error: 0.0594\n",
            "Epoch 17/1000\n",
            "4/4 [==============================] - 0s 4ms/step - loss: 0.0587 - mean_squared_error: 0.0587\n",
            "Epoch 18/1000\n",
            "4/4 [==============================] - 0s 3ms/step - loss: 0.0563 - mean_squared_error: 0.0563\n",
            "Epoch 19/1000\n",
            "4/4 [==============================] - 0s 3ms/step - loss: 0.0529 - mean_squared_error: 0.0529\n",
            "Epoch 20/1000\n",
            "4/4 [==============================] - 0s 4ms/step - loss: 0.0521 - mean_squared_error: 0.0521\n",
            "Epoch 21/1000\n",
            "4/4 [==============================] - 0s 4ms/step - loss: 0.0507 - mean_squared_error: 0.0507\n",
            "Epoch 22/1000\n",
            "4/4 [==============================] - 0s 4ms/step - loss: 0.0494 - mean_squared_error: 0.0494\n",
            "Epoch 23/1000\n",
            "4/4 [==============================] - 0s 4ms/step - loss: 0.0520 - mean_squared_error: 0.0520\n",
            "Epoch 24/1000\n",
            "4/4 [==============================] - 0s 6ms/step - loss: 0.0505 - mean_squared_error: 0.0505\n",
            "Epoch 25/1000\n",
            "4/4 [==============================] - 0s 4ms/step - loss: 0.0506 - mean_squared_error: 0.0506\n",
            "Epoch 26/1000\n",
            "4/4 [==============================] - 0s 4ms/step - loss: 0.0498 - mean_squared_error: 0.0498\n",
            "Epoch 27/1000\n",
            "4/4 [==============================] - 0s 4ms/step - loss: 0.0496 - mean_squared_error: 0.0496\n",
            "Epoch 28/1000\n",
            "4/4 [==============================] - 0s 5ms/step - loss: 0.0488 - mean_squared_error: 0.0488\n",
            "Epoch 29/1000\n",
            "4/4 [==============================] - 0s 5ms/step - loss: 0.0507 - mean_squared_error: 0.0507\n",
            "Epoch 30/1000\n",
            "4/4 [==============================] - 0s 5ms/step - loss: 0.0491 - mean_squared_error: 0.0491\n",
            "Epoch 31/1000\n",
            "4/4 [==============================] - 0s 3ms/step - loss: 0.0506 - mean_squared_error: 0.0506\n",
            "Epoch 32/1000\n",
            "4/4 [==============================] - 0s 3ms/step - loss: 0.0484 - mean_squared_error: 0.0484\n",
            "Epoch 33/1000\n",
            "4/4 [==============================] - 0s 3ms/step - loss: 0.0521 - mean_squared_error: 0.0521\n",
            "Epoch 34/1000\n",
            "4/4 [==============================] - 0s 3ms/step - loss: 0.0533 - mean_squared_error: 0.0533\n",
            "Epoch 35/1000\n",
            "4/4 [==============================] - 0s 5ms/step - loss: 0.0518 - mean_squared_error: 0.0518\n",
            "Epoch 36/1000\n",
            "4/4 [==============================] - 0s 4ms/step - loss: 0.0508 - mean_squared_error: 0.0508\n",
            "Epoch 37/1000\n",
            "4/4 [==============================] - 0s 4ms/step - loss: 0.0490 - mean_squared_error: 0.0490\n",
            "Epoch 38/1000\n",
            "4/4 [==============================] - 0s 3ms/step - loss: 0.0485 - mean_squared_error: 0.0485\n",
            "Epoch 39/1000\n",
            "4/4 [==============================] - 0s 3ms/step - loss: 0.0500 - mean_squared_error: 0.0500\n",
            "Epoch 40/1000\n",
            "4/4 [==============================] - 0s 3ms/step - loss: 0.0494 - mean_squared_error: 0.0494\n",
            "Epoch 41/1000\n",
            "4/4 [==============================] - 0s 4ms/step - loss: 0.0491 - mean_squared_error: 0.0491\n",
            "Epoch 42/1000\n",
            "4/4 [==============================] - 0s 3ms/step - loss: 0.0507 - mean_squared_error: 0.0507\n",
            "Epoch 43/1000\n",
            "4/4 [==============================] - 0s 3ms/step - loss: 0.0477 - mean_squared_error: 0.0477\n",
            "Epoch 44/1000\n",
            "4/4 [==============================] - 0s 6ms/step - loss: 0.0507 - mean_squared_error: 0.0507\n",
            "Epoch 45/1000\n",
            "4/4 [==============================] - 0s 4ms/step - loss: 0.0477 - mean_squared_error: 0.0477\n",
            "Epoch 46/1000\n",
            "4/4 [==============================] - 0s 3ms/step - loss: 0.0528 - mean_squared_error: 0.0528\n",
            "Epoch 47/1000\n",
            "4/4 [==============================] - 0s 4ms/step - loss: 0.0488 - mean_squared_error: 0.0488\n",
            "Epoch 48/1000\n",
            "4/4 [==============================] - 0s 4ms/step - loss: 0.0502 - mean_squared_error: 0.0502\n",
            "Epoch 49/1000\n",
            "4/4 [==============================] - 0s 4ms/step - loss: 0.0485 - mean_squared_error: 0.0485\n",
            "Epoch 50/1000\n",
            "4/4 [==============================] - 0s 4ms/step - loss: 0.0482 - mean_squared_error: 0.0482\n",
            "Epoch 51/1000\n",
            "4/4 [==============================] - 0s 4ms/step - loss: 0.0487 - mean_squared_error: 0.0487\n",
            "Epoch 52/1000\n",
            "4/4 [==============================] - 0s 4ms/step - loss: 0.0486 - mean_squared_error: 0.0486\n",
            "Epoch 53/1000\n",
            "4/4 [==============================] - 0s 4ms/step - loss: 0.0501 - mean_squared_error: 0.0501\n",
            "Epoch 54/1000\n",
            "4/4 [==============================] - 0s 4ms/step - loss: 0.0475 - mean_squared_error: 0.0475\n",
            "Epoch 55/1000\n",
            "4/4 [==============================] - 0s 4ms/step - loss: 0.0494 - mean_squared_error: 0.0494\n",
            "Epoch 56/1000\n",
            "4/4 [==============================] - 0s 4ms/step - loss: 0.0518 - mean_squared_error: 0.0518\n",
            "Epoch 57/1000\n",
            "4/4 [==============================] - 0s 4ms/step - loss: 0.0526 - mean_squared_error: 0.0526\n",
            "Epoch 58/1000\n",
            "4/4 [==============================] - 0s 4ms/step - loss: 0.0510 - mean_squared_error: 0.0510\n",
            "Epoch 59/1000\n",
            "4/4 [==============================] - 0s 3ms/step - loss: 0.0507 - mean_squared_error: 0.0507\n",
            "Epoch 60/1000\n",
            "4/4 [==============================] - 0s 4ms/step - loss: 0.0484 - mean_squared_error: 0.0484\n",
            "Epoch 61/1000\n",
            "4/4 [==============================] - 0s 4ms/step - loss: 0.0505 - mean_squared_error: 0.0505\n",
            "Epoch 62/1000\n",
            "4/4 [==============================] - 0s 5ms/step - loss: 0.0486 - mean_squared_error: 0.0486\n",
            "Epoch 63/1000\n",
            "4/4 [==============================] - 0s 5ms/step - loss: 0.0498 - mean_squared_error: 0.0498\n",
            "Epoch 64/1000\n",
            "4/4 [==============================] - 0s 5ms/step - loss: 0.0488 - mean_squared_error: 0.0488\n",
            "Epoch 65/1000\n",
            "4/4 [==============================] - 0s 5ms/step - loss: 0.0488 - mean_squared_error: 0.0488\n",
            "Epoch 66/1000\n",
            "4/4 [==============================] - 0s 4ms/step - loss: 0.0484 - mean_squared_error: 0.0484\n",
            "Epoch 67/1000\n",
            "4/4 [==============================] - 0s 4ms/step - loss: 0.0488 - mean_squared_error: 0.0488\n",
            "Epoch 68/1000\n",
            "4/4 [==============================] - 0s 4ms/step - loss: 0.0485 - mean_squared_error: 0.0485\n",
            "Epoch 69/1000\n",
            "4/4 [==============================] - 0s 4ms/step - loss: 0.0480 - mean_squared_error: 0.0480\n",
            "Epoch 70/1000\n",
            "4/4 [==============================] - 0s 5ms/step - loss: 0.0486 - mean_squared_error: 0.0486\n",
            "Epoch 71/1000\n",
            "4/4 [==============================] - 0s 3ms/step - loss: 0.0482 - mean_squared_error: 0.0482\n",
            "Epoch 72/1000\n",
            "4/4 [==============================] - 0s 5ms/step - loss: 0.0497 - mean_squared_error: 0.0497\n",
            "Epoch 73/1000\n",
            "4/4 [==============================] - 0s 4ms/step - loss: 0.0494 - mean_squared_error: 0.0494\n",
            "Epoch 74/1000\n",
            "4/4 [==============================] - 0s 3ms/step - loss: 0.0487 - mean_squared_error: 0.0487\n",
            "Epoch 75/1000\n",
            "4/4 [==============================] - 0s 3ms/step - loss: 0.0483 - mean_squared_error: 0.0483\n",
            "Epoch 76/1000\n",
            "4/4 [==============================] - 0s 5ms/step - loss: 0.0481 - mean_squared_error: 0.0481\n",
            "Epoch 77/1000\n",
            "4/4 [==============================] - 0s 4ms/step - loss: 0.0487 - mean_squared_error: 0.0487\n",
            "Epoch 78/1000\n",
            "4/4 [==============================] - 0s 4ms/step - loss: 0.0479 - mean_squared_error: 0.0479\n",
            "Epoch 79/1000\n",
            "4/4 [==============================] - 0s 4ms/step - loss: 0.0505 - mean_squared_error: 0.0505\n",
            "Epoch 80/1000\n",
            "4/4 [==============================] - 0s 5ms/step - loss: 0.0496 - mean_squared_error: 0.0496\n",
            "Epoch 81/1000\n",
            "4/4 [==============================] - 0s 4ms/step - loss: 0.0480 - mean_squared_error: 0.0480\n",
            "Epoch 82/1000\n",
            "4/4 [==============================] - 0s 4ms/step - loss: 0.0532 - mean_squared_error: 0.0532\n",
            "Epoch 83/1000\n",
            "4/4 [==============================] - 0s 3ms/step - loss: 0.0582 - mean_squared_error: 0.0582\n",
            "Epoch 84/1000\n",
            "4/4 [==============================] - 0s 4ms/step - loss: 0.0522 - mean_squared_error: 0.0522\n",
            "Epoch 85/1000\n",
            "4/4 [==============================] - 0s 4ms/step - loss: 0.0519 - mean_squared_error: 0.0519\n",
            "Epoch 86/1000\n",
            "4/4 [==============================] - 0s 4ms/step - loss: 0.0538 - mean_squared_error: 0.0538\n",
            "Epoch 87/1000\n",
            "4/4 [==============================] - 0s 3ms/step - loss: 0.0485 - mean_squared_error: 0.0485\n",
            "Epoch 88/1000\n",
            "4/4 [==============================] - 0s 4ms/step - loss: 0.0499 - mean_squared_error: 0.0499\n",
            "Epoch 89/1000\n",
            "4/4 [==============================] - 0s 4ms/step - loss: 0.0523 - mean_squared_error: 0.0523\n",
            "Epoch 90/1000\n",
            "4/4 [==============================] - 0s 4ms/step - loss: 0.0616 - mean_squared_error: 0.0616\n",
            "Epoch 91/1000\n",
            "4/4 [==============================] - 0s 4ms/step - loss: 0.0547 - mean_squared_error: 0.0547\n",
            "Epoch 92/1000\n",
            "4/4 [==============================] - 0s 5ms/step - loss: 0.0530 - mean_squared_error: 0.0530\n",
            "Epoch 93/1000\n",
            "4/4 [==============================] - 0s 5ms/step - loss: 0.0575 - mean_squared_error: 0.0575\n",
            "Epoch 94/1000\n",
            "4/4 [==============================] - 0s 4ms/step - loss: 0.0495 - mean_squared_error: 0.0495\n",
            "Epoch 95/1000\n",
            "4/4 [==============================] - 0s 4ms/step - loss: 0.0481 - mean_squared_error: 0.0481\n",
            "Epoch 96/1000\n",
            "4/4 [==============================] - 0s 5ms/step - loss: 0.0493 - mean_squared_error: 0.0493\n",
            "Epoch 97/1000\n",
            "4/4 [==============================] - 0s 5ms/step - loss: 0.0496 - mean_squared_error: 0.0496\n",
            "Epoch 98/1000\n",
            "4/4 [==============================] - 0s 4ms/step - loss: 0.0485 - mean_squared_error: 0.0485\n",
            "Epoch 99/1000\n",
            "4/4 [==============================] - 0s 4ms/step - loss: 0.0504 - mean_squared_error: 0.0504\n",
            "Epoch 100/1000\n",
            "4/4 [==============================] - 0s 4ms/step - loss: 0.0498 - mean_squared_error: 0.0498\n",
            "Epoch 101/1000\n",
            "4/4 [==============================] - 0s 4ms/step - loss: 0.0521 - mean_squared_error: 0.0521\n",
            "Epoch 102/1000\n",
            "4/4 [==============================] - 0s 4ms/step - loss: 0.0498 - mean_squared_error: 0.0498\n",
            "Epoch 103/1000\n",
            "4/4 [==============================] - 0s 4ms/step - loss: 0.0490 - mean_squared_error: 0.0490\n",
            "Epoch 104/1000\n",
            "4/4 [==============================] - 0s 4ms/step - loss: 0.0495 - mean_squared_error: 0.0495\n",
            "Epoch 105/1000\n",
            "4/4 [==============================] - 0s 3ms/step - loss: 0.0494 - mean_squared_error: 0.0494\n",
            "Epoch 106/1000\n",
            "4/4 [==============================] - 0s 4ms/step - loss: 0.0491 - mean_squared_error: 0.0491\n",
            "Epoch 107/1000\n",
            "4/4 [==============================] - 0s 4ms/step - loss: 0.0512 - mean_squared_error: 0.0512\n",
            "Epoch 108/1000\n",
            "4/4 [==============================] - 0s 4ms/step - loss: 0.0524 - mean_squared_error: 0.0524\n",
            "Epoch 109/1000\n",
            "4/4 [==============================] - 0s 4ms/step - loss: 0.0512 - mean_squared_error: 0.0512\n",
            "Epoch 110/1000\n",
            "4/4 [==============================] - 0s 4ms/step - loss: 0.0468 - mean_squared_error: 0.0468\n",
            "Epoch 111/1000\n",
            "4/4 [==============================] - 0s 5ms/step - loss: 0.0523 - mean_squared_error: 0.0523\n",
            "Epoch 112/1000\n",
            "4/4 [==============================] - 0s 5ms/step - loss: 0.0496 - mean_squared_error: 0.0496\n",
            "Epoch 113/1000\n",
            "4/4 [==============================] - 0s 6ms/step - loss: 0.0526 - mean_squared_error: 0.0526\n",
            "Epoch 114/1000\n",
            "4/4 [==============================] - 0s 4ms/step - loss: 0.0482 - mean_squared_error: 0.0482\n",
            "Epoch 115/1000\n",
            "4/4 [==============================] - 0s 6ms/step - loss: 0.0500 - mean_squared_error: 0.0500\n",
            "Epoch 116/1000\n",
            "4/4 [==============================] - 0s 4ms/step - loss: 0.0483 - mean_squared_error: 0.0483\n",
            "Epoch 117/1000\n",
            "4/4 [==============================] - 0s 5ms/step - loss: 0.0507 - mean_squared_error: 0.0507\n",
            "Epoch 118/1000\n",
            "4/4 [==============================] - 0s 5ms/step - loss: 0.0477 - mean_squared_error: 0.0477\n",
            "Epoch 119/1000\n",
            "4/4 [==============================] - 0s 4ms/step - loss: 0.0490 - mean_squared_error: 0.0490\n",
            "Epoch 120/1000\n",
            "4/4 [==============================] - 0s 6ms/step - loss: 0.0511 - mean_squared_error: 0.0511\n",
            "Epoch 121/1000\n",
            "4/4 [==============================] - 0s 6ms/step - loss: 0.0492 - mean_squared_error: 0.0492\n",
            "Epoch 122/1000\n",
            "4/4 [==============================] - 0s 4ms/step - loss: 0.0481 - mean_squared_error: 0.0481\n",
            "Epoch 123/1000\n",
            "4/4 [==============================] - 0s 5ms/step - loss: 0.0488 - mean_squared_error: 0.0488\n",
            "Epoch 124/1000\n",
            "4/4 [==============================] - 0s 4ms/step - loss: 0.0483 - mean_squared_error: 0.0483\n",
            "Epoch 125/1000\n",
            "4/4 [==============================] - 0s 3ms/step - loss: 0.0492 - mean_squared_error: 0.0492\n",
            "Epoch 126/1000\n",
            "4/4 [==============================] - 0s 3ms/step - loss: 0.0491 - mean_squared_error: 0.0491\n",
            "Epoch 127/1000\n",
            "4/4 [==============================] - 0s 4ms/step - loss: 0.0509 - mean_squared_error: 0.0509\n",
            "Epoch 128/1000\n",
            "4/4 [==============================] - 0s 4ms/step - loss: 0.0499 - mean_squared_error: 0.0499\n",
            "Epoch 129/1000\n",
            "4/4 [==============================] - 0s 4ms/step - loss: 0.0527 - mean_squared_error: 0.0527\n",
            "Epoch 130/1000\n",
            "4/4 [==============================] - 0s 4ms/step - loss: 0.0503 - mean_squared_error: 0.0503\n",
            "Epoch 131/1000\n",
            "4/4 [==============================] - 0s 4ms/step - loss: 0.0492 - mean_squared_error: 0.0492\n",
            "Epoch 132/1000\n",
            "4/4 [==============================] - 0s 4ms/step - loss: 0.0486 - mean_squared_error: 0.0486\n",
            "Epoch 133/1000\n",
            "4/4 [==============================] - 0s 4ms/step - loss: 0.0537 - mean_squared_error: 0.0537\n",
            "Epoch 134/1000\n",
            "4/4 [==============================] - 0s 4ms/step - loss: 0.0482 - mean_squared_error: 0.0482\n",
            "Epoch 135/1000\n",
            "4/4 [==============================] - 0s 4ms/step - loss: 0.0498 - mean_squared_error: 0.0498\n",
            "Epoch 136/1000\n",
            "4/4 [==============================] - 0s 4ms/step - loss: 0.0514 - mean_squared_error: 0.0514\n",
            "Epoch 137/1000\n",
            "4/4 [==============================] - 0s 4ms/step - loss: 0.0516 - mean_squared_error: 0.0516\n",
            "Epoch 138/1000\n",
            "4/4 [==============================] - 0s 4ms/step - loss: 0.0480 - mean_squared_error: 0.0480\n",
            "Epoch 139/1000\n",
            "4/4 [==============================] - 0s 4ms/step - loss: 0.0503 - mean_squared_error: 0.0503\n",
            "Epoch 140/1000\n",
            "4/4 [==============================] - 0s 4ms/step - loss: 0.0517 - mean_squared_error: 0.0517\n",
            "Epoch 141/1000\n",
            "4/4 [==============================] - 0s 4ms/step - loss: 0.0531 - mean_squared_error: 0.0531\n",
            "Epoch 142/1000\n",
            "4/4 [==============================] - 0s 4ms/step - loss: 0.0562 - mean_squared_error: 0.0562\n",
            "Epoch 143/1000\n",
            "4/4 [==============================] - 0s 4ms/step - loss: 0.0590 - mean_squared_error: 0.0590\n",
            "Epoch 144/1000\n",
            "4/4 [==============================] - 0s 4ms/step - loss: 0.0483 - mean_squared_error: 0.0483\n",
            "Epoch 145/1000\n",
            "4/4 [==============================] - 0s 4ms/step - loss: 0.0533 - mean_squared_error: 0.0533\n",
            "Epoch 146/1000\n",
            "4/4 [==============================] - 0s 4ms/step - loss: 0.0496 - mean_squared_error: 0.0496\n",
            "Epoch 147/1000\n",
            "4/4 [==============================] - 0s 4ms/step - loss: 0.0479 - mean_squared_error: 0.0479\n",
            "Epoch 148/1000\n",
            "4/4 [==============================] - 0s 5ms/step - loss: 0.0483 - mean_squared_error: 0.0483\n",
            "Epoch 149/1000\n",
            "4/4 [==============================] - 0s 4ms/step - loss: 0.0511 - mean_squared_error: 0.0511\n",
            "Epoch 150/1000\n",
            "4/4 [==============================] - 0s 4ms/step - loss: 0.0508 - mean_squared_error: 0.0508\n",
            "Epoch 151/1000\n",
            "4/4 [==============================] - 0s 4ms/step - loss: 0.0520 - mean_squared_error: 0.0520\n",
            "Epoch 152/1000\n",
            "4/4 [==============================] - 0s 4ms/step - loss: 0.0540 - mean_squared_error: 0.0540\n",
            "Epoch 153/1000\n",
            "4/4 [==============================] - 0s 4ms/step - loss: 0.0588 - mean_squared_error: 0.0588\n",
            "Epoch 154/1000\n",
            "4/4 [==============================] - 0s 4ms/step - loss: 0.0509 - mean_squared_error: 0.0509\n",
            "Epoch 155/1000\n",
            "4/4 [==============================] - 0s 4ms/step - loss: 0.0503 - mean_squared_error: 0.0503\n",
            "Epoch 156/1000\n",
            "4/4 [==============================] - 0s 5ms/step - loss: 0.0553 - mean_squared_error: 0.0553\n",
            "Epoch 157/1000\n",
            "4/4 [==============================] - 0s 5ms/step - loss: 0.0568 - mean_squared_error: 0.0568\n",
            "Epoch 158/1000\n",
            "4/4 [==============================] - 0s 4ms/step - loss: 0.0514 - mean_squared_error: 0.0514\n",
            "Epoch 159/1000\n",
            "4/4 [==============================] - 0s 4ms/step - loss: 0.0512 - mean_squared_error: 0.0512\n",
            "Epoch 160/1000\n",
            "4/4 [==============================] - 0s 5ms/step - loss: 0.0524 - mean_squared_error: 0.0524\n",
            "Epoch 161/1000\n",
            "4/4 [==============================] - 0s 5ms/step - loss: 0.0569 - mean_squared_error: 0.0569\n",
            "Epoch 162/1000\n",
            "4/4 [==============================] - 0s 6ms/step - loss: 0.0499 - mean_squared_error: 0.0499\n",
            "Epoch 163/1000\n",
            "4/4 [==============================] - 0s 5ms/step - loss: 0.0513 - mean_squared_error: 0.0513\n",
            "Epoch 164/1000\n",
            "4/4 [==============================] - 0s 6ms/step - loss: 0.0468 - mean_squared_error: 0.0468\n",
            "Epoch 165/1000\n",
            "4/4 [==============================] - 0s 6ms/step - loss: 0.0522 - mean_squared_error: 0.0522\n",
            "Epoch 166/1000\n",
            "4/4 [==============================] - 0s 4ms/step - loss: 0.0504 - mean_squared_error: 0.0504\n",
            "Epoch 167/1000\n",
            "4/4 [==============================] - 0s 5ms/step - loss: 0.0499 - mean_squared_error: 0.0499\n",
            "Epoch 168/1000\n",
            "4/4 [==============================] - 0s 4ms/step - loss: 0.0510 - mean_squared_error: 0.0510\n",
            "Epoch 169/1000\n",
            "4/4 [==============================] - 0s 4ms/step - loss: 0.0517 - mean_squared_error: 0.0517\n",
            "Epoch 170/1000\n",
            "4/4 [==============================] - 0s 4ms/step - loss: 0.0478 - mean_squared_error: 0.0478\n",
            "Epoch 171/1000\n",
            "4/4 [==============================] - 0s 5ms/step - loss: 0.0524 - mean_squared_error: 0.0524\n",
            "Epoch 172/1000\n",
            "4/4 [==============================] - 0s 3ms/step - loss: 0.0500 - mean_squared_error: 0.0500\n",
            "Epoch 173/1000\n",
            "4/4 [==============================] - 0s 4ms/step - loss: 0.0479 - mean_squared_error: 0.0479\n",
            "Epoch 174/1000\n",
            "4/4 [==============================] - 0s 4ms/step - loss: 0.0485 - mean_squared_error: 0.0485\n",
            "Epoch 175/1000\n",
            "4/4 [==============================] - 0s 4ms/step - loss: 0.0484 - mean_squared_error: 0.0484\n",
            "Epoch 176/1000\n",
            "4/4 [==============================] - 0s 4ms/step - loss: 0.0480 - mean_squared_error: 0.0480\n",
            "Epoch 177/1000\n",
            "4/4 [==============================] - 0s 6ms/step - loss: 0.0482 - mean_squared_error: 0.0482\n",
            "Epoch 178/1000\n",
            "4/4 [==============================] - 0s 4ms/step - loss: 0.0488 - mean_squared_error: 0.0488\n",
            "Epoch 179/1000\n",
            "4/4 [==============================] - 0s 4ms/step - loss: 0.0479 - mean_squared_error: 0.0479\n",
            "Epoch 180/1000\n",
            "4/4 [==============================] - 0s 3ms/step - loss: 0.0476 - mean_squared_error: 0.0476\n",
            "Epoch 181/1000\n",
            "4/4 [==============================] - 0s 4ms/step - loss: 0.0501 - mean_squared_error: 0.0501\n",
            "Epoch 182/1000\n",
            "4/4 [==============================] - 0s 6ms/step - loss: 0.0530 - mean_squared_error: 0.0530\n",
            "Epoch 183/1000\n",
            "4/4 [==============================] - 0s 4ms/step - loss: 0.0497 - mean_squared_error: 0.0497\n",
            "Epoch 184/1000\n",
            "4/4 [==============================] - 0s 4ms/step - loss: 0.0498 - mean_squared_error: 0.0498\n",
            "Epoch 185/1000\n",
            "4/4 [==============================] - 0s 4ms/step - loss: 0.0491 - mean_squared_error: 0.0491\n",
            "Epoch 186/1000\n",
            "4/4 [==============================] - 0s 4ms/step - loss: 0.0480 - mean_squared_error: 0.0480\n",
            "Epoch 187/1000\n",
            "4/4 [==============================] - 0s 4ms/step - loss: 0.0543 - mean_squared_error: 0.0543\n",
            "Epoch 188/1000\n",
            "4/4 [==============================] - 0s 5ms/step - loss: 0.0505 - mean_squared_error: 0.0505\n",
            "Epoch 189/1000\n",
            "4/4 [==============================] - 0s 3ms/step - loss: 0.0491 - mean_squared_error: 0.0491\n",
            "Epoch 190/1000\n",
            "4/4 [==============================] - 0s 4ms/step - loss: 0.0576 - mean_squared_error: 0.0576\n",
            "Epoch 191/1000\n",
            "4/4 [==============================] - 0s 4ms/step - loss: 0.0601 - mean_squared_error: 0.0601\n",
            "Epoch 192/1000\n",
            "4/4 [==============================] - 0s 4ms/step - loss: 0.0537 - mean_squared_error: 0.0537\n",
            "Epoch 193/1000\n",
            "4/4 [==============================] - 0s 4ms/step - loss: 0.0581 - mean_squared_error: 0.0581\n",
            "Epoch 194/1000\n",
            "4/4 [==============================] - 0s 6ms/step - loss: 0.0527 - mean_squared_error: 0.0527\n",
            "Epoch 195/1000\n",
            "4/4 [==============================] - 0s 4ms/step - loss: 0.0529 - mean_squared_error: 0.0529\n",
            "Epoch 196/1000\n",
            "4/4 [==============================] - 0s 4ms/step - loss: 0.0472 - mean_squared_error: 0.0472\n",
            "Epoch 197/1000\n",
            "4/4 [==============================] - 0s 3ms/step - loss: 0.0518 - mean_squared_error: 0.0518\n",
            "Epoch 198/1000\n",
            "4/4 [==============================] - 0s 3ms/step - loss: 0.0483 - mean_squared_error: 0.0483\n",
            "Epoch 199/1000\n",
            "4/4 [==============================] - 0s 4ms/step - loss: 0.0502 - mean_squared_error: 0.0502\n",
            "Epoch 200/1000\n",
            "4/4 [==============================] - 0s 4ms/step - loss: 0.0560 - mean_squared_error: 0.0560\n",
            "Epoch 201/1000\n",
            "4/4 [==============================] - 0s 4ms/step - loss: 0.0548 - mean_squared_error: 0.0548\n",
            "Epoch 202/1000\n",
            "4/4 [==============================] - 0s 4ms/step - loss: 0.0526 - mean_squared_error: 0.0526\n",
            "Epoch 203/1000\n",
            "4/4 [==============================] - 0s 4ms/step - loss: 0.0502 - mean_squared_error: 0.0502\n",
            "Epoch 204/1000\n",
            "4/4 [==============================] - 0s 4ms/step - loss: 0.0474 - mean_squared_error: 0.0474\n",
            "Epoch 205/1000\n",
            "4/4 [==============================] - 0s 4ms/step - loss: 0.0485 - mean_squared_error: 0.0485\n",
            "Epoch 206/1000\n",
            "4/4 [==============================] - 0s 5ms/step - loss: 0.0476 - mean_squared_error: 0.0476\n",
            "Epoch 207/1000\n",
            "4/4 [==============================] - 0s 3ms/step - loss: 0.0499 - mean_squared_error: 0.0499\n",
            "Epoch 208/1000\n",
            "4/4 [==============================] - 0s 3ms/step - loss: 0.0475 - mean_squared_error: 0.0475\n",
            "Epoch 209/1000\n",
            "4/4 [==============================] - 0s 4ms/step - loss: 0.0482 - mean_squared_error: 0.0482\n",
            "Epoch 210/1000\n",
            "4/4 [==============================] - 0s 4ms/step - loss: 0.0478 - mean_squared_error: 0.0478\n",
            "Epoch 211/1000\n",
            "4/4 [==============================] - 0s 3ms/step - loss: 0.0497 - mean_squared_error: 0.0497\n",
            "Epoch 212/1000\n",
            "4/4 [==============================] - 0s 3ms/step - loss: 0.0555 - mean_squared_error: 0.0555\n",
            "Epoch 213/1000\n",
            "4/4 [==============================] - 0s 3ms/step - loss: 0.0554 - mean_squared_error: 0.0554\n",
            "Epoch 214/1000\n",
            "4/4 [==============================] - 0s 3ms/step - loss: 0.0546 - mean_squared_error: 0.0546\n",
            "Epoch 215/1000\n",
            "4/4 [==============================] - 0s 4ms/step - loss: 0.0585 - mean_squared_error: 0.0585\n",
            "Epoch 216/1000\n",
            "4/4 [==============================] - 0s 3ms/step - loss: 0.0472 - mean_squared_error: 0.0472\n",
            "Epoch 217/1000\n",
            "4/4 [==============================] - 0s 3ms/step - loss: 0.0492 - mean_squared_error: 0.0492\n",
            "Epoch 218/1000\n",
            "4/4 [==============================] - 0s 3ms/step - loss: 0.0525 - mean_squared_error: 0.0525\n",
            "Epoch 219/1000\n",
            "4/4 [==============================] - 0s 3ms/step - loss: 0.0480 - mean_squared_error: 0.0480\n",
            "Epoch 220/1000\n",
            "4/4 [==============================] - 0s 3ms/step - loss: 0.0486 - mean_squared_error: 0.0486\n",
            "Epoch 221/1000\n",
            "4/4 [==============================] - 0s 3ms/step - loss: 0.0470 - mean_squared_error: 0.0470\n",
            "Epoch 222/1000\n",
            "4/4 [==============================] - 0s 3ms/step - loss: 0.0492 - mean_squared_error: 0.0492\n",
            "Epoch 223/1000\n",
            "4/4 [==============================] - 0s 3ms/step - loss: 0.0493 - mean_squared_error: 0.0493\n",
            "Epoch 224/1000\n",
            "4/4 [==============================] - 0s 3ms/step - loss: 0.0470 - mean_squared_error: 0.0470\n",
            "Epoch 225/1000\n",
            "4/4 [==============================] - 0s 3ms/step - loss: 0.0493 - mean_squared_error: 0.0493\n",
            "Epoch 226/1000\n",
            "4/4 [==============================] - 0s 3ms/step - loss: 0.0474 - mean_squared_error: 0.0474\n",
            "Epoch 227/1000\n",
            "4/4 [==============================] - 0s 3ms/step - loss: 0.0481 - mean_squared_error: 0.0481\n",
            "Epoch 228/1000\n",
            "4/4 [==============================] - 0s 3ms/step - loss: 0.0472 - mean_squared_error: 0.0472\n",
            "Epoch 229/1000\n",
            "4/4 [==============================] - 0s 4ms/step - loss: 0.0480 - mean_squared_error: 0.0480\n",
            "Epoch 230/1000\n",
            "4/4 [==============================] - 0s 3ms/step - loss: 0.0476 - mean_squared_error: 0.0476\n",
            "Epoch 231/1000\n",
            "4/4 [==============================] - 0s 3ms/step - loss: 0.0477 - mean_squared_error: 0.0477\n",
            "Epoch 232/1000\n",
            "4/4 [==============================] - 0s 5ms/step - loss: 0.0461 - mean_squared_error: 0.0461\n",
            "Epoch 233/1000\n",
            "4/4 [==============================] - 0s 5ms/step - loss: 0.0483 - mean_squared_error: 0.0483\n",
            "Epoch 234/1000\n",
            "4/4 [==============================] - 0s 6ms/step - loss: 0.0474 - mean_squared_error: 0.0474\n",
            "Epoch 235/1000\n",
            "4/4 [==============================] - 0s 3ms/step - loss: 0.0474 - mean_squared_error: 0.0474\n",
            "Epoch 236/1000\n",
            "4/4 [==============================] - 0s 4ms/step - loss: 0.0486 - mean_squared_error: 0.0486\n",
            "Epoch 237/1000\n",
            "4/4 [==============================] - 0s 3ms/step - loss: 0.0500 - mean_squared_error: 0.0500\n",
            "Epoch 238/1000\n",
            "4/4 [==============================] - 0s 3ms/step - loss: 0.0461 - mean_squared_error: 0.0461\n",
            "Epoch 239/1000\n",
            "4/4 [==============================] - 0s 3ms/step - loss: 0.0489 - mean_squared_error: 0.0489\n",
            "Epoch 240/1000\n",
            "4/4 [==============================] - 0s 3ms/step - loss: 0.0526 - mean_squared_error: 0.0526\n",
            "Epoch 241/1000\n",
            "4/4 [==============================] - 0s 3ms/step - loss: 0.0521 - mean_squared_error: 0.0521\n",
            "Epoch 242/1000\n",
            "4/4 [==============================] - 0s 3ms/step - loss: 0.0469 - mean_squared_error: 0.0469\n",
            "Epoch 243/1000\n",
            "4/4 [==============================] - 0s 3ms/step - loss: 0.0477 - mean_squared_error: 0.0477\n",
            "Epoch 244/1000\n",
            "4/4 [==============================] - 0s 3ms/step - loss: 0.0484 - mean_squared_error: 0.0484\n",
            "Epoch 245/1000\n",
            "4/4 [==============================] - 0s 4ms/step - loss: 0.0500 - mean_squared_error: 0.0500\n",
            "Epoch 246/1000\n",
            "4/4 [==============================] - 0s 4ms/step - loss: 0.0481 - mean_squared_error: 0.0481\n",
            "Epoch 247/1000\n",
            "4/4 [==============================] - 0s 5ms/step - loss: 0.0475 - mean_squared_error: 0.0475\n",
            "Epoch 248/1000\n",
            "4/4 [==============================] - 0s 4ms/step - loss: 0.0464 - mean_squared_error: 0.0464\n",
            "Epoch 249/1000\n",
            "4/4 [==============================] - 0s 5ms/step - loss: 0.0464 - mean_squared_error: 0.0464\n",
            "Epoch 250/1000\n",
            "4/4 [==============================] - 0s 5ms/step - loss: 0.0475 - mean_squared_error: 0.0475\n",
            "Epoch 251/1000\n",
            "4/4 [==============================] - 0s 3ms/step - loss: 0.0464 - mean_squared_error: 0.0464\n",
            "Epoch 252/1000\n",
            "4/4 [==============================] - 0s 5ms/step - loss: 0.0459 - mean_squared_error: 0.0459\n",
            "Epoch 253/1000\n",
            "4/4 [==============================] - 0s 5ms/step - loss: 0.0466 - mean_squared_error: 0.0466\n",
            "Epoch 254/1000\n",
            "4/4 [==============================] - 0s 7ms/step - loss: 0.0464 - mean_squared_error: 0.0464\n",
            "Epoch 255/1000\n",
            "4/4 [==============================] - 0s 4ms/step - loss: 0.0487 - mean_squared_error: 0.0487\n",
            "Epoch 256/1000\n",
            "4/4 [==============================] - 0s 4ms/step - loss: 0.0498 - mean_squared_error: 0.0498\n",
            "Epoch 257/1000\n",
            "4/4 [==============================] - 0s 4ms/step - loss: 0.0467 - mean_squared_error: 0.0467\n",
            "Epoch 258/1000\n",
            "4/4 [==============================] - 0s 4ms/step - loss: 0.0487 - mean_squared_error: 0.0487\n",
            "Epoch 259/1000\n",
            "4/4 [==============================] - 0s 4ms/step - loss: 0.0462 - mean_squared_error: 0.0462\n",
            "Epoch 260/1000\n",
            "4/4 [==============================] - 0s 4ms/step - loss: 0.0459 - mean_squared_error: 0.0459\n",
            "Epoch 261/1000\n",
            "4/4 [==============================] - 0s 4ms/step - loss: 0.0521 - mean_squared_error: 0.0521\n",
            "Epoch 262/1000\n",
            "4/4 [==============================] - 0s 4ms/step - loss: 0.0452 - mean_squared_error: 0.0452\n",
            "Epoch 263/1000\n",
            "4/4 [==============================] - 0s 4ms/step - loss: 0.0478 - mean_squared_error: 0.0478\n",
            "Epoch 264/1000\n",
            "4/4 [==============================] - 0s 4ms/step - loss: 0.0485 - mean_squared_error: 0.0485\n",
            "Epoch 265/1000\n",
            "4/4 [==============================] - 0s 4ms/step - loss: 0.0466 - mean_squared_error: 0.0466\n",
            "Epoch 266/1000\n",
            "4/4 [==============================] - 0s 4ms/step - loss: 0.0507 - mean_squared_error: 0.0507\n",
            "Epoch 267/1000\n",
            "4/4 [==============================] - 0s 3ms/step - loss: 0.0472 - mean_squared_error: 0.0472\n",
            "Epoch 268/1000\n",
            "4/4 [==============================] - 0s 3ms/step - loss: 0.0477 - mean_squared_error: 0.0477\n",
            "Epoch 269/1000\n",
            "4/4 [==============================] - 0s 3ms/step - loss: 0.0466 - mean_squared_error: 0.0466\n",
            "Epoch 270/1000\n",
            "4/4 [==============================] - 0s 3ms/step - loss: 0.0447 - mean_squared_error: 0.0447\n",
            "Epoch 271/1000\n",
            "4/4 [==============================] - 0s 3ms/step - loss: 0.0467 - mean_squared_error: 0.0467\n",
            "Epoch 272/1000\n",
            "4/4 [==============================] - 0s 3ms/step - loss: 0.0460 - mean_squared_error: 0.0460\n",
            "Epoch 273/1000\n",
            "4/4 [==============================] - 0s 3ms/step - loss: 0.0462 - mean_squared_error: 0.0462\n",
            "Epoch 274/1000\n",
            "4/4 [==============================] - 0s 3ms/step - loss: 0.0463 - mean_squared_error: 0.0463\n",
            "Epoch 275/1000\n",
            "4/4 [==============================] - 0s 3ms/step - loss: 0.0453 - mean_squared_error: 0.0453\n",
            "Epoch 276/1000\n",
            "4/4 [==============================] - 0s 4ms/step - loss: 0.0454 - mean_squared_error: 0.0454\n",
            "Epoch 277/1000\n",
            "4/4 [==============================] - 0s 3ms/step - loss: 0.0440 - mean_squared_error: 0.0440\n",
            "Epoch 278/1000\n",
            "4/4 [==============================] - 0s 5ms/step - loss: 0.0492 - mean_squared_error: 0.0492\n",
            "Epoch 279/1000\n",
            "4/4 [==============================] - 0s 3ms/step - loss: 0.0568 - mean_squared_error: 0.0568\n",
            "Epoch 280/1000\n",
            "4/4 [==============================] - 0s 3ms/step - loss: 0.0549 - mean_squared_error: 0.0549\n",
            "Epoch 281/1000\n",
            "4/4 [==============================] - 0s 3ms/step - loss: 0.0524 - mean_squared_error: 0.0524\n",
            "Epoch 282/1000\n",
            "4/4 [==============================] - 0s 3ms/step - loss: 0.0487 - mean_squared_error: 0.0487\n",
            "Epoch 283/1000\n",
            "4/4 [==============================] - 0s 4ms/step - loss: 0.0489 - mean_squared_error: 0.0489\n",
            "Epoch 284/1000\n",
            "4/4 [==============================] - 0s 4ms/step - loss: 0.0467 - mean_squared_error: 0.0467\n",
            "Epoch 285/1000\n",
            "4/4 [==============================] - 0s 5ms/step - loss: 0.0469 - mean_squared_error: 0.0469\n",
            "Epoch 286/1000\n",
            "4/4 [==============================] - 0s 4ms/step - loss: 0.0471 - mean_squared_error: 0.0471\n",
            "Epoch 287/1000\n",
            "4/4 [==============================] - 0s 5ms/step - loss: 0.0491 - mean_squared_error: 0.0491\n",
            "Epoch 288/1000\n",
            "4/4 [==============================] - 0s 3ms/step - loss: 0.0450 - mean_squared_error: 0.0450\n",
            "Epoch 289/1000\n",
            "4/4 [==============================] - 0s 7ms/step - loss: 0.0432 - mean_squared_error: 0.0432\n",
            "Epoch 290/1000\n",
            "4/4 [==============================] - 0s 6ms/step - loss: 0.0446 - mean_squared_error: 0.0446\n",
            "Epoch 291/1000\n",
            "4/4 [==============================] - 0s 4ms/step - loss: 0.0435 - mean_squared_error: 0.0435\n",
            "Epoch 292/1000\n",
            "4/4 [==============================] - 0s 4ms/step - loss: 0.0436 - mean_squared_error: 0.0436\n",
            "Epoch 293/1000\n",
            "4/4 [==============================] - 0s 4ms/step - loss: 0.0439 - mean_squared_error: 0.0439\n",
            "Epoch 294/1000\n",
            "4/4 [==============================] - 0s 4ms/step - loss: 0.0456 - mean_squared_error: 0.0456\n",
            "Epoch 295/1000\n",
            "4/4 [==============================] - 0s 4ms/step - loss: 0.0439 - mean_squared_error: 0.0439\n",
            "Epoch 296/1000\n",
            "4/4 [==============================] - 0s 4ms/step - loss: 0.0435 - mean_squared_error: 0.0435\n",
            "Epoch 297/1000\n",
            "4/4 [==============================] - 0s 4ms/step - loss: 0.0426 - mean_squared_error: 0.0426\n",
            "Epoch 298/1000\n",
            "4/4 [==============================] - 0s 4ms/step - loss: 0.0455 - mean_squared_error: 0.0455\n",
            "Epoch 299/1000\n",
            "4/4 [==============================] - 0s 4ms/step - loss: 0.0437 - mean_squared_error: 0.0437\n",
            "Epoch 300/1000\n",
            "4/4 [==============================] - 0s 4ms/step - loss: 0.0433 - mean_squared_error: 0.0433\n",
            "Epoch 301/1000\n",
            "4/4 [==============================] - 0s 4ms/step - loss: 0.0439 - mean_squared_error: 0.0439\n",
            "Epoch 302/1000\n",
            "4/4 [==============================] - 0s 4ms/step - loss: 0.0451 - mean_squared_error: 0.0451\n",
            "Epoch 303/1000\n",
            "4/4 [==============================] - 0s 4ms/step - loss: 0.0442 - mean_squared_error: 0.0442\n",
            "Epoch 304/1000\n",
            "4/4 [==============================] - 0s 3ms/step - loss: 0.0439 - mean_squared_error: 0.0439\n",
            "Epoch 305/1000\n",
            "4/4 [==============================] - 0s 4ms/step - loss: 0.0447 - mean_squared_error: 0.0447\n",
            "Epoch 306/1000\n",
            "4/4 [==============================] - 0s 3ms/step - loss: 0.0410 - mean_squared_error: 0.0410\n",
            "Epoch 307/1000\n",
            "4/4 [==============================] - 0s 4ms/step - loss: 0.0452 - mean_squared_error: 0.0452\n",
            "Epoch 308/1000\n",
            "4/4 [==============================] - 0s 5ms/step - loss: 0.0436 - mean_squared_error: 0.0436\n",
            "Epoch 309/1000\n",
            "4/4 [==============================] - 0s 6ms/step - loss: 0.0416 - mean_squared_error: 0.0416\n",
            "Epoch 310/1000\n",
            "4/4 [==============================] - 0s 6ms/step - loss: 0.0438 - mean_squared_error: 0.0438\n",
            "Epoch 311/1000\n",
            "4/4 [==============================] - 0s 4ms/step - loss: 0.0403 - mean_squared_error: 0.0403\n",
            "Epoch 312/1000\n",
            "4/4 [==============================] - 0s 4ms/step - loss: 0.0409 - mean_squared_error: 0.0409\n",
            "Epoch 313/1000\n",
            "4/4 [==============================] - 0s 4ms/step - loss: 0.0404 - mean_squared_error: 0.0404\n",
            "Epoch 314/1000\n",
            "4/4 [==============================] - 0s 8ms/step - loss: 0.0395 - mean_squared_error: 0.0395\n",
            "Epoch 315/1000\n",
            "4/4 [==============================] - 0s 4ms/step - loss: 0.0405 - mean_squared_error: 0.0405\n",
            "Epoch 316/1000\n",
            "4/4 [==============================] - 0s 5ms/step - loss: 0.0398 - mean_squared_error: 0.0398\n",
            "Epoch 317/1000\n",
            "4/4 [==============================] - 0s 5ms/step - loss: 0.0410 - mean_squared_error: 0.0410\n",
            "Epoch 318/1000\n",
            "4/4 [==============================] - 0s 5ms/step - loss: 0.0458 - mean_squared_error: 0.0458\n",
            "Epoch 319/1000\n",
            "4/4 [==============================] - 0s 3ms/step - loss: 0.0581 - mean_squared_error: 0.0581\n",
            "Epoch 320/1000\n",
            "4/4 [==============================] - 0s 4ms/step - loss: 0.0575 - mean_squared_error: 0.0575\n",
            "Epoch 321/1000\n",
            "4/4 [==============================] - 0s 5ms/step - loss: 0.0563 - mean_squared_error: 0.0563\n",
            "Epoch 322/1000\n",
            "4/4 [==============================] - 0s 5ms/step - loss: 0.0600 - mean_squared_error: 0.0600\n",
            "Epoch 323/1000\n",
            "4/4 [==============================] - 0s 6ms/step - loss: 0.0568 - mean_squared_error: 0.0568\n",
            "Epoch 324/1000\n",
            "4/4 [==============================] - 0s 4ms/step - loss: 0.0540 - mean_squared_error: 0.0540\n",
            "Epoch 325/1000\n",
            "4/4 [==============================] - 0s 5ms/step - loss: 0.0495 - mean_squared_error: 0.0495\n",
            "Epoch 326/1000\n",
            "4/4 [==============================] - 0s 6ms/step - loss: 0.0398 - mean_squared_error: 0.0398\n",
            "Epoch 327/1000\n",
            "4/4 [==============================] - 0s 5ms/step - loss: 0.0447 - mean_squared_error: 0.0447\n",
            "Epoch 328/1000\n",
            "4/4 [==============================] - 0s 4ms/step - loss: 0.0422 - mean_squared_error: 0.0422\n",
            "Epoch 329/1000\n",
            "4/4 [==============================] - 0s 4ms/step - loss: 0.0467 - mean_squared_error: 0.0467\n",
            "Epoch 330/1000\n",
            "4/4 [==============================] - 0s 5ms/step - loss: 0.0465 - mean_squared_error: 0.0465\n",
            "Epoch 331/1000\n",
            "4/4 [==============================] - 0s 5ms/step - loss: 0.0377 - mean_squared_error: 0.0377\n",
            "Epoch 332/1000\n",
            "4/4 [==============================] - 0s 5ms/step - loss: 0.0407 - mean_squared_error: 0.0407\n",
            "Epoch 333/1000\n",
            "4/4 [==============================] - 0s 4ms/step - loss: 0.0441 - mean_squared_error: 0.0441\n",
            "Epoch 334/1000\n",
            "4/4 [==============================] - 0s 5ms/step - loss: 0.0376 - mean_squared_error: 0.0376\n",
            "Epoch 335/1000\n",
            "4/4 [==============================] - 0s 5ms/step - loss: 0.0406 - mean_squared_error: 0.0406\n",
            "Epoch 336/1000\n",
            "4/4 [==============================] - 0s 4ms/step - loss: 0.0395 - mean_squared_error: 0.0395\n",
            "Epoch 337/1000\n",
            "4/4 [==============================] - 0s 4ms/step - loss: 0.0363 - mean_squared_error: 0.0363\n",
            "Epoch 338/1000\n",
            "4/4 [==============================] - 0s 4ms/step - loss: 0.0374 - mean_squared_error: 0.0374\n",
            "Epoch 339/1000\n",
            "4/4 [==============================] - 0s 4ms/step - loss: 0.0371 - mean_squared_error: 0.0371\n",
            "Epoch 340/1000\n",
            "4/4 [==============================] - 0s 5ms/step - loss: 0.0376 - mean_squared_error: 0.0376\n",
            "Epoch 341/1000\n",
            "4/4 [==============================] - 0s 4ms/step - loss: 0.0367 - mean_squared_error: 0.0367\n",
            "Epoch 342/1000\n",
            "4/4 [==============================] - 0s 4ms/step - loss: 0.0377 - mean_squared_error: 0.0377\n",
            "Epoch 343/1000\n",
            "4/4 [==============================] - 0s 5ms/step - loss: 0.0361 - mean_squared_error: 0.0361\n",
            "Epoch 344/1000\n",
            "4/4 [==============================] - 0s 5ms/step - loss: 0.0371 - mean_squared_error: 0.0371\n",
            "Epoch 345/1000\n",
            "4/4 [==============================] - 0s 4ms/step - loss: 0.0412 - mean_squared_error: 0.0412\n",
            "Epoch 346/1000\n",
            "4/4 [==============================] - 0s 4ms/step - loss: 0.0402 - mean_squared_error: 0.0402\n",
            "Epoch 347/1000\n",
            "4/4 [==============================] - 0s 4ms/step - loss: 0.0466 - mean_squared_error: 0.0466\n",
            "Epoch 348/1000\n",
            "4/4 [==============================] - 0s 4ms/step - loss: 0.0378 - mean_squared_error: 0.0378\n",
            "Epoch 349/1000\n",
            "4/4 [==============================] - 0s 4ms/step - loss: 0.0396 - mean_squared_error: 0.0396\n",
            "Epoch 350/1000\n",
            "4/4 [==============================] - 0s 5ms/step - loss: 0.0357 - mean_squared_error: 0.0357\n",
            "Epoch 351/1000\n",
            "4/4 [==============================] - 0s 6ms/step - loss: 0.0478 - mean_squared_error: 0.0478\n",
            "Epoch 352/1000\n",
            "4/4 [==============================] - 0s 3ms/step - loss: 0.0375 - mean_squared_error: 0.0375\n",
            "Epoch 353/1000\n",
            "4/4 [==============================] - 0s 4ms/step - loss: 0.0467 - mean_squared_error: 0.0467\n",
            "Epoch 354/1000\n",
            "4/4 [==============================] - 0s 5ms/step - loss: 0.0387 - mean_squared_error: 0.0387\n",
            "Epoch 355/1000\n",
            "4/4 [==============================] - 0s 3ms/step - loss: 0.0383 - mean_squared_error: 0.0383\n",
            "Epoch 356/1000\n",
            "4/4 [==============================] - 0s 4ms/step - loss: 0.0386 - mean_squared_error: 0.0386\n",
            "Epoch 357/1000\n",
            "4/4 [==============================] - 0s 3ms/step - loss: 0.0381 - mean_squared_error: 0.0381\n",
            "Epoch 358/1000\n",
            "4/4 [==============================] - 0s 5ms/step - loss: 0.0412 - mean_squared_error: 0.0412\n",
            "Epoch 359/1000\n",
            "4/4 [==============================] - 0s 3ms/step - loss: 0.0433 - mean_squared_error: 0.0433\n",
            "Epoch 360/1000\n",
            "4/4 [==============================] - 0s 3ms/step - loss: 0.0433 - mean_squared_error: 0.0433\n",
            "Epoch 361/1000\n",
            "4/4 [==============================] - 0s 3ms/step - loss: 0.0362 - mean_squared_error: 0.0362\n",
            "Epoch 362/1000\n",
            "4/4 [==============================] - 0s 3ms/step - loss: 0.0387 - mean_squared_error: 0.0387\n",
            "Epoch 363/1000\n",
            "4/4 [==============================] - 0s 5ms/step - loss: 0.0386 - mean_squared_error: 0.0386\n",
            "Epoch 364/1000\n",
            "4/4 [==============================] - 0s 4ms/step - loss: 0.0383 - mean_squared_error: 0.0383\n",
            "Epoch 365/1000\n",
            "4/4 [==============================] - 0s 5ms/step - loss: 0.0373 - mean_squared_error: 0.0373\n",
            "Epoch 366/1000\n",
            "4/4 [==============================] - 0s 5ms/step - loss: 0.0347 - mean_squared_error: 0.0347\n",
            "Epoch 367/1000\n",
            "4/4 [==============================] - 0s 5ms/step - loss: 0.0417 - mean_squared_error: 0.0417\n",
            "Epoch 368/1000\n",
            "4/4 [==============================] - 0s 7ms/step - loss: 0.0374 - mean_squared_error: 0.0374\n",
            "Epoch 369/1000\n",
            "4/4 [==============================] - 0s 6ms/step - loss: 0.0344 - mean_squared_error: 0.0344\n",
            "Epoch 370/1000\n",
            "4/4 [==============================] - 0s 3ms/step - loss: 0.0358 - mean_squared_error: 0.0358\n",
            "Epoch 371/1000\n",
            "4/4 [==============================] - 0s 4ms/step - loss: 0.0345 - mean_squared_error: 0.0345\n",
            "Epoch 372/1000\n",
            "4/4 [==============================] - 0s 4ms/step - loss: 0.0357 - mean_squared_error: 0.0357\n",
            "Epoch 373/1000\n",
            "4/4 [==============================] - 0s 5ms/step - loss: 0.0347 - mean_squared_error: 0.0347\n",
            "Epoch 374/1000\n",
            "4/4 [==============================] - 0s 4ms/step - loss: 0.0339 - mean_squared_error: 0.0339\n",
            "Epoch 375/1000\n",
            "4/4 [==============================] - 0s 4ms/step - loss: 0.0349 - mean_squared_error: 0.0349\n",
            "Epoch 376/1000\n",
            "4/4 [==============================] - 0s 4ms/step - loss: 0.0374 - mean_squared_error: 0.0374\n",
            "Epoch 377/1000\n",
            "4/4 [==============================] - 0s 8ms/step - loss: 0.0372 - mean_squared_error: 0.0372\n",
            "Epoch 378/1000\n",
            "4/4 [==============================] - 0s 4ms/step - loss: 0.0374 - mean_squared_error: 0.0374\n",
            "Epoch 379/1000\n",
            "4/4 [==============================] - 0s 7ms/step - loss: 0.0372 - mean_squared_error: 0.0372\n",
            "Epoch 380/1000\n",
            "4/4 [==============================] - 0s 4ms/step - loss: 0.0345 - mean_squared_error: 0.0345\n",
            "Epoch 381/1000\n",
            "4/4 [==============================] - 0s 4ms/step - loss: 0.0348 - mean_squared_error: 0.0348\n",
            "Epoch 382/1000\n",
            "4/4 [==============================] - 0s 4ms/step - loss: 0.0381 - mean_squared_error: 0.0381\n",
            "Epoch 383/1000\n",
            "4/4 [==============================] - 0s 4ms/step - loss: 0.0353 - mean_squared_error: 0.0353\n",
            "Epoch 384/1000\n",
            "4/4 [==============================] - 0s 4ms/step - loss: 0.0357 - mean_squared_error: 0.0357\n",
            "Epoch 385/1000\n",
            "4/4 [==============================] - 0s 4ms/step - loss: 0.0364 - mean_squared_error: 0.0364\n",
            "Epoch 386/1000\n",
            "4/4 [==============================] - 0s 4ms/step - loss: 0.0350 - mean_squared_error: 0.0350\n",
            "Epoch 387/1000\n",
            "4/4 [==============================] - 0s 5ms/step - loss: 0.0364 - mean_squared_error: 0.0364\n",
            "Epoch 388/1000\n",
            "4/4 [==============================] - 0s 5ms/step - loss: 0.0385 - mean_squared_error: 0.0385\n",
            "Epoch 389/1000\n",
            "4/4 [==============================] - 0s 4ms/step - loss: 0.0365 - mean_squared_error: 0.0365\n",
            "Epoch 390/1000\n",
            "4/4 [==============================] - 0s 4ms/step - loss: 0.0343 - mean_squared_error: 0.0343\n",
            "Epoch 391/1000\n",
            "4/4 [==============================] - 0s 4ms/step - loss: 0.0352 - mean_squared_error: 0.0352\n",
            "Epoch 392/1000\n",
            "4/4 [==============================] - 0s 3ms/step - loss: 0.0340 - mean_squared_error: 0.0340\n",
            "Epoch 393/1000\n",
            "4/4 [==============================] - 0s 4ms/step - loss: 0.0367 - mean_squared_error: 0.0367\n",
            "Epoch 394/1000\n",
            "4/4 [==============================] - 0s 5ms/step - loss: 0.0336 - mean_squared_error: 0.0336\n",
            "Epoch 395/1000\n",
            "4/4 [==============================] - 0s 5ms/step - loss: 0.0376 - mean_squared_error: 0.0376\n",
            "Epoch 396/1000\n",
            "4/4 [==============================] - 0s 4ms/step - loss: 0.0361 - mean_squared_error: 0.0361\n",
            "Epoch 397/1000\n",
            "4/4 [==============================] - 0s 4ms/step - loss: 0.0366 - mean_squared_error: 0.0366\n",
            "Epoch 398/1000\n",
            "4/4 [==============================] - 0s 3ms/step - loss: 0.0344 - mean_squared_error: 0.0344\n",
            "Epoch 399/1000\n",
            "4/4 [==============================] - 0s 4ms/step - loss: 0.0371 - mean_squared_error: 0.0371\n",
            "Epoch 400/1000\n",
            "4/4 [==============================] - 0s 3ms/step - loss: 0.0355 - mean_squared_error: 0.0355\n",
            "Epoch 401/1000\n",
            "4/4 [==============================] - 0s 3ms/step - loss: 0.0350 - mean_squared_error: 0.0350\n",
            "Epoch 402/1000\n",
            "4/4 [==============================] - 0s 3ms/step - loss: 0.0347 - mean_squared_error: 0.0347\n",
            "Epoch 403/1000\n",
            "4/4 [==============================] - 0s 3ms/step - loss: 0.0346 - mean_squared_error: 0.0346\n",
            "Epoch 404/1000\n",
            "4/4 [==============================] - 0s 4ms/step - loss: 0.0350 - mean_squared_error: 0.0350\n",
            "Epoch 405/1000\n",
            "4/4 [==============================] - 0s 3ms/step - loss: 0.0376 - mean_squared_error: 0.0376\n",
            "Epoch 406/1000\n",
            "4/4 [==============================] - 0s 4ms/step - loss: 0.0448 - mean_squared_error: 0.0448\n",
            "Epoch 407/1000\n",
            "4/4 [==============================] - 0s 3ms/step - loss: 0.0350 - mean_squared_error: 0.0350\n",
            "Epoch 408/1000\n",
            "4/4 [==============================] - 0s 4ms/step - loss: 0.0346 - mean_squared_error: 0.0346\n",
            "Epoch 409/1000\n",
            "4/4 [==============================] - 0s 4ms/step - loss: 0.0370 - mean_squared_error: 0.0370\n",
            "Epoch 410/1000\n",
            "4/4 [==============================] - 0s 4ms/step - loss: 0.0354 - mean_squared_error: 0.0354\n",
            "Epoch 411/1000\n",
            "4/4 [==============================] - 0s 4ms/step - loss: 0.0357 - mean_squared_error: 0.0357\n",
            "Epoch 412/1000\n",
            "4/4 [==============================] - 0s 4ms/step - loss: 0.0334 - mean_squared_error: 0.0334\n",
            "Epoch 413/1000\n",
            "4/4 [==============================] - 0s 4ms/step - loss: 0.0340 - mean_squared_error: 0.0340\n",
            "Epoch 414/1000\n",
            "4/4 [==============================] - 0s 5ms/step - loss: 0.0340 - mean_squared_error: 0.0340\n",
            "Epoch 415/1000\n",
            "4/4 [==============================] - 0s 4ms/step - loss: 0.0385 - mean_squared_error: 0.0385\n",
            "Epoch 416/1000\n",
            "4/4 [==============================] - 0s 4ms/step - loss: 0.0410 - mean_squared_error: 0.0410\n",
            "Epoch 417/1000\n",
            "4/4 [==============================] - 0s 4ms/step - loss: 0.0368 - mean_squared_error: 0.0368\n",
            "Epoch 418/1000\n",
            "4/4 [==============================] - 0s 4ms/step - loss: 0.0363 - mean_squared_error: 0.0363\n",
            "Epoch 419/1000\n",
            "4/4 [==============================] - 0s 4ms/step - loss: 0.0352 - mean_squared_error: 0.0352\n",
            "Epoch 420/1000\n",
            "4/4 [==============================] - 0s 3ms/step - loss: 0.0347 - mean_squared_error: 0.0347\n",
            "Epoch 421/1000\n",
            "4/4 [==============================] - 0s 3ms/step - loss: 0.0347 - mean_squared_error: 0.0347\n",
            "Epoch 422/1000\n",
            "4/4 [==============================] - 0s 3ms/step - loss: 0.0351 - mean_squared_error: 0.0351\n",
            "Epoch 423/1000\n",
            "4/4 [==============================] - 0s 5ms/step - loss: 0.0335 - mean_squared_error: 0.0335\n",
            "Epoch 424/1000\n",
            "4/4 [==============================] - 0s 4ms/step - loss: 0.0347 - mean_squared_error: 0.0347\n",
            "Epoch 425/1000\n",
            "4/4 [==============================] - 0s 4ms/step - loss: 0.0336 - mean_squared_error: 0.0336\n",
            "Epoch 426/1000\n",
            "4/4 [==============================] - 0s 3ms/step - loss: 0.0348 - mean_squared_error: 0.0348\n",
            "Epoch 427/1000\n",
            "4/4 [==============================] - 0s 4ms/step - loss: 0.0335 - mean_squared_error: 0.0335\n",
            "Epoch 428/1000\n",
            "4/4 [==============================] - 0s 4ms/step - loss: 0.0344 - mean_squared_error: 0.0344\n",
            "Epoch 429/1000\n",
            "4/4 [==============================] - 0s 4ms/step - loss: 0.0338 - mean_squared_error: 0.0338\n",
            "Epoch 430/1000\n",
            "4/4 [==============================] - 0s 4ms/step - loss: 0.0337 - mean_squared_error: 0.0337\n",
            "Epoch 431/1000\n",
            "4/4 [==============================] - 0s 4ms/step - loss: 0.0353 - mean_squared_error: 0.0353\n",
            "Epoch 432/1000\n",
            "4/4 [==============================] - 0s 4ms/step - loss: 0.0358 - mean_squared_error: 0.0358\n",
            "Epoch 433/1000\n",
            "4/4 [==============================] - 0s 4ms/step - loss: 0.0335 - mean_squared_error: 0.0335\n",
            "Epoch 434/1000\n",
            "4/4 [==============================] - 0s 4ms/step - loss: 0.0343 - mean_squared_error: 0.0343\n",
            "Epoch 435/1000\n",
            "4/4 [==============================] - 0s 3ms/step - loss: 0.0343 - mean_squared_error: 0.0343\n",
            "Epoch 436/1000\n",
            "4/4 [==============================] - 0s 4ms/step - loss: 0.0379 - mean_squared_error: 0.0379\n",
            "Epoch 437/1000\n",
            "4/4 [==============================] - 0s 3ms/step - loss: 0.0375 - mean_squared_error: 0.0375\n",
            "Epoch 438/1000\n",
            "4/4 [==============================] - 0s 3ms/step - loss: 0.0336 - mean_squared_error: 0.0336\n",
            "Epoch 439/1000\n",
            "4/4 [==============================] - 0s 4ms/step - loss: 0.0349 - mean_squared_error: 0.0349\n",
            "Epoch 440/1000\n",
            "4/4 [==============================] - 0s 4ms/step - loss: 0.0343 - mean_squared_error: 0.0343\n",
            "Epoch 441/1000\n",
            "4/4 [==============================] - 0s 4ms/step - loss: 0.0352 - mean_squared_error: 0.0352\n",
            "Epoch 442/1000\n",
            "4/4 [==============================] - 0s 4ms/step - loss: 0.0372 - mean_squared_error: 0.0372\n",
            "Epoch 443/1000\n",
            "4/4 [==============================] - 0s 3ms/step - loss: 0.0346 - mean_squared_error: 0.0346\n",
            "Epoch 444/1000\n",
            "4/4 [==============================] - 0s 5ms/step - loss: 0.0351 - mean_squared_error: 0.0351\n",
            "Epoch 445/1000\n",
            "4/4 [==============================] - 0s 6ms/step - loss: 0.0345 - mean_squared_error: 0.0345\n",
            "Epoch 446/1000\n",
            "4/4 [==============================] - 0s 6ms/step - loss: 0.0342 - mean_squared_error: 0.0342\n",
            "Epoch 447/1000\n",
            "4/4 [==============================] - 0s 3ms/step - loss: 0.0346 - mean_squared_error: 0.0346\n",
            "Epoch 448/1000\n",
            "4/4 [==============================] - 0s 4ms/step - loss: 0.0343 - mean_squared_error: 0.0343\n",
            "Epoch 449/1000\n",
            "4/4 [==============================] - 0s 5ms/step - loss: 0.0331 - mean_squared_error: 0.0331\n",
            "Epoch 450/1000\n",
            "4/4 [==============================] - 0s 5ms/step - loss: 0.0365 - mean_squared_error: 0.0365\n",
            "Epoch 451/1000\n",
            "4/4 [==============================] - 0s 4ms/step - loss: 0.0381 - mean_squared_error: 0.0381\n",
            "Epoch 452/1000\n",
            "4/4 [==============================] - 0s 4ms/step - loss: 0.0399 - mean_squared_error: 0.0399\n",
            "Epoch 453/1000\n",
            "4/4 [==============================] - 0s 4ms/step - loss: 0.0417 - mean_squared_error: 0.0417\n",
            "Epoch 454/1000\n",
            "4/4 [==============================] - 0s 4ms/step - loss: 0.0403 - mean_squared_error: 0.0403\n",
            "Epoch 455/1000\n",
            "4/4 [==============================] - 0s 5ms/step - loss: 0.0391 - mean_squared_error: 0.0391\n",
            "Epoch 456/1000\n",
            "4/4 [==============================] - 0s 5ms/step - loss: 0.0342 - mean_squared_error: 0.0342\n",
            "Epoch 457/1000\n",
            "4/4 [==============================] - 0s 4ms/step - loss: 0.0348 - mean_squared_error: 0.0348\n",
            "Epoch 458/1000\n",
            "4/4 [==============================] - 0s 4ms/step - loss: 0.0344 - mean_squared_error: 0.0344\n",
            "Epoch 459/1000\n",
            "4/4 [==============================] - 0s 4ms/step - loss: 0.0367 - mean_squared_error: 0.0367\n",
            "Epoch 460/1000\n",
            "4/4 [==============================] - 0s 4ms/step - loss: 0.0331 - mean_squared_error: 0.0331\n",
            "Epoch 461/1000\n",
            "4/4 [==============================] - 0s 4ms/step - loss: 0.0329 - mean_squared_error: 0.0329\n",
            "Epoch 462/1000\n",
            "4/4 [==============================] - 0s 4ms/step - loss: 0.0342 - mean_squared_error: 0.0342\n",
            "Epoch 463/1000\n",
            "4/4 [==============================] - 0s 4ms/step - loss: 0.0352 - mean_squared_error: 0.0352\n",
            "Epoch 464/1000\n",
            "4/4 [==============================] - 0s 3ms/step - loss: 0.0371 - mean_squared_error: 0.0371\n",
            "Epoch 465/1000\n",
            "4/4 [==============================] - 0s 4ms/step - loss: 0.0346 - mean_squared_error: 0.0346\n",
            "Epoch 466/1000\n",
            "4/4 [==============================] - 0s 4ms/step - loss: 0.0329 - mean_squared_error: 0.0329\n",
            "Epoch 467/1000\n",
            "4/4 [==============================] - 0s 3ms/step - loss: 0.0332 - mean_squared_error: 0.0332\n",
            "Epoch 468/1000\n",
            "4/4 [==============================] - 0s 4ms/step - loss: 0.0326 - mean_squared_error: 0.0326\n",
            "Epoch 469/1000\n",
            "4/4 [==============================] - 0s 4ms/step - loss: 0.0372 - mean_squared_error: 0.0372\n",
            "Epoch 470/1000\n",
            "4/4 [==============================] - 0s 5ms/step - loss: 0.0376 - mean_squared_error: 0.0376\n",
            "Epoch 471/1000\n",
            "4/4 [==============================] - 0s 3ms/step - loss: 0.0377 - mean_squared_error: 0.0377\n",
            "Epoch 472/1000\n",
            "4/4 [==============================] - 0s 3ms/step - loss: 0.0371 - mean_squared_error: 0.0371\n",
            "Epoch 473/1000\n",
            "4/4 [==============================] - 0s 3ms/step - loss: 0.0368 - mean_squared_error: 0.0368\n",
            "Epoch 474/1000\n",
            "4/4 [==============================] - 0s 3ms/step - loss: 0.0381 - mean_squared_error: 0.0381\n",
            "Epoch 475/1000\n",
            "4/4 [==============================] - 0s 4ms/step - loss: 0.0356 - mean_squared_error: 0.0356\n",
            "Epoch 476/1000\n",
            "4/4 [==============================] - 0s 3ms/step - loss: 0.0364 - mean_squared_error: 0.0364\n",
            "Epoch 477/1000\n",
            "4/4 [==============================] - 0s 3ms/step - loss: 0.0477 - mean_squared_error: 0.0477\n",
            "Epoch 478/1000\n",
            "4/4 [==============================] - 0s 4ms/step - loss: 0.0449 - mean_squared_error: 0.0449\n",
            "Epoch 479/1000\n",
            "4/4 [==============================] - 0s 4ms/step - loss: 0.0422 - mean_squared_error: 0.0422\n",
            "Epoch 480/1000\n",
            "4/4 [==============================] - 0s 4ms/step - loss: 0.0386 - mean_squared_error: 0.0386\n",
            "Epoch 481/1000\n",
            "4/4 [==============================] - 0s 4ms/step - loss: 0.0368 - mean_squared_error: 0.0368\n",
            "Epoch 482/1000\n",
            "4/4 [==============================] - 0s 5ms/step - loss: 0.0352 - mean_squared_error: 0.0352\n",
            "Epoch 483/1000\n",
            "4/4 [==============================] - 0s 5ms/step - loss: 0.0335 - mean_squared_error: 0.0335\n",
            "Epoch 484/1000\n",
            "4/4 [==============================] - 0s 4ms/step - loss: 0.0344 - mean_squared_error: 0.0344\n",
            "Epoch 485/1000\n",
            "4/4 [==============================] - 0s 4ms/step - loss: 0.0417 - mean_squared_error: 0.0417\n",
            "Epoch 486/1000\n",
            "4/4 [==============================] - 0s 5ms/step - loss: 0.0450 - mean_squared_error: 0.0450\n",
            "Epoch 487/1000\n",
            "4/4 [==============================] - 0s 5ms/step - loss: 0.0373 - mean_squared_error: 0.0373\n",
            "Epoch 488/1000\n",
            "4/4 [==============================] - 0s 5ms/step - loss: 0.0368 - mean_squared_error: 0.0368\n",
            "Epoch 489/1000\n",
            "4/4 [==============================] - 0s 3ms/step - loss: 0.0465 - mean_squared_error: 0.0465\n",
            "Epoch 490/1000\n",
            "4/4 [==============================] - 0s 3ms/step - loss: 0.0370 - mean_squared_error: 0.0370\n",
            "Epoch 491/1000\n",
            "4/4 [==============================] - 0s 4ms/step - loss: 0.0403 - mean_squared_error: 0.0403\n",
            "Epoch 492/1000\n",
            "4/4 [==============================] - 0s 4ms/step - loss: 0.0430 - mean_squared_error: 0.0430\n",
            "Epoch 493/1000\n",
            "4/4 [==============================] - 0s 4ms/step - loss: 0.0391 - mean_squared_error: 0.0391\n",
            "Epoch 494/1000\n",
            "4/4 [==============================] - 0s 5ms/step - loss: 0.0380 - mean_squared_error: 0.0380\n",
            "Epoch 495/1000\n",
            "4/4 [==============================] - 0s 5ms/step - loss: 0.0365 - mean_squared_error: 0.0365\n",
            "Epoch 496/1000\n",
            "4/4 [==============================] - 0s 4ms/step - loss: 0.0434 - mean_squared_error: 0.0434\n",
            "Epoch 497/1000\n",
            "4/4 [==============================] - 0s 5ms/step - loss: 0.0484 - mean_squared_error: 0.0484\n",
            "Epoch 498/1000\n",
            "4/4 [==============================] - 0s 4ms/step - loss: 0.0370 - mean_squared_error: 0.0370\n",
            "Epoch 499/1000\n",
            "4/4 [==============================] - 0s 4ms/step - loss: 0.0364 - mean_squared_error: 0.0364\n",
            "Epoch 500/1000\n",
            "4/4 [==============================] - 0s 3ms/step - loss: 0.0411 - mean_squared_error: 0.0411\n",
            "Epoch 501/1000\n",
            "4/4 [==============================] - 0s 3ms/step - loss: 0.0318 - mean_squared_error: 0.0318\n",
            "Epoch 502/1000\n",
            "4/4 [==============================] - 0s 3ms/step - loss: 0.0381 - mean_squared_error: 0.0381\n",
            "Epoch 503/1000\n",
            "4/4 [==============================] - 0s 4ms/step - loss: 0.0425 - mean_squared_error: 0.0425\n",
            "Epoch 504/1000\n",
            "4/4 [==============================] - 0s 5ms/step - loss: 0.0430 - mean_squared_error: 0.0430\n",
            "Epoch 505/1000\n",
            "4/4 [==============================] - 0s 4ms/step - loss: 0.0394 - mean_squared_error: 0.0394\n",
            "Epoch 506/1000\n",
            "4/4 [==============================] - 0s 5ms/step - loss: 0.0373 - mean_squared_error: 0.0373\n",
            "Epoch 507/1000\n",
            "4/4 [==============================] - 0s 4ms/step - loss: 0.0356 - mean_squared_error: 0.0356\n",
            "Epoch 508/1000\n",
            "4/4 [==============================] - 0s 4ms/step - loss: 0.0357 - mean_squared_error: 0.0357\n",
            "Epoch 509/1000\n",
            "4/4 [==============================] - 0s 4ms/step - loss: 0.0343 - mean_squared_error: 0.0343\n",
            "Epoch 510/1000\n",
            "4/4 [==============================] - 0s 3ms/step - loss: 0.0394 - mean_squared_error: 0.0394\n",
            "Epoch 511/1000\n",
            "4/4 [==============================] - 0s 4ms/step - loss: 0.0411 - mean_squared_error: 0.0411\n",
            "Epoch 512/1000\n",
            "4/4 [==============================] - 0s 3ms/step - loss: 0.0404 - mean_squared_error: 0.0404\n",
            "Epoch 513/1000\n",
            "4/4 [==============================] - 0s 3ms/step - loss: 0.0427 - mean_squared_error: 0.0427\n",
            "Epoch 514/1000\n",
            "4/4 [==============================] - 0s 4ms/step - loss: 0.0398 - mean_squared_error: 0.0398\n",
            "Epoch 515/1000\n",
            "4/4 [==============================] - 0s 4ms/step - loss: 0.0374 - mean_squared_error: 0.0374\n",
            "Epoch 516/1000\n",
            "4/4 [==============================] - 0s 4ms/step - loss: 0.0339 - mean_squared_error: 0.0339\n",
            "Epoch 517/1000\n",
            "4/4 [==============================] - 0s 4ms/step - loss: 0.0339 - mean_squared_error: 0.0339\n",
            "Epoch 518/1000\n",
            "4/4 [==============================] - 0s 4ms/step - loss: 0.0345 - mean_squared_error: 0.0345\n",
            "Epoch 519/1000\n",
            "4/4 [==============================] - 0s 4ms/step - loss: 0.0337 - mean_squared_error: 0.0337\n",
            "Epoch 520/1000\n",
            "4/4 [==============================] - 0s 5ms/step - loss: 0.0334 - mean_squared_error: 0.0334\n",
            "Epoch 521/1000\n",
            "4/4 [==============================] - 0s 5ms/step - loss: 0.0374 - mean_squared_error: 0.0374\n",
            "Epoch 522/1000\n",
            "4/4 [==============================] - 0s 5ms/step - loss: 0.0359 - mean_squared_error: 0.0359\n",
            "Epoch 523/1000\n",
            "4/4 [==============================] - 0s 5ms/step - loss: 0.0352 - mean_squared_error: 0.0352\n",
            "Epoch 524/1000\n",
            "4/4 [==============================] - 0s 4ms/step - loss: 0.0390 - mean_squared_error: 0.0390\n",
            "Epoch 525/1000\n",
            "4/4 [==============================] - 0s 4ms/step - loss: 0.0383 - mean_squared_error: 0.0383\n",
            "Epoch 526/1000\n",
            "4/4 [==============================] - 0s 4ms/step - loss: 0.0349 - mean_squared_error: 0.0349\n",
            "Epoch 527/1000\n",
            "4/4 [==============================] - 0s 4ms/step - loss: 0.0358 - mean_squared_error: 0.0358\n",
            "Epoch 528/1000\n",
            "4/4 [==============================] - 0s 4ms/step - loss: 0.0352 - mean_squared_error: 0.0352\n",
            "Epoch 529/1000\n",
            "4/4 [==============================] - 0s 5ms/step - loss: 0.0328 - mean_squared_error: 0.0328\n",
            "Epoch 530/1000\n",
            "4/4 [==============================] - 0s 4ms/step - loss: 0.0355 - mean_squared_error: 0.0355\n",
            "Epoch 531/1000\n",
            "4/4 [==============================] - 0s 7ms/step - loss: 0.0362 - mean_squared_error: 0.0362\n",
            "Epoch 532/1000\n",
            "4/4 [==============================] - 0s 5ms/step - loss: 0.0347 - mean_squared_error: 0.0347\n",
            "Epoch 533/1000\n",
            "4/4 [==============================] - 0s 3ms/step - loss: 0.0363 - mean_squared_error: 0.0363\n",
            "Epoch 534/1000\n",
            "4/4 [==============================] - 0s 4ms/step - loss: 0.0345 - mean_squared_error: 0.0345\n",
            "Epoch 535/1000\n",
            "4/4 [==============================] - 0s 5ms/step - loss: 0.0342 - mean_squared_error: 0.0342\n",
            "Epoch 536/1000\n",
            "4/4 [==============================] - 0s 4ms/step - loss: 0.0334 - mean_squared_error: 0.0334\n",
            "Epoch 537/1000\n",
            "4/4 [==============================] - 0s 4ms/step - loss: 0.0356 - mean_squared_error: 0.0356\n",
            "Epoch 538/1000\n",
            "4/4 [==============================] - 0s 4ms/step - loss: 0.0390 - mean_squared_error: 0.0390\n",
            "Epoch 539/1000\n",
            "4/4 [==============================] - 0s 4ms/step - loss: 0.0356 - mean_squared_error: 0.0356\n",
            "Epoch 540/1000\n",
            "4/4 [==============================] - 0s 4ms/step - loss: 0.0342 - mean_squared_error: 0.0342\n",
            "Epoch 541/1000\n",
            "4/4 [==============================] - 0s 4ms/step - loss: 0.0350 - mean_squared_error: 0.0350\n",
            "Epoch 542/1000\n",
            "4/4 [==============================] - 0s 4ms/step - loss: 0.0349 - mean_squared_error: 0.0349\n",
            "Epoch 543/1000\n",
            "4/4 [==============================] - 0s 3ms/step - loss: 0.0374 - mean_squared_error: 0.0374\n",
            "Epoch 544/1000\n",
            "4/4 [==============================] - 0s 4ms/step - loss: 0.0344 - mean_squared_error: 0.0344\n",
            "Epoch 545/1000\n",
            "4/4 [==============================] - 0s 6ms/step - loss: 0.0333 - mean_squared_error: 0.0333\n",
            "Epoch 546/1000\n",
            "4/4 [==============================] - 0s 4ms/step - loss: 0.0349 - mean_squared_error: 0.0349\n",
            "Epoch 547/1000\n",
            "4/4 [==============================] - 0s 3ms/step - loss: 0.0334 - mean_squared_error: 0.0334\n",
            "Epoch 548/1000\n",
            "4/4 [==============================] - 0s 4ms/step - loss: 0.0350 - mean_squared_error: 0.0350\n",
            "Epoch 549/1000\n",
            "4/4 [==============================] - 0s 4ms/step - loss: 0.0343 - mean_squared_error: 0.0343\n",
            "Epoch 550/1000\n",
            "4/4 [==============================] - 0s 4ms/step - loss: 0.0328 - mean_squared_error: 0.0328\n",
            "Epoch 551/1000\n",
            "4/4 [==============================] - 0s 4ms/step - loss: 0.0366 - mean_squared_error: 0.0366\n",
            "Epoch 552/1000\n",
            "4/4 [==============================] - 0s 4ms/step - loss: 0.0327 - mean_squared_error: 0.0327\n",
            "Epoch 553/1000\n",
            "4/4 [==============================] - 0s 3ms/step - loss: 0.0357 - mean_squared_error: 0.0357\n",
            "Epoch 554/1000\n",
            "4/4 [==============================] - 0s 4ms/step - loss: 0.0342 - mean_squared_error: 0.0342\n",
            "Epoch 555/1000\n",
            "4/4 [==============================] - 0s 5ms/step - loss: 0.0388 - mean_squared_error: 0.0388\n",
            "Epoch 556/1000\n",
            "4/4 [==============================] - 0s 5ms/step - loss: 0.0413 - mean_squared_error: 0.0413\n",
            "Epoch 557/1000\n",
            "4/4 [==============================] - 0s 4ms/step - loss: 0.0366 - mean_squared_error: 0.0366\n",
            "Epoch 558/1000\n",
            "4/4 [==============================] - 0s 4ms/step - loss: 0.0472 - mean_squared_error: 0.0472\n",
            "Epoch 559/1000\n",
            "4/4 [==============================] - 0s 4ms/step - loss: 0.0415 - mean_squared_error: 0.0415\n",
            "Epoch 560/1000\n",
            "4/4 [==============================] - 0s 4ms/step - loss: 0.0376 - mean_squared_error: 0.0376\n",
            "Epoch 561/1000\n",
            "4/4 [==============================] - 0s 5ms/step - loss: 0.0393 - mean_squared_error: 0.0393\n",
            "Epoch 562/1000\n",
            "4/4 [==============================] - 0s 4ms/step - loss: 0.0383 - mean_squared_error: 0.0383\n",
            "Epoch 563/1000\n",
            "4/4 [==============================] - 0s 4ms/step - loss: 0.0436 - mean_squared_error: 0.0436\n",
            "Epoch 564/1000\n",
            "4/4 [==============================] - 0s 4ms/step - loss: 0.0371 - mean_squared_error: 0.0371\n",
            "Epoch 565/1000\n",
            "4/4 [==============================] - 0s 4ms/step - loss: 0.0333 - mean_squared_error: 0.0333\n",
            "Epoch 566/1000\n",
            "4/4 [==============================] - 0s 3ms/step - loss: 0.0351 - mean_squared_error: 0.0351\n",
            "Epoch 567/1000\n",
            "4/4 [==============================] - 0s 5ms/step - loss: 0.0378 - mean_squared_error: 0.0378\n",
            "Epoch 568/1000\n",
            "4/4 [==============================] - 0s 3ms/step - loss: 0.0388 - mean_squared_error: 0.0388\n",
            "Epoch 569/1000\n",
            "4/4 [==============================] - 0s 4ms/step - loss: 0.0374 - mean_squared_error: 0.0374\n",
            "Epoch 570/1000\n",
            "4/4 [==============================] - 0s 4ms/step - loss: 0.0410 - mean_squared_error: 0.0410\n",
            "Epoch 571/1000\n",
            "4/4 [==============================] - 0s 4ms/step - loss: 0.0374 - mean_squared_error: 0.0374\n",
            "Epoch 572/1000\n",
            "4/4 [==============================] - 0s 3ms/step - loss: 0.0396 - mean_squared_error: 0.0396\n",
            "Epoch 573/1000\n",
            "4/4 [==============================] - 0s 4ms/step - loss: 0.0386 - mean_squared_error: 0.0386\n",
            "Epoch 574/1000\n",
            "4/4 [==============================] - 0s 4ms/step - loss: 0.0434 - mean_squared_error: 0.0434\n",
            "Epoch 575/1000\n",
            "4/4 [==============================] - 0s 4ms/step - loss: 0.0374 - mean_squared_error: 0.0374\n",
            "Epoch 576/1000\n",
            "4/4 [==============================] - 0s 4ms/step - loss: 0.0351 - mean_squared_error: 0.0351\n",
            "Epoch 577/1000\n",
            "4/4 [==============================] - 0s 4ms/step - loss: 0.0375 - mean_squared_error: 0.0375\n",
            "Epoch 578/1000\n",
            "4/4 [==============================] - 0s 5ms/step - loss: 0.0325 - mean_squared_error: 0.0325\n",
            "Epoch 579/1000\n",
            "4/4 [==============================] - 0s 7ms/step - loss: 0.0350 - mean_squared_error: 0.0350\n",
            "Epoch 580/1000\n",
            "4/4 [==============================] - 0s 6ms/step - loss: 0.0376 - mean_squared_error: 0.0376\n",
            "Epoch 581/1000\n",
            "4/4 [==============================] - 0s 4ms/step - loss: 0.0333 - mean_squared_error: 0.0333\n",
            "Epoch 582/1000\n",
            "4/4 [==============================] - 0s 4ms/step - loss: 0.0361 - mean_squared_error: 0.0361\n",
            "Epoch 583/1000\n",
            "4/4 [==============================] - 0s 4ms/step - loss: 0.0355 - mean_squared_error: 0.0355\n",
            "Epoch 584/1000\n",
            "4/4 [==============================] - 0s 4ms/step - loss: 0.0348 - mean_squared_error: 0.0348\n",
            "Epoch 585/1000\n",
            "4/4 [==============================] - 0s 4ms/step - loss: 0.0333 - mean_squared_error: 0.0333\n",
            "Epoch 586/1000\n",
            "4/4 [==============================] - 0s 4ms/step - loss: 0.0351 - mean_squared_error: 0.0351\n",
            "Epoch 587/1000\n",
            "4/4 [==============================] - 0s 4ms/step - loss: 0.0337 - mean_squared_error: 0.0337\n",
            "Epoch 588/1000\n",
            "4/4 [==============================] - 0s 3ms/step - loss: 0.0329 - mean_squared_error: 0.0329\n",
            "Epoch 589/1000\n",
            "4/4 [==============================] - 0s 4ms/step - loss: 0.0361 - mean_squared_error: 0.0361\n",
            "Epoch 590/1000\n",
            "4/4 [==============================] - 0s 4ms/step - loss: 0.0348 - mean_squared_error: 0.0348\n",
            "Epoch 591/1000\n",
            "4/4 [==============================] - 0s 4ms/step - loss: 0.0353 - mean_squared_error: 0.0353\n",
            "Epoch 592/1000\n",
            "4/4 [==============================] - 0s 4ms/step - loss: 0.0376 - mean_squared_error: 0.0376\n",
            "Epoch 593/1000\n",
            "4/4 [==============================] - 0s 4ms/step - loss: 0.0426 - mean_squared_error: 0.0426\n",
            "Epoch 594/1000\n",
            "4/4 [==============================] - 0s 5ms/step - loss: 0.0377 - mean_squared_error: 0.0377\n",
            "Epoch 595/1000\n",
            "4/4 [==============================] - 0s 5ms/step - loss: 0.0360 - mean_squared_error: 0.0360\n",
            "Epoch 596/1000\n",
            "4/4 [==============================] - 0s 5ms/step - loss: 0.0352 - mean_squared_error: 0.0352\n",
            "Epoch 597/1000\n",
            "4/4 [==============================] - 0s 5ms/step - loss: 0.0387 - mean_squared_error: 0.0387\n",
            "Epoch 598/1000\n",
            "4/4 [==============================] - 0s 4ms/step - loss: 0.0356 - mean_squared_error: 0.0356\n",
            "Epoch 599/1000\n",
            "4/4 [==============================] - 0s 4ms/step - loss: 0.0343 - mean_squared_error: 0.0343\n",
            "Epoch 600/1000\n",
            "4/4 [==============================] - 0s 3ms/step - loss: 0.0345 - mean_squared_error: 0.0345\n",
            "Epoch 601/1000\n",
            "4/4 [==============================] - 0s 3ms/step - loss: 0.0341 - mean_squared_error: 0.0341\n",
            "Epoch 602/1000\n",
            "4/4 [==============================] - 0s 3ms/step - loss: 0.0336 - mean_squared_error: 0.0336\n",
            "Epoch 603/1000\n",
            "4/4 [==============================] - 0s 5ms/step - loss: 0.0339 - mean_squared_error: 0.0339\n",
            "Epoch 604/1000\n",
            "4/4 [==============================] - 0s 4ms/step - loss: 0.0340 - mean_squared_error: 0.0340\n",
            "Epoch 605/1000\n",
            "4/4 [==============================] - 0s 3ms/step - loss: 0.0350 - mean_squared_error: 0.0350\n",
            "Epoch 606/1000\n",
            "4/4 [==============================] - 0s 3ms/step - loss: 0.0329 - mean_squared_error: 0.0329\n",
            "Epoch 607/1000\n",
            "4/4 [==============================] - 0s 4ms/step - loss: 0.0385 - mean_squared_error: 0.0385\n",
            "Epoch 608/1000\n",
            "4/4 [==============================] - 0s 4ms/step - loss: 0.0343 - mean_squared_error: 0.0343\n",
            "Epoch 609/1000\n",
            "4/4 [==============================] - 0s 6ms/step - loss: 0.0372 - mean_squared_error: 0.0372\n",
            "Epoch 610/1000\n",
            "4/4 [==============================] - 0s 4ms/step - loss: 0.0359 - mean_squared_error: 0.0359\n",
            "Epoch 611/1000\n",
            "4/4 [==============================] - 0s 4ms/step - loss: 0.0343 - mean_squared_error: 0.0343\n",
            "Epoch 612/1000\n",
            "4/4 [==============================] - 0s 5ms/step - loss: 0.0341 - mean_squared_error: 0.0341\n",
            "Epoch 613/1000\n",
            "4/4 [==============================] - 0s 6ms/step - loss: 0.0342 - mean_squared_error: 0.0342\n",
            "Epoch 614/1000\n",
            "4/4 [==============================] - 0s 8ms/step - loss: 0.0359 - mean_squared_error: 0.0359\n",
            "Epoch 615/1000\n",
            "4/4 [==============================] - 0s 5ms/step - loss: 0.0328 - mean_squared_error: 0.0328\n",
            "Epoch 616/1000\n",
            "4/4 [==============================] - 0s 4ms/step - loss: 0.0394 - mean_squared_error: 0.0394\n",
            "Epoch 617/1000\n",
            "4/4 [==============================] - 0s 5ms/step - loss: 0.0348 - mean_squared_error: 0.0348\n",
            "Epoch 618/1000\n",
            "4/4 [==============================] - 0s 4ms/step - loss: 0.0345 - mean_squared_error: 0.0345\n",
            "Epoch 619/1000\n",
            "4/4 [==============================] - 0s 3ms/step - loss: 0.0356 - mean_squared_error: 0.0356\n",
            "Epoch 620/1000\n",
            "4/4 [==============================] - 0s 4ms/step - loss: 0.0336 - mean_squared_error: 0.0336\n",
            "Epoch 621/1000\n",
            "4/4 [==============================] - 0s 5ms/step - loss: 0.0402 - mean_squared_error: 0.0402\n",
            "Epoch 622/1000\n",
            "4/4 [==============================] - 0s 7ms/step - loss: 0.0352 - mean_squared_error: 0.0352\n",
            "Epoch 623/1000\n",
            "4/4 [==============================] - 0s 5ms/step - loss: 0.0397 - mean_squared_error: 0.0397\n",
            "Epoch 624/1000\n",
            "4/4 [==============================] - 0s 6ms/step - loss: 0.0390 - mean_squared_error: 0.0390\n",
            "Epoch 625/1000\n",
            "4/4 [==============================] - 0s 6ms/step - loss: 0.0413 - mean_squared_error: 0.0413\n",
            "Epoch 626/1000\n",
            "4/4 [==============================] - 0s 5ms/step - loss: 0.0375 - mean_squared_error: 0.0375\n",
            "Epoch 627/1000\n",
            "4/4 [==============================] - 0s 4ms/step - loss: 0.0380 - mean_squared_error: 0.0380\n",
            "Epoch 628/1000\n",
            "4/4 [==============================] - 0s 4ms/step - loss: 0.0345 - mean_squared_error: 0.0345\n",
            "Epoch 629/1000\n",
            "4/4 [==============================] - 0s 5ms/step - loss: 0.0340 - mean_squared_error: 0.0340\n",
            "Epoch 630/1000\n",
            "4/4 [==============================] - 0s 6ms/step - loss: 0.0384 - mean_squared_error: 0.0384\n",
            "Epoch 631/1000\n",
            "4/4 [==============================] - 0s 4ms/step - loss: 0.0351 - mean_squared_error: 0.0351\n",
            "Epoch 632/1000\n",
            "4/4 [==============================] - 0s 4ms/step - loss: 0.0350 - mean_squared_error: 0.0350\n",
            "Epoch 633/1000\n",
            "4/4 [==============================] - 0s 4ms/step - loss: 0.0363 - mean_squared_error: 0.0363\n",
            "Epoch 634/1000\n",
            "4/4 [==============================] - 0s 4ms/step - loss: 0.0384 - mean_squared_error: 0.0384\n",
            "Epoch 635/1000\n",
            "4/4 [==============================] - 0s 4ms/step - loss: 0.0364 - mean_squared_error: 0.0364\n",
            "Epoch 636/1000\n",
            "4/4 [==============================] - 0s 4ms/step - loss: 0.0361 - mean_squared_error: 0.0361\n",
            "Epoch 637/1000\n",
            "4/4 [==============================] - 0s 4ms/step - loss: 0.0360 - mean_squared_error: 0.0360\n",
            "Epoch 638/1000\n",
            "4/4 [==============================] - 0s 4ms/step - loss: 0.0385 - mean_squared_error: 0.0385\n",
            "Epoch 639/1000\n",
            "4/4 [==============================] - 0s 5ms/step - loss: 0.0352 - mean_squared_error: 0.0352\n",
            "Epoch 640/1000\n",
            "4/4 [==============================] - 0s 4ms/step - loss: 0.0336 - mean_squared_error: 0.0336\n",
            "Epoch 641/1000\n",
            "4/4 [==============================] - 0s 4ms/step - loss: 0.0352 - mean_squared_error: 0.0352\n",
            "Epoch 642/1000\n",
            "4/4 [==============================] - 0s 4ms/step - loss: 0.0352 - mean_squared_error: 0.0352\n",
            "Epoch 643/1000\n",
            "4/4 [==============================] - 0s 4ms/step - loss: 0.0363 - mean_squared_error: 0.0363\n",
            "Epoch 644/1000\n",
            "4/4 [==============================] - 0s 3ms/step - loss: 0.0336 - mean_squared_error: 0.0336\n",
            "Epoch 645/1000\n",
            "4/4 [==============================] - 0s 4ms/step - loss: 0.0345 - mean_squared_error: 0.0345\n",
            "Epoch 646/1000\n",
            "4/4 [==============================] - 0s 4ms/step - loss: 0.0367 - mean_squared_error: 0.0367\n",
            "Epoch 647/1000\n",
            "4/4 [==============================] - 0s 5ms/step - loss: 0.0325 - mean_squared_error: 0.0325\n",
            "Epoch 648/1000\n",
            "4/4 [==============================] - 0s 4ms/step - loss: 0.0353 - mean_squared_error: 0.0353\n",
            "Epoch 649/1000\n",
            "4/4 [==============================] - 0s 4ms/step - loss: 0.0355 - mean_squared_error: 0.0355\n",
            "Epoch 650/1000\n",
            "4/4 [==============================] - 0s 3ms/step - loss: 0.0344 - mean_squared_error: 0.0344\n",
            "Epoch 651/1000\n",
            "4/4 [==============================] - 0s 4ms/step - loss: 0.0370 - mean_squared_error: 0.0370\n",
            "Epoch 652/1000\n",
            "4/4 [==============================] - 0s 4ms/step - loss: 0.0355 - mean_squared_error: 0.0355\n",
            "Epoch 653/1000\n",
            "4/4 [==============================] - 0s 4ms/step - loss: 0.0355 - mean_squared_error: 0.0355\n",
            "Epoch 654/1000\n",
            "4/4 [==============================] - 0s 4ms/step - loss: 0.0342 - mean_squared_error: 0.0342\n",
            "Epoch 655/1000\n",
            "4/4 [==============================] - 0s 5ms/step - loss: 0.0386 - mean_squared_error: 0.0386\n",
            "Epoch 656/1000\n",
            "4/4 [==============================] - 0s 3ms/step - loss: 0.0343 - mean_squared_error: 0.0343\n",
            "Epoch 657/1000\n",
            "4/4 [==============================] - 0s 3ms/step - loss: 0.0351 - mean_squared_error: 0.0351\n",
            "Epoch 658/1000\n",
            "4/4 [==============================] - 0s 4ms/step - loss: 0.0340 - mean_squared_error: 0.0340\n",
            "Epoch 659/1000\n",
            "4/4 [==============================] - 0s 4ms/step - loss: 0.0342 - mean_squared_error: 0.0342\n",
            "Epoch 660/1000\n",
            "4/4 [==============================] - 0s 4ms/step - loss: 0.0341 - mean_squared_error: 0.0341\n",
            "Epoch 661/1000\n",
            "4/4 [==============================] - 0s 4ms/step - loss: 0.0328 - mean_squared_error: 0.0328\n",
            "Epoch 662/1000\n",
            "4/4 [==============================] - 0s 4ms/step - loss: 0.0355 - mean_squared_error: 0.0355\n",
            "Epoch 663/1000\n",
            "4/4 [==============================] - 0s 4ms/step - loss: 0.0329 - mean_squared_error: 0.0329\n",
            "Epoch 664/1000\n",
            "4/4 [==============================] - 0s 4ms/step - loss: 0.0329 - mean_squared_error: 0.0329\n",
            "Epoch 665/1000\n",
            "4/4 [==============================] - 0s 4ms/step - loss: 0.0339 - mean_squared_error: 0.0339\n",
            "Epoch 666/1000\n",
            "4/4 [==============================] - 0s 4ms/step - loss: 0.0342 - mean_squared_error: 0.0342\n",
            "Epoch 667/1000\n",
            "4/4 [==============================] - 0s 4ms/step - loss: 0.0353 - mean_squared_error: 0.0353\n",
            "Epoch 668/1000\n",
            "4/4 [==============================] - 0s 4ms/step - loss: 0.0344 - mean_squared_error: 0.0344\n",
            "Epoch 669/1000\n",
            "4/4 [==============================] - 0s 5ms/step - loss: 0.0329 - mean_squared_error: 0.0329\n",
            "Epoch 670/1000\n",
            "4/4 [==============================] - 0s 5ms/step - loss: 0.0335 - mean_squared_error: 0.0335\n",
            "Epoch 671/1000\n",
            "4/4 [==============================] - 0s 5ms/step - loss: 0.0344 - mean_squared_error: 0.0344\n",
            "Epoch 672/1000\n",
            "4/4 [==============================] - 0s 5ms/step - loss: 0.0389 - mean_squared_error: 0.0389\n",
            "Epoch 673/1000\n",
            "4/4 [==============================] - 0s 6ms/step - loss: 0.0356 - mean_squared_error: 0.0356\n",
            "Epoch 674/1000\n",
            "4/4 [==============================] - 0s 5ms/step - loss: 0.0376 - mean_squared_error: 0.0376\n",
            "Epoch 675/1000\n",
            "4/4 [==============================] - 0s 5ms/step - loss: 0.0363 - mean_squared_error: 0.0363\n",
            "Epoch 676/1000\n",
            "4/4 [==============================] - 0s 4ms/step - loss: 0.0383 - mean_squared_error: 0.0383\n",
            "Epoch 677/1000\n",
            "4/4 [==============================] - 0s 4ms/step - loss: 0.0388 - mean_squared_error: 0.0388\n",
            "Epoch 678/1000\n",
            "4/4 [==============================] - 0s 4ms/step - loss: 0.0375 - mean_squared_error: 0.0375\n",
            "Epoch 679/1000\n",
            "4/4 [==============================] - 0s 4ms/step - loss: 0.0360 - mean_squared_error: 0.0360\n",
            "Epoch 680/1000\n",
            "4/4 [==============================] - 0s 5ms/step - loss: 0.0380 - mean_squared_error: 0.0380\n",
            "Epoch 681/1000\n",
            "4/4 [==============================] - 0s 4ms/step - loss: 0.0347 - mean_squared_error: 0.0347\n",
            "Epoch 682/1000\n",
            "4/4 [==============================] - 0s 4ms/step - loss: 0.0347 - mean_squared_error: 0.0347\n",
            "Epoch 683/1000\n",
            "4/4 [==============================] - 0s 4ms/step - loss: 0.0356 - mean_squared_error: 0.0356\n",
            "Epoch 684/1000\n",
            "4/4 [==============================] - 0s 4ms/step - loss: 0.0336 - mean_squared_error: 0.0336\n",
            "Epoch 685/1000\n",
            "4/4 [==============================] - 0s 4ms/step - loss: 0.0342 - mean_squared_error: 0.0342\n",
            "Epoch 686/1000\n",
            "4/4 [==============================] - 0s 4ms/step - loss: 0.0339 - mean_squared_error: 0.0339\n",
            "Epoch 687/1000\n",
            "4/4 [==============================] - 0s 4ms/step - loss: 0.0331 - mean_squared_error: 0.0331\n",
            "Epoch 688/1000\n",
            "4/4 [==============================] - 0s 4ms/step - loss: 0.0344 - mean_squared_error: 0.0344\n",
            "Epoch 689/1000\n",
            "4/4 [==============================] - 0s 5ms/step - loss: 0.0347 - mean_squared_error: 0.0347\n",
            "Epoch 690/1000\n",
            "4/4 [==============================] - 0s 5ms/step - loss: 0.0342 - mean_squared_error: 0.0342\n",
            "Epoch 691/1000\n",
            "4/4 [==============================] - 0s 7ms/step - loss: 0.0341 - mean_squared_error: 0.0341\n",
            "Epoch 692/1000\n",
            "4/4 [==============================] - 0s 4ms/step - loss: 0.0332 - mean_squared_error: 0.0332\n",
            "Epoch 693/1000\n",
            "4/4 [==============================] - 0s 5ms/step - loss: 0.0342 - mean_squared_error: 0.0342\n",
            "Epoch 694/1000\n",
            "4/4 [==============================] - 0s 4ms/step - loss: 0.0344 - mean_squared_error: 0.0344\n",
            "Epoch 695/1000\n",
            "4/4 [==============================] - 0s 4ms/step - loss: 0.0367 - mean_squared_error: 0.0367\n",
            "Epoch 696/1000\n",
            "4/4 [==============================] - 0s 4ms/step - loss: 0.0384 - mean_squared_error: 0.0384\n",
            "Epoch 697/1000\n",
            "4/4 [==============================] - 0s 4ms/step - loss: 0.0378 - mean_squared_error: 0.0378\n",
            "Epoch 698/1000\n",
            "4/4 [==============================] - 0s 4ms/step - loss: 0.0395 - mean_squared_error: 0.0395\n",
            "Epoch 699/1000\n",
            "4/4 [==============================] - 0s 4ms/step - loss: 0.0386 - mean_squared_error: 0.0386\n",
            "Epoch 700/1000\n",
            "4/4 [==============================] - 0s 3ms/step - loss: 0.0370 - mean_squared_error: 0.0370\n",
            "Epoch 701/1000\n",
            "4/4 [==============================] - 0s 5ms/step - loss: 0.0362 - mean_squared_error: 0.0362\n",
            "Epoch 702/1000\n",
            "4/4 [==============================] - 0s 4ms/step - loss: 0.0373 - mean_squared_error: 0.0373\n",
            "Epoch 703/1000\n",
            "4/4 [==============================] - 0s 4ms/step - loss: 0.0395 - mean_squared_error: 0.0395\n",
            "Epoch 704/1000\n",
            "4/4 [==============================] - 0s 3ms/step - loss: 0.0423 - mean_squared_error: 0.0423\n",
            "Epoch 705/1000\n",
            "4/4 [==============================] - 0s 4ms/step - loss: 0.0409 - mean_squared_error: 0.0409\n",
            "Epoch 706/1000\n",
            "4/4 [==============================] - 0s 4ms/step - loss: 0.0394 - mean_squared_error: 0.0394\n",
            "Epoch 707/1000\n",
            "4/4 [==============================] - 0s 4ms/step - loss: 0.0373 - mean_squared_error: 0.0373\n",
            "Epoch 708/1000\n",
            "4/4 [==============================] - 0s 3ms/step - loss: 0.0367 - mean_squared_error: 0.0367\n",
            "Epoch 709/1000\n",
            "4/4 [==============================] - 0s 4ms/step - loss: 0.0351 - mean_squared_error: 0.0351\n",
            "Epoch 710/1000\n",
            "4/4 [==============================] - 0s 5ms/step - loss: 0.0348 - mean_squared_error: 0.0348\n",
            "Epoch 711/1000\n",
            "4/4 [==============================] - 0s 4ms/step - loss: 0.0357 - mean_squared_error: 0.0357\n",
            "Epoch 712/1000\n",
            "4/4 [==============================] - 0s 4ms/step - loss: 0.0367 - mean_squared_error: 0.0367\n",
            "Epoch 713/1000\n",
            "4/4 [==============================] - 0s 5ms/step - loss: 0.0343 - mean_squared_error: 0.0343\n",
            "Epoch 714/1000\n",
            "4/4 [==============================] - 0s 5ms/step - loss: 0.0341 - mean_squared_error: 0.0341\n",
            "Epoch 715/1000\n",
            "4/4 [==============================] - 0s 5ms/step - loss: 0.0385 - mean_squared_error: 0.0385\n",
            "Epoch 716/1000\n",
            "4/4 [==============================] - 0s 6ms/step - loss: 0.0350 - mean_squared_error: 0.0350\n",
            "Epoch 717/1000\n",
            "4/4 [==============================] - 0s 5ms/step - loss: 0.0360 - mean_squared_error: 0.0360\n",
            "Epoch 718/1000\n",
            "4/4 [==============================] - 0s 5ms/step - loss: 0.0365 - mean_squared_error: 0.0365\n",
            "Epoch 719/1000\n",
            "4/4 [==============================] - 0s 5ms/step - loss: 0.0334 - mean_squared_error: 0.0334\n",
            "Epoch 720/1000\n",
            "4/4 [==============================] - 0s 4ms/step - loss: 0.0356 - mean_squared_error: 0.0356\n",
            "Epoch 721/1000\n",
            "4/4 [==============================] - 0s 4ms/step - loss: 0.0344 - mean_squared_error: 0.0344\n",
            "Epoch 722/1000\n",
            "4/4 [==============================] - 0s 3ms/step - loss: 0.0363 - mean_squared_error: 0.0363\n",
            "Epoch 723/1000\n",
            "4/4 [==============================] - 0s 4ms/step - loss: 0.0366 - mean_squared_error: 0.0366\n",
            "Epoch 724/1000\n",
            "4/4 [==============================] - 0s 4ms/step - loss: 0.0371 - mean_squared_error: 0.0371\n",
            "Epoch 725/1000\n",
            "4/4 [==============================] - 0s 4ms/step - loss: 0.0365 - mean_squared_error: 0.0365\n",
            "Epoch 726/1000\n",
            "4/4 [==============================] - 0s 4ms/step - loss: 0.0369 - mean_squared_error: 0.0369\n",
            "Epoch 727/1000\n",
            "4/4 [==============================] - 0s 4ms/step - loss: 0.0351 - mean_squared_error: 0.0351\n",
            "Epoch 728/1000\n",
            "4/4 [==============================] - 0s 4ms/step - loss: 0.0360 - mean_squared_error: 0.0360\n",
            "Epoch 729/1000\n",
            "4/4 [==============================] - 0s 4ms/step - loss: 0.0342 - mean_squared_error: 0.0342\n",
            "Epoch 730/1000\n",
            "4/4 [==============================] - 0s 4ms/step - loss: 0.0337 - mean_squared_error: 0.0337\n",
            "Epoch 731/1000\n",
            "4/4 [==============================] - 0s 4ms/step - loss: 0.0341 - mean_squared_error: 0.0341\n",
            "Epoch 732/1000\n",
            "4/4 [==============================] - 0s 4ms/step - loss: 0.0325 - mean_squared_error: 0.0325\n",
            "Epoch 733/1000\n",
            "4/4 [==============================] - 0s 4ms/step - loss: 0.0346 - mean_squared_error: 0.0346\n",
            "Epoch 734/1000\n",
            "4/4 [==============================] - 0s 3ms/step - loss: 0.0327 - mean_squared_error: 0.0327\n",
            "Epoch 735/1000\n",
            "4/4 [==============================] - 0s 3ms/step - loss: 0.0367 - mean_squared_error: 0.0367\n",
            "Epoch 736/1000\n",
            "4/4 [==============================] - 0s 3ms/step - loss: 0.0338 - mean_squared_error: 0.0338\n",
            "Epoch 737/1000\n",
            "4/4 [==============================] - 0s 4ms/step - loss: 0.0341 - mean_squared_error: 0.0341\n",
            "Epoch 738/1000\n",
            "4/4 [==============================] - 0s 3ms/step - loss: 0.0383 - mean_squared_error: 0.0383\n",
            "Epoch 739/1000\n",
            "4/4 [==============================] - 0s 3ms/step - loss: 0.0393 - mean_squared_error: 0.0393\n",
            "Epoch 740/1000\n",
            "4/4 [==============================] - 0s 3ms/step - loss: 0.0417 - mean_squared_error: 0.0417\n",
            "Epoch 741/1000\n",
            "4/4 [==============================] - 0s 5ms/step - loss: 0.0387 - mean_squared_error: 0.0387\n",
            "Epoch 742/1000\n",
            "4/4 [==============================] - 0s 6ms/step - loss: 0.0372 - mean_squared_error: 0.0372\n",
            "Epoch 743/1000\n",
            "4/4 [==============================] - 0s 5ms/step - loss: 0.0382 - mean_squared_error: 0.0382\n",
            "Epoch 744/1000\n",
            "4/4 [==============================] - 0s 4ms/step - loss: 0.0337 - mean_squared_error: 0.0337\n",
            "Epoch 745/1000\n",
            "4/4 [==============================] - 0s 3ms/step - loss: 0.0335 - mean_squared_error: 0.0335\n",
            "Epoch 746/1000\n",
            "4/4 [==============================] - 0s 4ms/step - loss: 0.0390 - mean_squared_error: 0.0390\n",
            "Epoch 747/1000\n",
            "4/4 [==============================] - 0s 3ms/step - loss: 0.0349 - mean_squared_error: 0.0349\n",
            "Epoch 748/1000\n",
            "4/4 [==============================] - 0s 4ms/step - loss: 0.0350 - mean_squared_error: 0.0350\n",
            "Epoch 749/1000\n",
            "4/4 [==============================] - 0s 4ms/step - loss: 0.0343 - mean_squared_error: 0.0343\n",
            "Epoch 750/1000\n",
            "4/4 [==============================] - 0s 4ms/step - loss: 0.0336 - mean_squared_error: 0.0336\n",
            "Epoch 751/1000\n",
            "4/4 [==============================] - 0s 4ms/step - loss: 0.0331 - mean_squared_error: 0.0331\n",
            "Epoch 752/1000\n",
            "4/4 [==============================] - 0s 5ms/step - loss: 0.0339 - mean_squared_error: 0.0339\n",
            "Epoch 753/1000\n",
            "4/4 [==============================] - 0s 5ms/step - loss: 0.0419 - mean_squared_error: 0.0419\n",
            "Epoch 754/1000\n",
            "4/4 [==============================] - 0s 6ms/step - loss: 0.0375 - mean_squared_error: 0.0375\n",
            "Epoch 755/1000\n",
            "4/4 [==============================] - 0s 5ms/step - loss: 0.0411 - mean_squared_error: 0.0411\n",
            "Epoch 756/1000\n",
            "4/4 [==============================] - 0s 6ms/step - loss: 0.0404 - mean_squared_error: 0.0404\n",
            "Epoch 757/1000\n",
            "4/4 [==============================] - 0s 5ms/step - loss: 0.0460 - mean_squared_error: 0.0460\n",
            "Epoch 758/1000\n",
            "4/4 [==============================] - 0s 3ms/step - loss: 0.0447 - mean_squared_error: 0.0447\n",
            "Epoch 759/1000\n",
            "4/4 [==============================] - 0s 5ms/step - loss: 0.0449 - mean_squared_error: 0.0449\n",
            "Epoch 760/1000\n",
            "4/4 [==============================] - 0s 5ms/step - loss: 0.0381 - mean_squared_error: 0.0381\n",
            "Epoch 761/1000\n",
            "4/4 [==============================] - 0s 5ms/step - loss: 0.0356 - mean_squared_error: 0.0356\n",
            "Epoch 762/1000\n",
            "4/4 [==============================] - 0s 5ms/step - loss: 0.0335 - mean_squared_error: 0.0335\n",
            "Epoch 763/1000\n",
            "4/4 [==============================] - 0s 5ms/step - loss: 0.0350 - mean_squared_error: 0.0350\n",
            "Epoch 764/1000\n",
            "4/4 [==============================] - 0s 6ms/step - loss: 0.0357 - mean_squared_error: 0.0357\n",
            "Epoch 765/1000\n",
            "4/4 [==============================] - 0s 4ms/step - loss: 0.0402 - mean_squared_error: 0.0402\n",
            "Epoch 766/1000\n",
            "4/4 [==============================] - 0s 6ms/step - loss: 0.0327 - mean_squared_error: 0.0327\n",
            "Epoch 767/1000\n",
            "4/4 [==============================] - 0s 4ms/step - loss: 0.0396 - mean_squared_error: 0.0396\n",
            "Epoch 768/1000\n",
            "4/4 [==============================] - 0s 5ms/step - loss: 0.0380 - mean_squared_error: 0.0380\n",
            "Epoch 769/1000\n",
            "4/4 [==============================] - 0s 7ms/step - loss: 0.0344 - mean_squared_error: 0.0344\n",
            "Epoch 770/1000\n",
            "4/4 [==============================] - 0s 5ms/step - loss: 0.0342 - mean_squared_error: 0.0342\n",
            "Epoch 771/1000\n",
            "4/4 [==============================] - 0s 4ms/step - loss: 0.0355 - mean_squared_error: 0.0355\n",
            "Epoch 772/1000\n",
            "4/4 [==============================] - 0s 4ms/step - loss: 0.0347 - mean_squared_error: 0.0347\n",
            "Epoch 773/1000\n",
            "4/4 [==============================] - 0s 5ms/step - loss: 0.0327 - mean_squared_error: 0.0327\n",
            "Epoch 774/1000\n",
            "4/4 [==============================] - 0s 4ms/step - loss: 0.0366 - mean_squared_error: 0.0366\n",
            "Epoch 775/1000\n",
            "4/4 [==============================] - 0s 4ms/step - loss: 0.0344 - mean_squared_error: 0.0344\n",
            "Epoch 776/1000\n",
            "4/4 [==============================] - 0s 4ms/step - loss: 0.0340 - mean_squared_error: 0.0340\n",
            "Epoch 777/1000\n",
            "4/4 [==============================] - 0s 4ms/step - loss: 0.0340 - mean_squared_error: 0.0340\n",
            "Epoch 778/1000\n",
            "4/4 [==============================] - 0s 4ms/step - loss: 0.0362 - mean_squared_error: 0.0362\n",
            "Epoch 779/1000\n",
            "4/4 [==============================] - 0s 5ms/step - loss: 0.0334 - mean_squared_error: 0.0334\n",
            "Epoch 780/1000\n",
            "4/4 [==============================] - 0s 4ms/step - loss: 0.0345 - mean_squared_error: 0.0345\n",
            "Epoch 781/1000\n",
            "4/4 [==============================] - 0s 6ms/step - loss: 0.0368 - mean_squared_error: 0.0368\n",
            "Epoch 782/1000\n",
            "4/4 [==============================] - 0s 4ms/step - loss: 0.0346 - mean_squared_error: 0.0346\n",
            "Epoch 783/1000\n",
            "4/4 [==============================] - 0s 4ms/step - loss: 0.0338 - mean_squared_error: 0.0338\n",
            "Epoch 784/1000\n",
            "4/4 [==============================] - 0s 5ms/step - loss: 0.0360 - mean_squared_error: 0.0360\n",
            "Epoch 785/1000\n",
            "4/4 [==============================] - 0s 5ms/step - loss: 0.0354 - mean_squared_error: 0.0354\n",
            "Epoch 786/1000\n",
            "4/4 [==============================] - 0s 4ms/step - loss: 0.0329 - mean_squared_error: 0.0329\n",
            "Epoch 787/1000\n",
            "4/4 [==============================] - 0s 5ms/step - loss: 0.0331 - mean_squared_error: 0.0331\n",
            "Epoch 788/1000\n",
            "4/4 [==============================] - 0s 4ms/step - loss: 0.0367 - mean_squared_error: 0.0367\n",
            "Epoch 789/1000\n",
            "4/4 [==============================] - 0s 4ms/step - loss: 0.0381 - mean_squared_error: 0.0381\n",
            "Epoch 790/1000\n",
            "4/4 [==============================] - 0s 4ms/step - loss: 0.0356 - mean_squared_error: 0.0356\n",
            "Epoch 791/1000\n",
            "4/4 [==============================] - 0s 4ms/step - loss: 0.0390 - mean_squared_error: 0.0390\n",
            "Epoch 792/1000\n",
            "4/4 [==============================] - 0s 5ms/step - loss: 0.0370 - mean_squared_error: 0.0370\n",
            "Epoch 793/1000\n",
            "4/4 [==============================] - 0s 4ms/step - loss: 0.0368 - mean_squared_error: 0.0368\n",
            "Epoch 794/1000\n",
            "4/4 [==============================] - 0s 4ms/step - loss: 0.0324 - mean_squared_error: 0.0324\n",
            "Epoch 795/1000\n",
            "4/4 [==============================] - 0s 5ms/step - loss: 0.0333 - mean_squared_error: 0.0333\n",
            "Epoch 796/1000\n",
            "4/4 [==============================] - 0s 6ms/step - loss: 0.0343 - mean_squared_error: 0.0343\n",
            "Epoch 797/1000\n",
            "4/4 [==============================] - 0s 5ms/step - loss: 0.0371 - mean_squared_error: 0.0371\n",
            "Epoch 798/1000\n",
            "4/4 [==============================] - 0s 5ms/step - loss: 0.0373 - mean_squared_error: 0.0373\n",
            "Epoch 799/1000\n",
            "4/4 [==============================] - 0s 6ms/step - loss: 0.0405 - mean_squared_error: 0.0405\n",
            "Epoch 800/1000\n",
            "4/4 [==============================] - 0s 4ms/step - loss: 0.0387 - mean_squared_error: 0.0387\n",
            "Epoch 801/1000\n",
            "4/4 [==============================] - 0s 4ms/step - loss: 0.0369 - mean_squared_error: 0.0369\n",
            "Epoch 802/1000\n",
            "4/4 [==============================] - 0s 6ms/step - loss: 0.0372 - mean_squared_error: 0.0372\n",
            "Epoch 803/1000\n",
            "4/4 [==============================] - 0s 6ms/step - loss: 0.0349 - mean_squared_error: 0.0349\n",
            "Epoch 804/1000\n",
            "4/4 [==============================] - 0s 4ms/step - loss: 0.0347 - mean_squared_error: 0.0347\n",
            "Epoch 805/1000\n",
            "4/4 [==============================] - 0s 5ms/step - loss: 0.0330 - mean_squared_error: 0.0330\n",
            "Epoch 806/1000\n",
            "4/4 [==============================] - 0s 5ms/step - loss: 0.0343 - mean_squared_error: 0.0343\n",
            "Epoch 807/1000\n",
            "4/4 [==============================] - 0s 4ms/step - loss: 0.0330 - mean_squared_error: 0.0330\n",
            "Epoch 808/1000\n",
            "4/4 [==============================] - 0s 5ms/step - loss: 0.0328 - mean_squared_error: 0.0328\n",
            "Epoch 809/1000\n",
            "4/4 [==============================] - 0s 5ms/step - loss: 0.0339 - mean_squared_error: 0.0339\n",
            "Epoch 810/1000\n",
            "4/4 [==============================] - 0s 5ms/step - loss: 0.0336 - mean_squared_error: 0.0336\n",
            "Epoch 811/1000\n",
            "4/4 [==============================] - 0s 4ms/step - loss: 0.0330 - mean_squared_error: 0.0330\n",
            "Epoch 812/1000\n",
            "4/4 [==============================] - 0s 4ms/step - loss: 0.0333 - mean_squared_error: 0.0333\n",
            "Epoch 813/1000\n",
            "4/4 [==============================] - 0s 4ms/step - loss: 0.0363 - mean_squared_error: 0.0363\n",
            "Epoch 814/1000\n",
            "4/4 [==============================] - 0s 4ms/step - loss: 0.0339 - mean_squared_error: 0.0339\n",
            "Epoch 815/1000\n",
            "4/4 [==============================] - 0s 3ms/step - loss: 0.0342 - mean_squared_error: 0.0342\n",
            "Epoch 816/1000\n",
            "4/4 [==============================] - 0s 3ms/step - loss: 0.0336 - mean_squared_error: 0.0336\n",
            "Epoch 817/1000\n",
            "4/4 [==============================] - 0s 3ms/step - loss: 0.0368 - mean_squared_error: 0.0368\n",
            "Epoch 818/1000\n",
            "4/4 [==============================] - 0s 3ms/step - loss: 0.0348 - mean_squared_error: 0.0348\n",
            "Epoch 819/1000\n",
            "4/4 [==============================] - 0s 3ms/step - loss: 0.0341 - mean_squared_error: 0.0341\n",
            "Epoch 820/1000\n",
            "4/4 [==============================] - 0s 4ms/step - loss: 0.0360 - mean_squared_error: 0.0360\n",
            "Epoch 821/1000\n",
            "4/4 [==============================] - 0s 4ms/step - loss: 0.0351 - mean_squared_error: 0.0351\n",
            "Epoch 822/1000\n",
            "4/4 [==============================] - 0s 4ms/step - loss: 0.0352 - mean_squared_error: 0.0352\n",
            "Epoch 823/1000\n",
            "4/4 [==============================] - 0s 4ms/step - loss: 0.0350 - mean_squared_error: 0.0350\n",
            "Epoch 824/1000\n",
            "4/4 [==============================] - 0s 5ms/step - loss: 0.0333 - mean_squared_error: 0.0333\n",
            "Epoch 825/1000\n",
            "4/4 [==============================] - 0s 5ms/step - loss: 0.0335 - mean_squared_error: 0.0335\n",
            "Epoch 826/1000\n",
            "4/4 [==============================] - 0s 6ms/step - loss: 0.0342 - mean_squared_error: 0.0342\n",
            "Epoch 827/1000\n",
            "4/4 [==============================] - 0s 5ms/step - loss: 0.0324 - mean_squared_error: 0.0324\n",
            "Epoch 828/1000\n",
            "4/4 [==============================] - 0s 4ms/step - loss: 0.0332 - mean_squared_error: 0.0332\n",
            "Epoch 829/1000\n",
            "4/4 [==============================] - 0s 3ms/step - loss: 0.0347 - mean_squared_error: 0.0347\n",
            "Epoch 830/1000\n",
            "4/4 [==============================] - 0s 3ms/step - loss: 0.0355 - mean_squared_error: 0.0355\n",
            "Epoch 831/1000\n",
            "4/4 [==============================] - 0s 4ms/step - loss: 0.0361 - mean_squared_error: 0.0361\n",
            "Epoch 832/1000\n",
            "4/4 [==============================] - 0s 3ms/step - loss: 0.0406 - mean_squared_error: 0.0406\n",
            "Epoch 833/1000\n",
            "4/4 [==============================] - 0s 3ms/step - loss: 0.0349 - mean_squared_error: 0.0349\n",
            "Epoch 834/1000\n",
            "4/4 [==============================] - 0s 3ms/step - loss: 0.0357 - mean_squared_error: 0.0357\n",
            "Epoch 835/1000\n",
            "4/4 [==============================] - 0s 5ms/step - loss: 0.0375 - mean_squared_error: 0.0375\n",
            "Epoch 836/1000\n",
            "4/4 [==============================] - 0s 3ms/step - loss: 0.0390 - mean_squared_error: 0.0390\n",
            "Epoch 837/1000\n",
            "4/4 [==============================] - 0s 3ms/step - loss: 0.0346 - mean_squared_error: 0.0346\n",
            "Epoch 838/1000\n",
            "4/4 [==============================] - 0s 3ms/step - loss: 0.0329 - mean_squared_error: 0.0329\n",
            "Epoch 839/1000\n",
            "4/4 [==============================] - 0s 3ms/step - loss: 0.0327 - mean_squared_error: 0.0327\n",
            "Epoch 840/1000\n",
            "4/4 [==============================] - 0s 3ms/step - loss: 0.0328 - mean_squared_error: 0.0328\n",
            "Epoch 841/1000\n",
            "4/4 [==============================] - 0s 3ms/step - loss: 0.0357 - mean_squared_error: 0.0357\n",
            "Epoch 842/1000\n",
            "4/4 [==============================] - 0s 3ms/step - loss: 0.0345 - mean_squared_error: 0.0345\n",
            "Epoch 843/1000\n",
            "4/4 [==============================] - 0s 3ms/step - loss: 0.0342 - mean_squared_error: 0.0342\n",
            "Epoch 844/1000\n",
            "4/4 [==============================] - 0s 3ms/step - loss: 0.0344 - mean_squared_error: 0.0344\n",
            "Epoch 845/1000\n",
            "4/4 [==============================] - 0s 5ms/step - loss: 0.0337 - mean_squared_error: 0.0337\n",
            "Epoch 846/1000\n",
            "4/4 [==============================] - 0s 5ms/step - loss: 0.0390 - mean_squared_error: 0.0390\n",
            "Epoch 847/1000\n",
            "4/4 [==============================] - 0s 5ms/step - loss: 0.0337 - mean_squared_error: 0.0337\n",
            "Epoch 848/1000\n",
            "4/4 [==============================] - 0s 5ms/step - loss: 0.0349 - mean_squared_error: 0.0349\n",
            "Epoch 849/1000\n",
            "4/4 [==============================] - 0s 6ms/step - loss: 0.0333 - mean_squared_error: 0.0333\n",
            "Epoch 850/1000\n",
            "4/4 [==============================] - 0s 5ms/step - loss: 0.0337 - mean_squared_error: 0.0337\n",
            "Epoch 851/1000\n",
            "4/4 [==============================] - 0s 3ms/step - loss: 0.0340 - mean_squared_error: 0.0340\n",
            "Epoch 852/1000\n",
            "4/4 [==============================] - 0s 3ms/step - loss: 0.0370 - mean_squared_error: 0.0370\n",
            "Epoch 853/1000\n",
            "4/4 [==============================] - 0s 3ms/step - loss: 0.0347 - mean_squared_error: 0.0347\n",
            "Epoch 854/1000\n",
            "4/4 [==============================] - 0s 3ms/step - loss: 0.0364 - mean_squared_error: 0.0364\n",
            "Epoch 855/1000\n",
            "4/4 [==============================] - 0s 3ms/step - loss: 0.0341 - mean_squared_error: 0.0341\n",
            "Epoch 856/1000\n",
            "4/4 [==============================] - 0s 3ms/step - loss: 0.0371 - mean_squared_error: 0.0371\n",
            "Epoch 857/1000\n",
            "4/4 [==============================] - 0s 3ms/step - loss: 0.0344 - mean_squared_error: 0.0344\n",
            "Epoch 858/1000\n",
            "4/4 [==============================] - 0s 3ms/step - loss: 0.0334 - mean_squared_error: 0.0334\n",
            "Epoch 859/1000\n",
            "4/4 [==============================] - 0s 3ms/step - loss: 0.0341 - mean_squared_error: 0.0341\n",
            "Epoch 860/1000\n",
            "4/4 [==============================] - 0s 3ms/step - loss: 0.0327 - mean_squared_error: 0.0327\n",
            "Epoch 861/1000\n",
            "4/4 [==============================] - 0s 3ms/step - loss: 0.0355 - mean_squared_error: 0.0355\n",
            "Epoch 862/1000\n",
            "4/4 [==============================] - 0s 3ms/step - loss: 0.0346 - mean_squared_error: 0.0346\n",
            "Epoch 863/1000\n",
            "4/4 [==============================] - 0s 5ms/step - loss: 0.0344 - mean_squared_error: 0.0344\n",
            "Epoch 864/1000\n",
            "4/4 [==============================] - 0s 4ms/step - loss: 0.0353 - mean_squared_error: 0.0353\n",
            "Epoch 865/1000\n",
            "4/4 [==============================] - 0s 4ms/step - loss: 0.0341 - mean_squared_error: 0.0341\n",
            "Epoch 866/1000\n",
            "4/4 [==============================] - 0s 5ms/step - loss: 0.0346 - mean_squared_error: 0.0346\n",
            "Epoch 867/1000\n",
            "4/4 [==============================] - 0s 5ms/step - loss: 0.0342 - mean_squared_error: 0.0342\n",
            "Epoch 868/1000\n",
            "4/4 [==============================] - 0s 4ms/step - loss: 0.0366 - mean_squared_error: 0.0366\n",
            "Epoch 869/1000\n",
            "4/4 [==============================] - 0s 4ms/step - loss: 0.0355 - mean_squared_error: 0.0355\n",
            "Epoch 870/1000\n",
            "4/4 [==============================] - 0s 4ms/step - loss: 0.0355 - mean_squared_error: 0.0355\n",
            "Epoch 871/1000\n",
            "4/4 [==============================] - 0s 4ms/step - loss: 0.0335 - mean_squared_error: 0.0335\n",
            "Epoch 872/1000\n",
            "4/4 [==============================] - 0s 4ms/step - loss: 0.0334 - mean_squared_error: 0.0334\n",
            "Epoch 873/1000\n",
            "4/4 [==============================] - 0s 4ms/step - loss: 0.0339 - mean_squared_error: 0.0339\n",
            "Epoch 874/1000\n",
            "4/4 [==============================] - 0s 4ms/step - loss: 0.0344 - mean_squared_error: 0.0344\n",
            "Epoch 875/1000\n",
            "4/4 [==============================] - 0s 4ms/step - loss: 0.0346 - mean_squared_error: 0.0346\n",
            "Epoch 876/1000\n",
            "4/4 [==============================] - 0s 4ms/step - loss: 0.0412 - mean_squared_error: 0.0412\n",
            "Epoch 877/1000\n",
            "4/4 [==============================] - 0s 4ms/step - loss: 0.0412 - mean_squared_error: 0.0412\n",
            "Epoch 878/1000\n",
            "4/4 [==============================] - 0s 4ms/step - loss: 0.0374 - mean_squared_error: 0.0374\n",
            "Epoch 879/1000\n",
            "4/4 [==============================] - 0s 4ms/step - loss: 0.0381 - mean_squared_error: 0.0381\n",
            "Epoch 880/1000\n",
            "4/4 [==============================] - 0s 3ms/step - loss: 0.0375 - mean_squared_error: 0.0375\n",
            "Epoch 881/1000\n",
            "4/4 [==============================] - 0s 4ms/step - loss: 0.0344 - mean_squared_error: 0.0344\n",
            "Epoch 882/1000\n",
            "4/4 [==============================] - 0s 4ms/step - loss: 0.0344 - mean_squared_error: 0.0344\n",
            "Epoch 883/1000\n",
            "4/4 [==============================] - 0s 4ms/step - loss: 0.0342 - mean_squared_error: 0.0342\n",
            "Epoch 884/1000\n",
            "4/4 [==============================] - 0s 4ms/step - loss: 0.0342 - mean_squared_error: 0.0342\n",
            "Epoch 885/1000\n",
            "4/4 [==============================] - 0s 4ms/step - loss: 0.0329 - mean_squared_error: 0.0329\n",
            "Epoch 886/1000\n",
            "4/4 [==============================] - 0s 4ms/step - loss: 0.0340 - mean_squared_error: 0.0340\n",
            "Epoch 887/1000\n",
            "4/4 [==============================] - 0s 5ms/step - loss: 0.0330 - mean_squared_error: 0.0330\n",
            "Epoch 888/1000\n",
            "4/4 [==============================] - 0s 4ms/step - loss: 0.0326 - mean_squared_error: 0.0326\n",
            "Epoch 889/1000\n",
            "4/4 [==============================] - 0s 4ms/step - loss: 0.0343 - mean_squared_error: 0.0343\n",
            "Epoch 890/1000\n",
            "4/4 [==============================] - 0s 4ms/step - loss: 0.0361 - mean_squared_error: 0.0361\n",
            "Epoch 891/1000\n",
            "4/4 [==============================] - 0s 4ms/step - loss: 0.0337 - mean_squared_error: 0.0337\n",
            "Epoch 892/1000\n",
            "4/4 [==============================] - 0s 5ms/step - loss: 0.0393 - mean_squared_error: 0.0393\n",
            "Epoch 893/1000\n",
            "4/4 [==============================] - 0s 4ms/step - loss: 0.0342 - mean_squared_error: 0.0342\n",
            "Epoch 894/1000\n",
            "4/4 [==============================] - 0s 5ms/step - loss: 0.0340 - mean_squared_error: 0.0340\n",
            "Epoch 895/1000\n",
            "4/4 [==============================] - 0s 5ms/step - loss: 0.0359 - mean_squared_error: 0.0359\n",
            "Epoch 896/1000\n",
            "4/4 [==============================] - 0s 4ms/step - loss: 0.0340 - mean_squared_error: 0.0340\n",
            "Epoch 897/1000\n",
            "4/4 [==============================] - 0s 5ms/step - loss: 0.0350 - mean_squared_error: 0.0350\n",
            "Epoch 898/1000\n",
            "4/4 [==============================] - 0s 6ms/step - loss: 0.0335 - mean_squared_error: 0.0335\n",
            "Epoch 899/1000\n",
            "4/4 [==============================] - 0s 4ms/step - loss: 0.0343 - mean_squared_error: 0.0343\n",
            "Epoch 900/1000\n",
            "4/4 [==============================] - 0s 3ms/step - loss: 0.0333 - mean_squared_error: 0.0333\n",
            "Epoch 901/1000\n",
            "4/4 [==============================] - 0s 6ms/step - loss: 0.0327 - mean_squared_error: 0.0327\n",
            "Epoch 902/1000\n",
            "4/4 [==============================] - 0s 5ms/step - loss: 0.0327 - mean_squared_error: 0.0327\n",
            "Epoch 903/1000\n",
            "4/4 [==============================] - 0s 5ms/step - loss: 0.0325 - mean_squared_error: 0.0325\n",
            "Epoch 904/1000\n",
            "4/4 [==============================] - 0s 4ms/step - loss: 0.0332 - mean_squared_error: 0.0332\n",
            "Epoch 905/1000\n",
            "4/4 [==============================] - 0s 4ms/step - loss: 0.0326 - mean_squared_error: 0.0326\n",
            "Epoch 906/1000\n",
            "4/4 [==============================] - 0s 4ms/step - loss: 0.0342 - mean_squared_error: 0.0342\n",
            "Epoch 907/1000\n",
            "4/4 [==============================] - 0s 4ms/step - loss: 0.0340 - mean_squared_error: 0.0340\n",
            "Epoch 908/1000\n",
            "4/4 [==============================] - 0s 4ms/step - loss: 0.0332 - mean_squared_error: 0.0332\n",
            "Epoch 909/1000\n",
            "4/4 [==============================] - 0s 4ms/step - loss: 0.0357 - mean_squared_error: 0.0357\n",
            "Epoch 910/1000\n",
            "4/4 [==============================] - 0s 4ms/step - loss: 0.0344 - mean_squared_error: 0.0344\n",
            "Epoch 911/1000\n",
            "4/4 [==============================] - 0s 4ms/step - loss: 0.0326 - mean_squared_error: 0.0326\n",
            "Epoch 912/1000\n",
            "4/4 [==============================] - 0s 5ms/step - loss: 0.0339 - mean_squared_error: 0.0339\n",
            "Epoch 913/1000\n",
            "4/4 [==============================] - 0s 4ms/step - loss: 0.0393 - mean_squared_error: 0.0393\n",
            "Epoch 914/1000\n",
            "4/4 [==============================] - 0s 4ms/step - loss: 0.0370 - mean_squared_error: 0.0370\n",
            "Epoch 915/1000\n",
            "4/4 [==============================] - 0s 4ms/step - loss: 0.0348 - mean_squared_error: 0.0348\n",
            "Epoch 916/1000\n",
            "4/4 [==============================] - 0s 4ms/step - loss: 0.0338 - mean_squared_error: 0.0338\n",
            "Epoch 917/1000\n",
            "4/4 [==============================] - 0s 7ms/step - loss: 0.0342 - mean_squared_error: 0.0342\n",
            "Epoch 918/1000\n",
            "4/4 [==============================] - 0s 5ms/step - loss: 0.0356 - mean_squared_error: 0.0356\n",
            "Epoch 919/1000\n",
            "4/4 [==============================] - 0s 4ms/step - loss: 0.0363 - mean_squared_error: 0.0363\n",
            "Epoch 920/1000\n",
            "4/4 [==============================] - 0s 4ms/step - loss: 0.0393 - mean_squared_error: 0.0393\n",
            "Epoch 921/1000\n",
            "4/4 [==============================] - 0s 5ms/step - loss: 0.0406 - mean_squared_error: 0.0406\n",
            "Epoch 922/1000\n",
            "4/4 [==============================] - 0s 4ms/step - loss: 0.0430 - mean_squared_error: 0.0430\n",
            "Epoch 923/1000\n",
            "4/4 [==============================] - 0s 6ms/step - loss: 0.0372 - mean_squared_error: 0.0372\n",
            "Epoch 924/1000\n",
            "4/4 [==============================] - 0s 6ms/step - loss: 0.0378 - mean_squared_error: 0.0378\n",
            "Epoch 925/1000\n",
            "4/4 [==============================] - 0s 5ms/step - loss: 0.0388 - mean_squared_error: 0.0388\n",
            "Epoch 926/1000\n",
            "4/4 [==============================] - 0s 5ms/step - loss: 0.0354 - mean_squared_error: 0.0354\n",
            "Epoch 927/1000\n",
            "4/4 [==============================] - 0s 6ms/step - loss: 0.0349 - mean_squared_error: 0.0349\n",
            "Epoch 928/1000\n",
            "4/4 [==============================] - 0s 6ms/step - loss: 0.0338 - mean_squared_error: 0.0338\n",
            "Epoch 929/1000\n",
            "4/4 [==============================] - 0s 5ms/step - loss: 0.0344 - mean_squared_error: 0.0344\n",
            "Epoch 930/1000\n",
            "4/4 [==============================] - 0s 4ms/step - loss: 0.0359 - mean_squared_error: 0.0359\n",
            "Epoch 931/1000\n",
            "4/4 [==============================] - 0s 3ms/step - loss: 0.0338 - mean_squared_error: 0.0338\n",
            "Epoch 932/1000\n",
            "4/4 [==============================] - 0s 4ms/step - loss: 0.0351 - mean_squared_error: 0.0351\n",
            "Epoch 933/1000\n",
            "4/4 [==============================] - 0s 4ms/step - loss: 0.0328 - mean_squared_error: 0.0328\n",
            "Epoch 934/1000\n",
            "4/4 [==============================] - 0s 4ms/step - loss: 0.0362 - mean_squared_error: 0.0362\n",
            "Epoch 935/1000\n",
            "4/4 [==============================] - 0s 4ms/step - loss: 0.0349 - mean_squared_error: 0.0349\n",
            "Epoch 936/1000\n",
            "4/4 [==============================] - 0s 4ms/step - loss: 0.0342 - mean_squared_error: 0.0342\n",
            "Epoch 937/1000\n",
            "4/4 [==============================] - 0s 3ms/step - loss: 0.0380 - mean_squared_error: 0.0380\n",
            "Epoch 938/1000\n",
            "4/4 [==============================] - 0s 4ms/step - loss: 0.0366 - mean_squared_error: 0.0366\n",
            "Epoch 939/1000\n",
            "4/4 [==============================] - 0s 3ms/step - loss: 0.0430 - mean_squared_error: 0.0430\n",
            "Epoch 940/1000\n",
            "4/4 [==============================] - 0s 3ms/step - loss: 0.0470 - mean_squared_error: 0.0470\n",
            "Epoch 941/1000\n",
            "4/4 [==============================] - 0s 3ms/step - loss: 0.0369 - mean_squared_error: 0.0369\n",
            "Epoch 942/1000\n",
            "4/4 [==============================] - 0s 3ms/step - loss: 0.0364 - mean_squared_error: 0.0364\n",
            "Epoch 943/1000\n",
            "4/4 [==============================] - 0s 3ms/step - loss: 0.0359 - mean_squared_error: 0.0359\n",
            "Epoch 944/1000\n",
            "4/4 [==============================] - 0s 3ms/step - loss: 0.0373 - mean_squared_error: 0.0373\n",
            "Epoch 945/1000\n",
            "4/4 [==============================] - 0s 3ms/step - loss: 0.0396 - mean_squared_error: 0.0396\n",
            "Epoch 946/1000\n",
            "4/4 [==============================] - 0s 3ms/step - loss: 0.0312 - mean_squared_error: 0.0312\n",
            "Epoch 947/1000\n",
            "4/4 [==============================] - 0s 3ms/step - loss: 0.0371 - mean_squared_error: 0.0371\n",
            "Epoch 948/1000\n",
            "4/4 [==============================] - 0s 3ms/step - loss: 0.0348 - mean_squared_error: 0.0348\n",
            "Epoch 949/1000\n",
            "4/4 [==============================] - 0s 3ms/step - loss: 0.0337 - mean_squared_error: 0.0337\n",
            "Epoch 950/1000\n",
            "4/4 [==============================] - 0s 3ms/step - loss: 0.0334 - mean_squared_error: 0.0334\n",
            "Epoch 951/1000\n",
            "4/4 [==============================] - 0s 3ms/step - loss: 0.0330 - mean_squared_error: 0.0330\n",
            "Epoch 952/1000\n",
            "4/4 [==============================] - 0s 4ms/step - loss: 0.0325 - mean_squared_error: 0.0325\n",
            "Epoch 953/1000\n",
            "4/4 [==============================] - 0s 3ms/step - loss: 0.0335 - mean_squared_error: 0.0335\n",
            "Epoch 954/1000\n",
            "4/4 [==============================] - 0s 4ms/step - loss: 0.0335 - mean_squared_error: 0.0335\n",
            "Epoch 955/1000\n",
            "4/4 [==============================] - 0s 3ms/step - loss: 0.0353 - mean_squared_error: 0.0353\n",
            "Epoch 956/1000\n",
            "4/4 [==============================] - 0s 3ms/step - loss: 0.0353 - mean_squared_error: 0.0353\n",
            "Epoch 957/1000\n",
            "4/4 [==============================] - 0s 6ms/step - loss: 0.0330 - mean_squared_error: 0.0330\n",
            "Epoch 958/1000\n",
            "4/4 [==============================] - 0s 5ms/step - loss: 0.0390 - mean_squared_error: 0.0390\n",
            "Epoch 959/1000\n",
            "4/4 [==============================] - 0s 4ms/step - loss: 0.0332 - mean_squared_error: 0.0332\n",
            "Epoch 960/1000\n",
            "4/4 [==============================] - 0s 7ms/step - loss: 0.0346 - mean_squared_error: 0.0346\n",
            "Epoch 961/1000\n",
            "4/4 [==============================] - 0s 4ms/step - loss: 0.0361 - mean_squared_error: 0.0361\n",
            "Epoch 962/1000\n",
            "4/4 [==============================] - 0s 5ms/step - loss: 0.0345 - mean_squared_error: 0.0345\n",
            "Epoch 963/1000\n",
            "4/4 [==============================] - 0s 4ms/step - loss: 0.0351 - mean_squared_error: 0.0351\n",
            "Epoch 964/1000\n",
            "4/4 [==============================] - 0s 6ms/step - loss: 0.0334 - mean_squared_error: 0.0334\n",
            "Epoch 965/1000\n",
            "4/4 [==============================] - 0s 5ms/step - loss: 0.0386 - mean_squared_error: 0.0386\n",
            "Epoch 966/1000\n",
            "4/4 [==============================] - 0s 6ms/step - loss: 0.0541 - mean_squared_error: 0.0541\n",
            "Epoch 967/1000\n",
            "4/4 [==============================] - 0s 5ms/step - loss: 0.0432 - mean_squared_error: 0.0432\n",
            "Epoch 968/1000\n",
            "4/4 [==============================] - 0s 3ms/step - loss: 0.0423 - mean_squared_error: 0.0423\n",
            "Epoch 969/1000\n",
            "4/4 [==============================] - 0s 3ms/step - loss: 0.0423 - mean_squared_error: 0.0423\n",
            "Epoch 970/1000\n",
            "4/4 [==============================] - 0s 3ms/step - loss: 0.0468 - mean_squared_error: 0.0468\n",
            "Epoch 971/1000\n",
            "4/4 [==============================] - 0s 3ms/step - loss: 0.0409 - mean_squared_error: 0.0409\n",
            "Epoch 972/1000\n",
            "4/4 [==============================] - 0s 3ms/step - loss: 0.0369 - mean_squared_error: 0.0369\n",
            "Epoch 973/1000\n",
            "4/4 [==============================] - 0s 3ms/step - loss: 0.0326 - mean_squared_error: 0.0326\n",
            "Epoch 974/1000\n",
            "4/4 [==============================] - 0s 3ms/step - loss: 0.0369 - mean_squared_error: 0.0369\n",
            "Epoch 975/1000\n",
            "4/4 [==============================] - 0s 5ms/step - loss: 0.0351 - mean_squared_error: 0.0351\n",
            "Epoch 976/1000\n",
            "4/4 [==============================] - 0s 4ms/step - loss: 0.0323 - mean_squared_error: 0.0323\n",
            "Epoch 977/1000\n",
            "4/4 [==============================] - 0s 5ms/step - loss: 0.0340 - mean_squared_error: 0.0340\n",
            "Epoch 978/1000\n",
            "4/4 [==============================] - 0s 3ms/step - loss: 0.0343 - mean_squared_error: 0.0343\n",
            "Epoch 979/1000\n",
            "4/4 [==============================] - 0s 5ms/step - loss: 0.0335 - mean_squared_error: 0.0335\n",
            "Epoch 980/1000\n",
            "4/4 [==============================] - 0s 4ms/step - loss: 0.0354 - mean_squared_error: 0.0354\n",
            "Epoch 981/1000\n",
            "4/4 [==============================] - 0s 4ms/step - loss: 0.0349 - mean_squared_error: 0.0349\n",
            "Epoch 982/1000\n",
            "4/4 [==============================] - 0s 4ms/step - loss: 0.0341 - mean_squared_error: 0.0341\n",
            "Epoch 983/1000\n",
            "4/4 [==============================] - 0s 3ms/step - loss: 0.0337 - mean_squared_error: 0.0337\n",
            "Epoch 984/1000\n",
            "4/4 [==============================] - 0s 5ms/step - loss: 0.0335 - mean_squared_error: 0.0335\n",
            "Epoch 985/1000\n",
            "4/4 [==============================] - 0s 4ms/step - loss: 0.0345 - mean_squared_error: 0.0345\n",
            "Epoch 986/1000\n",
            "4/4 [==============================] - 0s 4ms/step - loss: 0.0332 - mean_squared_error: 0.0332\n",
            "Epoch 987/1000\n",
            "4/4 [==============================] - 0s 4ms/step - loss: 0.0351 - mean_squared_error: 0.0351\n",
            "Epoch 988/1000\n",
            "4/4 [==============================] - 0s 4ms/step - loss: 0.0349 - mean_squared_error: 0.0349\n",
            "Epoch 989/1000\n",
            "4/4 [==============================] - 0s 4ms/step - loss: 0.0373 - mean_squared_error: 0.0373\n",
            "Epoch 990/1000\n",
            "4/4 [==============================] - 0s 4ms/step - loss: 0.0360 - mean_squared_error: 0.0360\n",
            "Epoch 991/1000\n",
            "4/4 [==============================] - 0s 4ms/step - loss: 0.0362 - mean_squared_error: 0.0362\n",
            "Epoch 992/1000\n",
            "4/4 [==============================] - 0s 4ms/step - loss: 0.0345 - mean_squared_error: 0.0345\n",
            "Epoch 993/1000\n",
            "4/4 [==============================] - 0s 4ms/step - loss: 0.0377 - mean_squared_error: 0.0377\n",
            "Epoch 994/1000\n",
            "4/4 [==============================] - 0s 4ms/step - loss: 0.0331 - mean_squared_error: 0.0331\n",
            "Epoch 995/1000\n",
            "4/4 [==============================] - 0s 5ms/step - loss: 0.0352 - mean_squared_error: 0.0352\n",
            "Epoch 996/1000\n",
            "4/4 [==============================] - 0s 5ms/step - loss: 0.0328 - mean_squared_error: 0.0328\n",
            "Epoch 997/1000\n",
            "4/4 [==============================] - 0s 5ms/step - loss: 0.0357 - mean_squared_error: 0.0357\n",
            "Epoch 998/1000\n",
            "4/4 [==============================] - 0s 4ms/step - loss: 0.0353 - mean_squared_error: 0.0353\n",
            "Epoch 999/1000\n",
            "4/4 [==============================] - 0s 6ms/step - loss: 0.0345 - mean_squared_error: 0.0345\n",
            "Epoch 1000/1000\n",
            "4/4 [==============================] - 0s 4ms/step - loss: 0.0352 - mean_squared_error: 0.0352\n"
          ]
        },
        {
          "output_type": "execute_result",
          "data": {
            "text/plain": [
              "<keras.callbacks.History at 0x7f457a801890>"
            ]
          },
          "metadata": {},
          "execution_count": 45
        }
      ]
    },
    {
      "cell_type": "markdown",
      "source": [
        "## Evaluate the Model"
      ],
      "metadata": {
        "id": "M4JXNbhkmDWy"
      }
    },
    {
      "cell_type": "code",
      "source": [
        "model.evaluate(x_test,y_test,verbose=1)"
      ],
      "metadata": {
        "colab": {
          "base_uri": "https://localhost:8080/"
        },
        "id": "WK6BwUSvmCFr",
        "outputId": "2f3004ce-a7d1-40a0-d1b4-1c84fd3d088c"
      },
      "execution_count": null,
      "outputs": [
        {
          "output_type": "stream",
          "name": "stdout",
          "text": [
            "1/1 [==============================] - 0s 103ms/step - loss: 0.0357 - mean_squared_error: 0.0357\n"
          ]
        },
        {
          "output_type": "execute_result",
          "data": {
            "text/plain": [
              "[0.03571399673819542, 0.03571399673819542]"
            ]
          },
          "metadata": {},
          "execution_count": 46
        }
      ]
    },
    {
      "cell_type": "markdown",
      "source": [
        "## Pradict The Output"
      ],
      "metadata": {
        "id": "MJ8Qs5dPmSt0"
      }
    },
    {
      "cell_type": "code",
      "source": [
        "y_pred = model.predict(x_test);\n",
        "plt.figure(figsize=(10,5))\n",
        "plt.plot(np.arange(0,len(x_test),1),y_test,'b--',label='Actual')\n",
        "plt.plot(np.arange(0,len(x_test),1),y_pred,'r--',label='Predicted')\n",
        "plt.legend()\n",
        "plt.show()"
      ],
      "metadata": {
        "colab": {
          "base_uri": "https://localhost:8080/",
          "height": 320
        },
        "id": "1tN4Ns8tmRTt",
        "outputId": "a466e60e-d522-42b8-c0d1-b7b2c8332709"
      },
      "execution_count": null,
      "outputs": [
        {
          "output_type": "display_data",
          "data": {
            "text/plain": [
              "<Figure size 720x360 with 1 Axes>"
            ],
            "image/png": "[encoded data removed]"
          },
          "metadata": {}
        }
      ]
    },
    {
      "cell_type": "code",
      "source": [
        "plt. plot(x_test,y_pred, 'o')\n",
        "m, b = np. polyfit(x_test,y_pred, 1) \n",
        "plt. plot(x_test, m*x_test + b)"
      ],
      "metadata": {
        "colab": {
          "base_uri": "https://localhost:8080/",
          "height": 282
        },
        "id": "Y6y6K677mZr0",
        "outputId": "045e3566-9548-4ef8-abcd-d9c1fdf7c879"
      },
      "execution_count": null,
      "outputs": [
        {
          "output_type": "execute_result",
          "data": {
            "text/plain": [
              "[<matplotlib.lines.Line2D at 0x7f4576660610>]"
            ]
          },
          "metadata": {},
          "execution_count": 48
        },
        {
          "output_type": "display_data",
          "data": {
            "text/plain": [
              "<Figure size 432x288 with 1 Axes>"
            ],
            "image/png": "[encoded data removed]"
          },
          "metadata": {}
        }
      ]
    },
    {
      "cell_type": "code",
      "source": [
        "import seaborn as sns\n",
        "#sns.set_theme(color_codes=True)\n",
        "sns.regplot(x=x_test, y=y_pred, color=\"g\")"
      ],
      "metadata": {
        "colab": {
          "base_uri": "https://localhost:8080/",
          "height": 284
        },
        "id": "vNcZSikSmeSB",
        "outputId": "39b6a7b3-df13-4a30-983e-96401125cafe"
      },
      "execution_count": null,
      "outputs": [
        {
          "output_type": "execute_result",
          "data": {
            "text/plain": [
              "<matplotlib.axes._subplots.AxesSubplot at 0x7f4575d39f10>"
            ]
          },
          "metadata": {},
          "execution_count": 49
        },
        {
          "output_type": "display_data",
          "data": {
            "text/plain": [
              "<Figure size 432x288 with 1 Axes>"
            ],
            "image/png": "[encoded data removed]"
          },
          "metadata": {}
        }
      ]
    },
    {
      "cell_type": "markdown",
      "source": [
        "# Regrassion"
      ],
      "metadata": {
        "id": "soJrMeLzIBNt"
      }
    },
    {
      "cell_type": "code",
      "source": [
        "import tensorflow as tf\n",
        "from tensorflow import keras\n",
        "import numpy as np\n",
        "import matplotlib.pyplot as plt\n",
        "import pandas as pd"
      ],
      "metadata": {
        "id": "uZe0eYkPIF2G"
      },
      "execution_count": 1,
      "outputs": []
    },
    {
      "cell_type": "markdown",
      "source": [
        "## Import Data set"
      ],
      "metadata": {
        "id": "VussPhhgIkb9"
      }
    },
    {
      "cell_type": "code",
      "source": [
        "data = pd.read_csv('/content/drive/MyDrive/Colab Notebooks/Iris.csv')\n",
        "data.head()"
      ],
      "metadata": {
        "colab": {
          "base_uri": "https://localhost:8080/",
          "height": 206
        },
        "id": "V1_3nnutIaHE",
        "outputId": "a767df66-7df6-49c6-e704-a8453dcc076f"
      },
      "execution_count": 2,
      "outputs": [
        {
          "output_type": "execute_result",
          "data": {
            "text/plain": [
              "   Id  SepalLengthCm  SepalWidthCm  PetalLengthCm  PetalWidthCm      Species\n",
              "0   1            5.1           3.5            1.4           0.2  Iris-setosa\n",
              "1   2            4.9           3.0            1.4           0.2  Iris-setosa\n",
              "2   3            4.7           3.2            1.3           0.2  Iris-setosa\n",
              "3   4            4.6           3.1            1.5           0.2  Iris-setosa\n",
              "4   5            5.0           3.6            1.4           0.2  Iris-setosa"
            ],
            "text/html": [
              "\n",
              "  <div id=\"df-2582c585-6839-456a-94e5-ba0b79ddc058\">\n",
              "    <div class=\"colab-df-container\">\n",
              "      <div>\n",
              "<style scoped>\n",
              "    .dataframe tbody tr th:only-of-type {\n",
              "        vertical-align: middle;\n",
              "    }\n",
              "\n",
              "    .dataframe tbody tr th {\n",
              "        vertical-align: top;\n",
              "    }\n",
              "\n",
              "    .dataframe thead th {\n",
              "        text-align: right;\n",
              "    }\n",
              "</style>\n",
              "<table border=\"1\" class=\"dataframe\">\n",
              "  <thead>\n",
              "    <tr style=\"text-align: right;\">\n",
              "      <th></th>\n",
              "      <th>Id</th>\n",
              "      <th>SepalLengthCm</th>\n",
              "      <th>SepalWidthCm</th>\n",
              "      <th>PetalLengthCm</th>\n",
              "      <th>PetalWidthCm</th>\n",
              "      <th>Species</th>\n",
              "    </tr>\n",
              "  </thead>\n",
              "  <tbody>\n",
              "    <tr>\n",
              "      <th>0</th>\n",
              "      <td>1</td>\n",
              "      <td>5.1</td>\n",
              "      <td>3.5</td>\n",
              "      <td>1.4</td>\n",
              "      <td>0.2</td>\n",
              "      <td>Iris-setosa</td>\n",
              "    </tr>\n",
              "    <tr>\n",
              "      <th>1</th>\n",
              "      <td>2</td>\n",
              "      <td>4.9</td>\n",
              "      <td>3.0</td>\n",
              "      <td>1.4</td>\n",
              "      <td>0.2</td>\n",
              "      <td>Iris-setosa</td>\n",
              "    </tr>\n",
              "    <tr>\n",
              "      <th>2</th>\n",
              "      <td>3</td>\n",
              "      <td>4.7</td>\n",
              "      <td>3.2</td>\n",
              "      <td>1.3</td>\n",
              "      <td>0.2</td>\n",
              "      <td>Iris-setosa</td>\n",
              "    </tr>\n",
              "    <tr>\n",
              "      <th>3</th>\n",
              "      <td>4</td>\n",
              "      <td>4.6</td>\n",
              "      <td>3.1</td>\n",
              "      <td>1.5</td>\n",
              "      <td>0.2</td>\n",
              "      <td>Iris-setosa</td>\n",
              "    </tr>\n",
              "    <tr>\n",
              "      <th>4</th>\n",
              "      <td>5</td>\n",
              "      <td>5.0</td>\n",
              "      <td>3.6</td>\n",
              "      <td>1.4</td>\n",
              "      <td>0.2</td>\n",
              "      <td>Iris-setosa</td>\n",
              "    </tr>\n",
              "  </tbody>\n",
              "</table>\n",
              "</div>\n",
              "      <button class=\"colab-df-convert\" onclick=\"convertToInteractive('df-2582c585-6839-456a-94e5-ba0b79ddc058')\"\n",
              "              title=\"Convert this dataframe to an interactive table.\"\n",
              "              style=\"display:none;\">\n",
              "        \n",
              "  <svg xmlns=\"http://www.w3.org/2000/svg\" height=\"24px\"viewBox=\"0 0 24 24\"\n",
              "       width=\"24px\">\n",
              "    <path d=\"M0 0h24v24H0V0z\" fill=\"none\"/>\n",
              "    <path d=\"M18.56 5.44l.94 2.06.94-2.06 2.06-.94-2.06-.94-.94-2.06-.94 2.06-2.06.94zm-11 1L8.5 8.5l.94-2.06 2.06-.94-2.06-.94L8.5 2.5l-.94 2.06-2.06.94zm10 10l.94 2.06.94-2.06 2.06-.94-2.06-.94-.94-2.06-.94 2.06-2.06.94z\"/><path d=\"M17.41 7.96l-1.37-1.37c-.4-.4-.92-.59-1.43-.59-.52 0-1.04.2-1.43.59L10.3 9.45l-7.72 7.72c-.78.78-.78 2.05 0 2.83L4 21.41c.39.39.9.59 1.41.59.51 0 1.02-.2 1.41-.59l7.78-7.78 2.81-2.81c.8-.78.8-2.07 0-2.86zM5.41 20L4 18.59l7.72-7.72 1.47 1.35L5.41 20z\"/>\n",
              "  </svg>\n",
              "      </button>\n",
              "      \n",
              "  <style>\n",
              "    .colab-df-container {\n",
              "      display:flex;\n",
              "      flex-wrap:wrap;\n",
              "      gap: 12px;\n",
              "    }\n",
              "\n",
              "    .colab-df-convert {\n",
              "      background-color: #E8F0FE;\n",
              "      border: none;\n",
              "      border-radius: 50%;\n",
              "      cursor: pointer;\n",
              "      display: none;\n",
              "      fill: #1967D2;\n",
              "      height: 32px;\n",
              "      padding: 0 0 0 0;\n",
              "      width: 32px;\n",
              "    }\n",
              "\n",
              "    .colab-df-convert:hover {\n",
              "      background-color: #E2EBFA;\n",
              "      box-shadow: 0px 1px 2px rgba(60, 64, 67, 0.3), 0px 1px 3px 1px rgba(60, 64, 67, 0.15);\n",
              "      fill: #174EA6;\n",
              "    }\n",
              "\n",
              "    [theme=dark] .colab-df-convert {\n",
              "      background-color: #3B4455;\n",
              "      fill: #D2E3FC;\n",
              "    }\n",
              "\n",
              "    [theme=dark] .colab-df-convert:hover {\n",
              "      background-color: #434B5C;\n",
              "      box-shadow: 0px 1px 3px 1px rgba(0, 0, 0, 0.15);\n",
              "      filter: drop-shadow(0px 1px 2px rgba(0, 0, 0, 0.3));\n",
              "      fill: #FFFFFF;\n",
              "    }\n",
              "  </style>\n",
              "\n",
              "      <script>\n",
              "        const buttonEl =\n",
              "          document.querySelector('#df-2582c585-6839-456a-94e5-ba0b79ddc058 button.colab-df-convert');\n",
              "        buttonEl.style.display =\n",
              "          google.colab.kernel.accessAllowed ? 'block' : 'none';\n",
              "\n",
              "        async function convertToInteractive(key) {\n",
              "          const element = document.querySelector('#df-2582c585-6839-456a-94e5-ba0b79ddc058');\n",
              "          const dataTable =\n",
              "            await google.colab.kernel.invokeFunction('convertToInteractive',\n",
              "                                                     [key], {});\n",
              "          if (!dataTable) return;\n",
              "\n",
              "          const docLinkHtml = 'Like what you see? Visit the ' +\n",
              "            '<a target=\"_blank\" href=https://colab.research.google.com/notebooks/data_table.ipynb>data table notebook</a>'\n",
              "            + ' to learn more about interactive tables.';\n",
              "          element.innerHTML = '';\n",
              "          dataTable['output_type'] = 'display_data';\n",
              "          await google.colab.output.renderOutput(dataTable, element);\n",
              "          const docLink = document.createElement('div');\n",
              "          docLink.innerHTML = docLinkHtml;\n",
              "          element.appendChild(docLink);\n",
              "        }\n",
              "      </script>\n",
              "    </div>\n",
              "  </div>\n",
              "  "
            ]
          },
          "metadata": {},
          "execution_count": 2
        }
      ]
    },
    {
      "cell_type": "markdown",
      "source": [
        "## Data Normalization"
      ],
      "metadata": {
        "id": "jy3F2PYtJe2T"
      }
    },
    {
      "cell_type": "code",
      "source": [
        "data['Species'] =  pd.factorize(data['Species'])[0]+1\n",
        "data.head(),data['Species'].value_counts()"
      ],
      "metadata": {
        "colab": {
          "base_uri": "https://localhost:8080/"
        },
        "id": "GA6r9aN_I-cv",
        "outputId": "35740d5b-c6ee-41ef-8da4-120bdd52d51f"
      },
      "execution_count": 3,
      "outputs": [
        {
          "output_type": "execute_result",
          "data": {
            "text/plain": [
              "(   Id  SepalLengthCm  SepalWidthCm  PetalLengthCm  PetalWidthCm  Species\n",
              " 0   1            5.1           3.5            1.4           0.2        1\n",
              " 1   2            4.9           3.0            1.4           0.2        1\n",
              " 2   3            4.7           3.2            1.3           0.2        1\n",
              " 3   4            4.6           3.1            1.5           0.2        1\n",
              " 4   5            5.0           3.6            1.4           0.2        1,\n",
              " 1    50\n",
              " 2    50\n",
              " 3    50\n",
              " Name: Species, dtype: int64)"
            ]
          },
          "metadata": {},
          "execution_count": 3
        }
      ]
    },
    {
      "cell_type": "code",
      "source": [
        "dnorm = (data-data.min())/(data.max()-data.min())\n",
        "dnorm.isna().sum()"
      ],
      "metadata": {
        "colab": {
          "base_uri": "https://localhost:8080/"
        },
        "id": "NO08dBJaJBHS",
        "outputId": "422e7fb6-8c86-46f4-9e0e-5b7202a0493a"
      },
      "execution_count": 5,
      "outputs": [
        {
          "output_type": "execute_result",
          "data": {
            "text/plain": [
              "Id               0\n",
              "SepalLengthCm    0\n",
              "SepalWidthCm     0\n",
              "PetalLengthCm    0\n",
              "PetalWidthCm     0\n",
              "Species          0\n",
              "dtype: int64"
            ]
          },
          "metadata": {},
          "execution_count": 5
        }
      ]
    },
    {
      "cell_type": "markdown",
      "source": [
        "## Train-test Split"
      ],
      "metadata": {
        "id": "g8EvCX_NJwly"
      }
    },
    {
      "cell_type": "code",
      "source": [
        "target = data.pop('Species')\n",
        "y = target.values\n",
        "x = dnorm.values"
      ],
      "metadata": {
        "id": "8Elc7y_OJ4e4"
      },
      "execution_count": 6,
      "outputs": []
    },
    {
      "cell_type": "code",
      "source": [
        "from sklearn.model_selection import train_test_split\n",
        "\n",
        "x_train,x_test,y_train,y_test = train_test_split(x,y)\n",
        "x_train.shape,y_train.shape"
      ],
      "metadata": {
        "colab": {
          "base_uri": "https://localhost:8080/"
        },
        "id": "x3qfqTXVJrr1",
        "outputId": "272f8d06-ba25-4f94-f7f4-2254149fa049"
      },
      "execution_count": 10,
      "outputs": [
        {
          "output_type": "execute_result",
          "data": {
            "text/plain": [
              "((112, 6), (112,))"
            ]
          },
          "metadata": {},
          "execution_count": 10
        }
      ]
    },
    {
      "cell_type": "markdown",
      "source": [
        "## Build and train model"
      ],
      "metadata": {
        "id": "-Kl2qKSHK6vq"
      }
    },
    {
      "cell_type": "code",
      "source": [
        "model = keras.models.Sequential([\n",
        "                                 keras.layers.Dense(16, activation = 'relu',input_shape=(6,)), \n",
        "                                 keras.layers.Dense(1)\n",
        "                                 ])\n",
        "model.compile(loss = \"mae\",optimizer = 'sgd')\n",
        "history = model.fit(x_train,y_train,epochs=1000,verbose=0)"
      ],
      "metadata": {
        "id": "LPd5o10SK9He"
      },
      "execution_count": 20,
      "outputs": []
    },
    {
      "cell_type": "markdown",
      "source": [
        "## Evaluate Model"
      ],
      "metadata": {
        "id": "S_HzTJpCMn9E"
      }
    },
    {
      "cell_type": "code",
      "source": [
        "htest =  model.evaluate(x_test,y_test)"
      ],
      "metadata": {
        "colab": {
          "base_uri": "https://localhost:8080/"
        },
        "id": "WbZERsg9Mcfb",
        "outputId": "5ebf5c06-1bb8-48bc-84e9-f5c48b4b97e1"
      },
      "execution_count": 21,
      "outputs": [
        {
          "output_type": "stream",
          "name": "stdout",
          "text": [
            "2/2 [==============================] - 0s 6ms/step - loss: 0.0178\n"
          ]
        }
      ]
    },
    {
      "cell_type": "code",
      "source": [
        "x_new = x_test[:50]\n",
        "pred =  model.predict(x_new)\n",
        "plt.figure(figsize = (10,5))\n",
        "plt.plot(np.arange(0,len(x_new),1),y_test[:50],'b--',label='Actual')\n",
        "plt.plot(np.arange(0,len(x_new),1),pred,'r--',label='Predicted')\n",
        "plt.legend()\n",
        "plt.show()"
      ],
      "metadata": {
        "colab": {
          "base_uri": "https://localhost:8080/",
          "height": 320
        },
        "id": "SRBDtcwVMmeP",
        "outputId": "522ec6ab-3ab3-4bb6-a0d8-aa1bd8ceaf6c"
      },
      "execution_count": 22,
      "outputs": [
        {
          "output_type": "display_data",
          "data": {
            "text/plain": [
              "<Figure size 720x360 with 1 Axes>"
            ],
            "image/png": "[encoded data removed]"
          },
          "metadata": {
            "needs_background": "light"
          }
        }
      ]
    },
    {
      "cell_type": "code",
      "source": [
        "plt.plot(y_test[:50],pred,'o')\n",
        "m,b = np.polyfit(y_test[:50],pred,1)\n",
        "plt.plot(y_test[:50],m*y_test +b)\n",
        "print(m)"
      ],
      "metadata": {
        "colab": {
          "base_uri": "https://localhost:8080/",
          "height": 282
        },
        "id": "GNhVA2G7NzWZ",
        "outputId": "0c515398-9220-407e-c436-568ebcd357de"
      },
      "execution_count": 23,
      "outputs": [
        {
          "output_type": "stream",
          "name": "stdout",
          "text": [
            "[0.99810678]\n"
          ]
        },
        {
          "output_type": "display_data",
          "data": {
            "text/plain": [
              "<Figure size 432x288 with 1 Axes>"
            ],
            "image/png": "[encoded data removed]"
          },
          "metadata": {
            "needs_background": "light"
          }
        }
      ]
    },
    {
      "cell_type": "markdown",
      "source": [
        "# 4. Classification "
      ],
      "metadata": {
        "id": "YrO6Dgfbr4gv"
      }
    },
    {
      "cell_type": "code",
      "source": [
        "import tensorflow as tf\n",
        "import numpy as np "
      ],
      "metadata": {
        "id": "wpWHLgTosANt"
      },
      "execution_count": null,
      "outputs": []
    },
    {
      "cell_type": "markdown",
      "source": [
        "## Import Data"
      ],
      "metadata": {
        "id": "MpKTLklbsVj6"
      }
    },
    {
      "cell_type": "code",
      "source": [
        "data = tf.keras.datasets.mnist\n",
        "\n",
        "(x_train,y_train),(x_test,y_test) = data.load_data()\n",
        "\n",
        "x_train, x_test = x_train/ 255.0, x_test/ 255.0"
      ],
      "metadata": {
        "colab": {
          "base_uri": "https://localhost:8080/"
        },
        "id": "vTYPku6WsS1q",
        "outputId": "d94c2196-f5e0-4273-a5ec-46103e3c8092"
      },
      "execution_count": null,
      "outputs": [
        {
          "output_type": "stream",
          "name": "stdout",
          "text": [
            "Downloading data from https://storage.googleapis.com/tensorflow/tf-keras-datasets/mnist.npz\n",
            "11493376/11490434 [==============================] - 0s 0us/step\n",
            "11501568/11490434 [==============================] - 0s 0us/step\n"
          ]
        }
      ]
    },
    {
      "cell_type": "markdown",
      "source": [
        "## Build Tensor Network"
      ],
      "metadata": {
        "id": "mF2PAQTrtMfN"
      }
    },
    {
      "cell_type": "code",
      "source": [
        "print(\"Training Tensors\")\n",
        "print(\"=======================\")\n",
        "print(\"Number of dimensions in tensor: %d\"%x_train.ndim)\n",
        "print(\"Tensor shape: \", x_train.shape)\n",
        "print(\"Data type: %s\"%x_train.dtype)\n",
        "print(\"=======================\")\n",
        "print()\n",
        "print(\"Test Tensors\")\n",
        "print(\"=======================\")\n",
        "print(\"Number of dimensions in tensor: %d\"%x_test.ndim)\n",
        "print(\"Tensor shape: \", x_test.shape)\n",
        "print(\"Data type: %s\"%x_test.dtype)"
      ],
      "metadata": {
        "colab": {
          "base_uri": "https://localhost:8080/"
        },
        "id": "ms87Nt5RsTAd",
        "outputId": "6cd4f31f-a7dc-45c6-eb14-63b4931155d6"
      },
      "execution_count": null,
      "outputs": [
        {
          "output_type": "stream",
          "name": "stdout",
          "text": [
            "Training Tensors\n",
            "=======================\n",
            "Number of dimensions in tensor: 3\n",
            "Tensor shape:  (60000, 28, 28)\n",
            "Data type: float64\n",
            "=======================\n",
            "\n",
            "Test Tensors\n",
            "=======================\n",
            "Number of dimensions in tensor: 3\n",
            "Tensor shape:  (10000, 28, 28)\n",
            "Data type: float64\n"
          ]
        }
      ]
    },
    {
      "cell_type": "code",
      "source": [
        "model = tf.keras.models.Sequential([\n",
        "  tf.keras.layers.Flatten(input_shape=(28, 28)),\n",
        "  tf.keras.layers.Dense(128, activation='relu'),\n",
        "  tf.keras.layers.Dropout(0.2),\n",
        "  tf.keras.layers.Dense(10, activation='softmax')\n",
        "])\n",
        "\n",
        "model.compile(optimizer='adam',\n",
        "              loss='sparse_categorical_crossentropy',\n",
        "              metrics=['accuracy'])"
      ],
      "metadata": {
        "id": "GKimlBrdsTMt"
      },
      "execution_count": null,
      "outputs": []
    },
    {
      "cell_type": "markdown",
      "source": [
        "## Train Tensor Network"
      ],
      "metadata": {
        "id": "zxEOXKGsto47"
      }
    },
    {
      "cell_type": "code",
      "source": [
        "model.fit(x_train, y_train, epochs=5)\n",
        "\n",
        "model.evaluate(x_test,  y_test, verbose=2)\n",
        "model.summary()"
      ],
      "metadata": {
        "colab": {
          "base_uri": "https://localhost:8080/"
        },
        "id": "4XOeTMUUsPHj",
        "outputId": "b163cdf3-f804-4b94-a029-f808fba747e3"
      },
      "execution_count": null,
      "outputs": [
        {
          "output_type": "stream",
          "name": "stdout",
          "text": [
            "Epoch 1/5\n",
            "1875/1875 [==============================] - 8s 4ms/step - loss: 0.3006 - accuracy: 0.9122\n",
            "Epoch 2/5\n",
            "1875/1875 [==============================] - 5s 3ms/step - loss: 0.1490 - accuracy: 0.9560\n",
            "Epoch 3/5\n",
            "1875/1875 [==============================] - 5s 3ms/step - loss: 0.1107 - accuracy: 0.9669\n",
            "Epoch 4/5\n",
            "1875/1875 [==============================] - 5s 3ms/step - loss: 0.0915 - accuracy: 0.9718\n",
            "Epoch 5/5\n",
            "1875/1875 [==============================] - 9s 5ms/step - loss: 0.0759 - accuracy: 0.9763\n",
            "313/313 - 1s - loss: 0.0831 - accuracy: 0.9739 - 556ms/epoch - 2ms/step\n",
            "Model: \"sequential_2\"\n",
            "_________________________________________________________________\n",
            " Layer (type)                Output Shape              Param #   \n",
            "=================================================================\n",
            " flatten (Flatten)           (None, 784)               0         \n",
            "                                                                 \n",
            " dense_6 (Dense)             (None, 128)               100480    \n",
            "                                                                 \n",
            " dropout (Dropout)           (None, 128)               0         \n",
            "                                                                 \n",
            " dense_7 (Dense)             (None, 10)                1290      \n",
            "                                                                 \n",
            "=================================================================\n",
            "Total params: 101,770\n",
            "Trainable params: 101,770\n",
            "Non-trainable params: 0\n",
            "_________________________________________________________________\n"
          ]
        }
      ]
    },
    {
      "cell_type": "markdown",
      "source": [
        "## Predict "
      ],
      "metadata": {
        "id": "nwEqrS_rtxv0"
      }
    },
    {
      "cell_type": "code",
      "source": [
        "predictions = model.predict(x_test)\n",
        "print(predictions[1010])\n",
        "np.argmax(predictions[1010])"
      ],
      "metadata": {
        "colab": {
          "base_uri": "https://localhost:8080/"
        },
        "id": "6aM-0RNht4M0",
        "outputId": "e284a11e-d69c-487a-9114-d5110aa08f1f"
      },
      "execution_count": null,
      "outputs": [
        {
          "output_type": "stream",
          "name": "stdout",
          "text": [
            "[7.2607678e-14 2.1892162e-10 5.4808127e-09 7.6320406e-10 9.9972183e-01\n",
            " 4.1741600e-08 2.7451237e-09 2.3843333e-04 1.3509223e-05 2.6133101e-05]\n"
          ]
        },
        {
          "output_type": "execute_result",
          "data": {
            "text/plain": [
              "4"
            ]
          },
          "metadata": {},
          "execution_count": 79
        }
      ]
    },
    {
      "cell_type": "code",
      "source": [
        "import matplotlib.pyplot as plt\n",
        "plt.imshow(x_test[1010],cmap='gray')"
      ],
      "metadata": {
        "colab": {
          "base_uri": "https://localhost:8080/",
          "height": 282
        },
        "id": "Hre77SzLt-6c",
        "outputId": "4595f33b-f6bf-455d-91d7-94d4ebb0d00f"
      },
      "execution_count": null,
      "outputs": [
        {
          "output_type": "execute_result",
          "data": {
            "text/plain": [
              "<matplotlib.image.AxesImage at 0x7f456e2fc550>"
            ]
          },
          "metadata": {},
          "execution_count": 80
        },
        {
          "output_type": "display_data",
          "data": {
            "text/plain": [
              "<Figure size 432x288 with 1 Axes>"
            ],
            "image/png": "[encoded data removed]"
          },
          "metadata": {
            "needs_background": "light"
          }
        }
      ]
    },
    {
      "cell_type": "code",
      "source": [
        "predictions = model.predict(x_test)\n",
        "print(predictions[100])\n",
        "print(type(predictions))\n",
        "np.argmax(predictions[100])"
      ],
      "metadata": {
        "colab": {
          "base_uri": "https://localhost:8080/"
        },
        "id": "zu6gorv-ur5s",
        "outputId": "3f808868-af83-4b16-960e-5194dfbd9cac"
      },
      "execution_count": null,
      "outputs": [
        {
          "output_type": "stream",
          "name": "stdout",
          "text": [
            "[3.5527410e-06 5.2075524e-07 2.5945676e-06 6.4947190e-09 4.6738978e-06\n",
            " 3.8232720e-06 9.9998415e-01 3.4071610e-07 3.3143576e-07 3.0237486e-09]\n",
            "<class 'numpy.ndarray'>\n"
          ]
        },
        {
          "output_type": "execute_result",
          "data": {
            "text/plain": [
              "6"
            ]
          },
          "metadata": {},
          "execution_count": 81
        }
      ]
    },
    {
      "cell_type": "code",
      "source": [
        "pred=[]\n",
        "for j in range(len(predictions)):\n",
        "   pred.append(np.argmax(predictions[j]))"
      ],
      "metadata": {
        "id": "HCou019MuzL1"
      },
      "execution_count": null,
      "outputs": []
    },
    {
      "cell_type": "markdown",
      "source": [
        "## Evaluate the Model "
      ],
      "metadata": {
        "id": "Beolm3qWu7UI"
      }
    },
    {
      "cell_type": "code",
      "source": [
        "class_names = ['0', '1', '2', '3', '4',\n",
        "               '5', '6', '7', '8', '9']"
      ],
      "metadata": {
        "id": "HDLY-c3pu-iY"
      },
      "execution_count": null,
      "outputs": []
    },
    {
      "cell_type": "code",
      "source": [
        "import sklearn\n",
        "from sklearn.metrics import confusion_matrix\n",
        "confusion_matrix(y_test,pred)"
      ],
      "metadata": {
        "colab": {
          "base_uri": "https://localhost:8080/"
        },
        "id": "gnT-Egotu_40",
        "outputId": "cab396ef-2502-45ca-84c7-e8432c6b7fa6"
      },
      "execution_count": null,
      "outputs": [
        {
          "output_type": "execute_result",
          "data": {
            "text/plain": [
              "array([[ 963,    0,    0,    3,    1,    1,    8,    1,    2,    1],\n",
              "       [   0, 1127,    2,    1,    0,    0,    3,    0,    2,    0],\n",
              "       [   1,    0, 1005,   11,    1,    0,    3,    3,    8,    0],\n",
              "       [   0,    0,    1,  999,    0,    3,    1,    3,    3,    0],\n",
              "       [   1,    0,    2,    0,  963,    0,    6,    1,    2,    7],\n",
              "       [   2,    0,    0,   19,    3,  858,    6,    1,    1,    2],\n",
              "       [   3,    3,    0,    1,    3,    3,  945,    0,    0,    0],\n",
              "       [   1,    5,   10,   10,    0,    0,    0,  997,    0,    5],\n",
              "       [   4,    2,    2,   16,    4,    8,    3,    6,  928,    1],\n",
              "       [   1,    6,    0,   19,   15,    1,    0,   11,    2,  954]])"
            ]
          },
          "metadata": {},
          "execution_count": 84
        }
      ]
    },
    {
      "cell_type": "code",
      "source": [
        "from sklearn.metrics import classification_report\n",
        "print(classification_report(y_test,pred, target_names=class_names))"
      ],
      "metadata": {
        "colab": {
          "base_uri": "https://localhost:8080/"
        },
        "id": "apL4vrSDvF8l",
        "outputId": "3e27dbc7-9a02-4290-ccdb-45dd13be1bd6"
      },
      "execution_count": null,
      "outputs": [
        {
          "output_type": "stream",
          "name": "stdout",
          "text": [
            "              precision    recall  f1-score   support\n",
            "\n",
            "           0       0.99      0.98      0.98       980\n",
            "           1       0.99      0.99      0.99      1135\n",
            "           2       0.98      0.97      0.98      1032\n",
            "           3       0.93      0.99      0.96      1010\n",
            "           4       0.97      0.98      0.98       982\n",
            "           5       0.98      0.96      0.97       892\n",
            "           6       0.97      0.99      0.98       958\n",
            "           7       0.97      0.97      0.97      1028\n",
            "           8       0.98      0.95      0.97       974\n",
            "           9       0.98      0.95      0.96      1009\n",
            "\n",
            "    accuracy                           0.97     10000\n",
            "   macro avg       0.97      0.97      0.97     10000\n",
            "weighted avg       0.97      0.97      0.97     10000\n",
            "\n"
          ]
        }
      ]
    },
    {
      "cell_type": "code",
      "source": [
        "print('Accuracy:', sklearn.metrics.accuracy_score(y_test,pred))\n",
        "\n",
        "print('F1 score:',sklearn.metrics.f1_score(y_test,pred,\n",
        "                            average='weighted'))\n",
        "\n",
        "print( 'Recall:',sklearn.metrics.recall_score(y_test,pred,\n",
        "                              average='weighted'))\n",
        "\n",
        "print('Precision:',sklearn.metrics.precision_score(y_test,pred,\n",
        "                                    average='weighted'))"
      ],
      "metadata": {
        "colab": {
          "base_uri": "https://localhost:8080/"
        },
        "id": "R8LwuTcJvKJR",
        "outputId": "06eb9935-63b3-4833-e77f-5cf4fcc70225"
      },
      "execution_count": null,
      "outputs": [
        {
          "output_type": "stream",
          "name": "stdout",
          "text": [
            "Accuracy: 0.9739\n",
            "F1 score: 0.9739219324916849\n",
            "Recall: 0.9739\n",
            "Precision: 0.9743101054702616\n"
          ]
        }
      ]
    },
    {
      "cell_type": "markdown",
      "source": [
        "# 5. SVM"
      ],
      "metadata": {
        "id": "P84qZ2ECP-qu"
      }
    },
    {
      "cell_type": "code",
      "execution_count": null,
      "metadata": {
        "id": "30Zoa8IQPYQM"
      },
      "outputs": [],
      "source": [
        "import numpy as np\n",
        "import matplotlib.pyplot as  plt\n",
        "import pandas as pd\n",
        "%matplotlib inline"
      ]
    },
    {
      "cell_type": "code",
      "source": [
        "data = pd.read_csv(\"/content/drive/MyDrive/Colab Notebooks/Iris.csv\")\n",
        "data.head()"
      ],
      "metadata": {
        "colab": {
          "base_uri": "https://localhost:8080/",
          "height": 206
        },
        "id": "hDopy0PYQGCj",
        "outputId": "19c9785d-9b19-4567-c257-2f8cf104ed58"
      },
      "execution_count": null,
      "outputs": [
        {
          "output_type": "execute_result",
          "data": {
            "text/plain": [
              "   Id  SepalLengthCm  SepalWidthCm  PetalLengthCm  PetalWidthCm      Species\n",
              "0   1            5.1           3.5            1.4           0.2  Iris-setosa\n",
              "1   2            4.9           3.0            1.4           0.2  Iris-setosa\n",
              "2   3            4.7           3.2            1.3           0.2  Iris-setosa\n",
              "3   4            4.6           3.1            1.5           0.2  Iris-setosa\n",
              "4   5            5.0           3.6            1.4           0.2  Iris-setosa"
            ],
            "text/html": [
              "\n",
              "  <div id=\"df-e772251b-b2cb-4288-8712-551481407de2\">\n",
              "    <div class=\"colab-df-container\">\n",
              "      <div>\n",
              "<style scoped>\n",
              "    .dataframe tbody tr th:only-of-type {\n",
              "        vertical-align: middle;\n",
              "    }\n",
              "\n",
              "    .dataframe tbody tr th {\n",
              "        vertical-align: top;\n",
              "    }\n",
              "\n",
              "    .dataframe thead th {\n",
              "        text-align: right;\n",
              "    }\n",
              "</style>\n",
              "<table border=\"1\" class=\"dataframe\">\n",
              "  <thead>\n",
              "    <tr style=\"text-align: right;\">\n",
              "      <th></th>\n",
              "      <th>Id</th>\n",
              "      <th>SepalLengthCm</th>\n",
              "      <th>SepalWidthCm</th>\n",
              "      <th>PetalLengthCm</th>\n",
              "      <th>PetalWidthCm</th>\n",
              "      <th>Species</th>\n",
              "    </tr>\n",
              "  </thead>\n",
              "  <tbody>\n",
              "    <tr>\n",
              "      <th>0</th>\n",
              "      <td>1</td>\n",
              "      <td>5.1</td>\n",
              "      <td>3.5</td>\n",
              "      <td>1.4</td>\n",
              "      <td>0.2</td>\n",
              "      <td>Iris-setosa</td>\n",
              "    </tr>\n",
              "    <tr>\n",
              "      <th>1</th>\n",
              "      <td>2</td>\n",
              "      <td>4.9</td>\n",
              "      <td>3.0</td>\n",
              "      <td>1.4</td>\n",
              "      <td>0.2</td>\n",
              "      <td>Iris-setosa</td>\n",
              "    </tr>\n",
              "    <tr>\n",
              "      <th>2</th>\n",
              "      <td>3</td>\n",
              "      <td>4.7</td>\n",
              "      <td>3.2</td>\n",
              "      <td>1.3</td>\n",
              "      <td>0.2</td>\n",
              "      <td>Iris-setosa</td>\n",
              "    </tr>\n",
              "    <tr>\n",
              "      <th>3</th>\n",
              "      <td>4</td>\n",
              "      <td>4.6</td>\n",
              "      <td>3.1</td>\n",
              "      <td>1.5</td>\n",
              "      <td>0.2</td>\n",
              "      <td>Iris-setosa</td>\n",
              "    </tr>\n",
              "    <tr>\n",
              "      <th>4</th>\n",
              "      <td>5</td>\n",
              "      <td>5.0</td>\n",
              "      <td>3.6</td>\n",
              "      <td>1.4</td>\n",
              "      <td>0.2</td>\n",
              "      <td>Iris-setosa</td>\n",
              "    </tr>\n",
              "  </tbody>\n",
              "</table>\n",
              "</div>\n",
              "      <button class=\"colab-df-convert\" onclick=\"convertToInteractive('df-e772251b-b2cb-4288-8712-551481407de2')\"\n",
              "              title=\"Convert this dataframe to an interactive table.\"\n",
              "              style=\"display:none;\">\n",
              "        \n",
              "  <svg xmlns=\"http://www.w3.org/2000/svg\" height=\"24px\"viewBox=\"0 0 24 24\"\n",
              "       width=\"24px\">\n",
              "    <path d=\"M0 0h24v24H0V0z\" fill=\"none\"/>\n",
              "    <path d=\"M18.56 5.44l.94 2.06.94-2.06 2.06-.94-2.06-.94-.94-2.06-.94 2.06-2.06.94zm-11 1L8.5 8.5l.94-2.06 2.06-.94-2.06-.94L8.5 2.5l-.94 2.06-2.06.94zm10 10l.94 2.06.94-2.06 2.06-.94-2.06-.94-.94-2.06-.94 2.06-2.06.94z\"/><path d=\"M17.41 7.96l-1.37-1.37c-.4-.4-.92-.59-1.43-.59-.52 0-1.04.2-1.43.59L10.3 9.45l-7.72 7.72c-.78.78-.78 2.05 0 2.83L4 21.41c.39.39.9.59 1.41.59.51 0 1.02-.2 1.41-.59l7.78-7.78 2.81-2.81c.8-.78.8-2.07 0-2.86zM5.41 20L4 18.59l7.72-7.72 1.47 1.35L5.41 20z\"/>\n",
              "  </svg>\n",
              "      </button>\n",
              "      \n",
              "  <style>\n",
              "    .colab-df-container {\n",
              "      display:flex;\n",
              "      flex-wrap:wrap;\n",
              "      gap: 12px;\n",
              "    }\n",
              "\n",
              "    .colab-df-convert {\n",
              "      background-color: #E8F0FE;\n",
              "      border: none;\n",
              "      border-radius: 50%;\n",
              "      cursor: pointer;\n",
              "      display: none;\n",
              "      fill: #1967D2;\n",
              "      height: 32px;\n",
              "      padding: 0 0 0 0;\n",
              "      width: 32px;\n",
              "    }\n",
              "\n",
              "    .colab-df-convert:hover {\n",
              "      background-color: #E2EBFA;\n",
              "      box-shadow: 0px 1px 2px rgba(60, 64, 67, 0.3), 0px 1px 3px 1px rgba(60, 64, 67, 0.15);\n",
              "      fill: #174EA6;\n",
              "    }\n",
              "\n",
              "    [theme=dark] .colab-df-convert {\n",
              "      background-color: #3B4455;\n",
              "      fill: #D2E3FC;\n",
              "    }\n",
              "\n",
              "    [theme=dark] .colab-df-convert:hover {\n",
              "      background-color: #434B5C;\n",
              "      box-shadow: 0px 1px 3px 1px rgba(0, 0, 0, 0.15);\n",
              "      filter: drop-shadow(0px 1px 2px rgba(0, 0, 0, 0.3));\n",
              "      fill: #FFFFFF;\n",
              "    }\n",
              "  </style>\n",
              "\n",
              "      <script>\n",
              "        const buttonEl =\n",
              "          document.querySelector('#df-e772251b-b2cb-4288-8712-551481407de2 button.colab-df-convert');\n",
              "        buttonEl.style.display =\n",
              "          google.colab.kernel.accessAllowed ? 'block' : 'none';\n",
              "\n",
              "        async function convertToInteractive(key) {\n",
              "          const element = document.querySelector('#df-e772251b-b2cb-4288-8712-551481407de2');\n",
              "          const dataTable =\n",
              "            await google.colab.kernel.invokeFunction('convertToInteractive',\n",
              "                                                     [key], {});\n",
              "          if (!dataTable) return;\n",
              "\n",
              "          const docLinkHtml = 'Like what you see? Visit the ' +\n",
              "            '<a target=\"_blank\" href=https://colab.research.google.com/notebooks/data_table.ipynb>data table notebook</a>'\n",
              "            + ' to learn more about interactive tables.';\n",
              "          element.innerHTML = '';\n",
              "          dataTable['output_type'] = 'display_data';\n",
              "          await google.colab.output.renderOutput(dataTable, element);\n",
              "          const docLink = document.createElement('div');\n",
              "          docLink.innerHTML = docLinkHtml;\n",
              "          element.appendChild(docLink);\n",
              "        }\n",
              "      </script>\n",
              "    </div>\n",
              "  </div>\n",
              "  "
            ]
          },
          "metadata": {},
          "execution_count": 2
        }
      ]
    },
    {
      "cell_type": "code",
      "source": [
        "data.shape"
      ],
      "metadata": {
        "colab": {
          "base_uri": "https://localhost:8080/"
        },
        "id": "IWcehgi_RzKy",
        "outputId": "ceb1a858-6c0c-41c0-c519-2a6af2c9be09"
      },
      "execution_count": null,
      "outputs": [
        {
          "output_type": "execute_result",
          "data": {
            "text/plain": [
              "(150, 6)"
            ]
          },
          "metadata": {},
          "execution_count": 3
        }
      ]
    },
    {
      "cell_type": "markdown",
      "source": [
        "## Cleaning And normalizing Data"
      ],
      "metadata": {
        "id": "R_BbEEMVfdg-"
      }
    },
    {
      "cell_type": "code",
      "source": [
        "#Encoding the categorical column\n",
        "data = data.replace({\"Species\":  {\"Iris-setosa\":1,\"Iris-versicolor\":2, \"Iris-virginica\":3}})\n",
        "data.head()"
      ],
      "metadata": {
        "colab": {
          "base_uri": "https://localhost:8080/",
          "height": 206
        },
        "id": "FTthj81TSAvr",
        "outputId": "0abef717-f56e-4dce-b25d-e6a1ea24ac72"
      },
      "execution_count": null,
      "outputs": [
        {
          "output_type": "execute_result",
          "data": {
            "text/plain": [
              "   Id  SepalLengthCm  SepalWidthCm  PetalLengthCm  PetalWidthCm  Species\n",
              "0   1            5.1           3.5            1.4           0.2        1\n",
              "1   2            4.9           3.0            1.4           0.2        1\n",
              "2   3            4.7           3.2            1.3           0.2        1\n",
              "3   4            4.6           3.1            1.5           0.2        1\n",
              "4   5            5.0           3.6            1.4           0.2        1"
            ],
            "text/html": [
              "\n",
              "  <div id=\"df-58588963-a2f6-4d71-9035-0aff1e61cc9b\">\n",
              "    <div class=\"colab-df-container\">\n",
              "      <div>\n",
              "<style scoped>\n",
              "    .dataframe tbody tr th:only-of-type {\n",
              "        vertical-align: middle;\n",
              "    }\n",
              "\n",
              "    .dataframe tbody tr th {\n",
              "        vertical-align: top;\n",
              "    }\n",
              "\n",
              "    .dataframe thead th {\n",
              "        text-align: right;\n",
              "    }\n",
              "</style>\n",
              "<table border=\"1\" class=\"dataframe\">\n",
              "  <thead>\n",
              "    <tr style=\"text-align: right;\">\n",
              "      <th></th>\n",
              "      <th>Id</th>\n",
              "      <th>SepalLengthCm</th>\n",
              "      <th>SepalWidthCm</th>\n",
              "      <th>PetalLengthCm</th>\n",
              "      <th>PetalWidthCm</th>\n",
              "      <th>Species</th>\n",
              "    </tr>\n",
              "  </thead>\n",
              "  <tbody>\n",
              "    <tr>\n",
              "      <th>0</th>\n",
              "      <td>1</td>\n",
              "      <td>5.1</td>\n",
              "      <td>3.5</td>\n",
              "      <td>1.4</td>\n",
              "      <td>0.2</td>\n",
              "      <td>1</td>\n",
              "    </tr>\n",
              "    <tr>\n",
              "      <th>1</th>\n",
              "      <td>2</td>\n",
              "      <td>4.9</td>\n",
              "      <td>3.0</td>\n",
              "      <td>1.4</td>\n",
              "      <td>0.2</td>\n",
              "      <td>1</td>\n",
              "    </tr>\n",
              "    <tr>\n",
              "      <th>2</th>\n",
              "      <td>3</td>\n",
              "      <td>4.7</td>\n",
              "      <td>3.2</td>\n",
              "      <td>1.3</td>\n",
              "      <td>0.2</td>\n",
              "      <td>1</td>\n",
              "    </tr>\n",
              "    <tr>\n",
              "      <th>3</th>\n",
              "      <td>4</td>\n",
              "      <td>4.6</td>\n",
              "      <td>3.1</td>\n",
              "      <td>1.5</td>\n",
              "      <td>0.2</td>\n",
              "      <td>1</td>\n",
              "    </tr>\n",
              "    <tr>\n",
              "      <th>4</th>\n",
              "      <td>5</td>\n",
              "      <td>5.0</td>\n",
              "      <td>3.6</td>\n",
              "      <td>1.4</td>\n",
              "      <td>0.2</td>\n",
              "      <td>1</td>\n",
              "    </tr>\n",
              "  </tbody>\n",
              "</table>\n",
              "</div>\n",
              "      <button class=\"colab-df-convert\" onclick=\"convertToInteractive('df-58588963-a2f6-4d71-9035-0aff1e61cc9b')\"\n",
              "              title=\"Convert this dataframe to an interactive table.\"\n",
              "              style=\"display:none;\">\n",
              "        \n",
              "  <svg xmlns=\"http://www.w3.org/2000/svg\" height=\"24px\"viewBox=\"0 0 24 24\"\n",
              "       width=\"24px\">\n",
              "    <path d=\"M0 0h24v24H0V0z\" fill=\"none\"/>\n",
              "    <path d=\"M18.56 5.44l.94 2.06.94-2.06 2.06-.94-2.06-.94-.94-2.06-.94 2.06-2.06.94zm-11 1L8.5 8.5l.94-2.06 2.06-.94-2.06-.94L8.5 2.5l-.94 2.06-2.06.94zm10 10l.94 2.06.94-2.06 2.06-.94-2.06-.94-.94-2.06-.94 2.06-2.06.94z\"/><path d=\"M17.41 7.96l-1.37-1.37c-.4-.4-.92-.59-1.43-.59-.52 0-1.04.2-1.43.59L10.3 9.45l-7.72 7.72c-.78.78-.78 2.05 0 2.83L4 21.41c.39.39.9.59 1.41.59.51 0 1.02-.2 1.41-.59l7.78-7.78 2.81-2.81c.8-.78.8-2.07 0-2.86zM5.41 20L4 18.59l7.72-7.72 1.47 1.35L5.41 20z\"/>\n",
              "  </svg>\n",
              "      </button>\n",
              "      \n",
              "  <style>\n",
              "    .colab-df-container {\n",
              "      display:flex;\n",
              "      flex-wrap:wrap;\n",
              "      gap: 12px;\n",
              "    }\n",
              "\n",
              "    .colab-df-convert {\n",
              "      background-color: #E8F0FE;\n",
              "      border: none;\n",
              "      border-radius: 50%;\n",
              "      cursor: pointer;\n",
              "      display: none;\n",
              "      fill: #1967D2;\n",
              "      height: 32px;\n",
              "      padding: 0 0 0 0;\n",
              "      width: 32px;\n",
              "    }\n",
              "\n",
              "    .colab-df-convert:hover {\n",
              "      background-color: #E2EBFA;\n",
              "      box-shadow: 0px 1px 2px rgba(60, 64, 67, 0.3), 0px 1px 3px 1px rgba(60, 64, 67, 0.15);\n",
              "      fill: #174EA6;\n",
              "    }\n",
              "\n",
              "    [theme=dark] .colab-df-convert {\n",
              "      background-color: #3B4455;\n",
              "      fill: #D2E3FC;\n",
              "    }\n",
              "\n",
              "    [theme=dark] .colab-df-convert:hover {\n",
              "      background-color: #434B5C;\n",
              "      box-shadow: 0px 1px 3px 1px rgba(0, 0, 0, 0.15);\n",
              "      filter: drop-shadow(0px 1px 2px rgba(0, 0, 0, 0.3));\n",
              "      fill: #FFFFFF;\n",
              "    }\n",
              "  </style>\n",
              "\n",
              "      <script>\n",
              "        const buttonEl =\n",
              "          document.querySelector('#df-58588963-a2f6-4d71-9035-0aff1e61cc9b button.colab-df-convert');\n",
              "        buttonEl.style.display =\n",
              "          google.colab.kernel.accessAllowed ? 'block' : 'none';\n",
              "\n",
              "        async function convertToInteractive(key) {\n",
              "          const element = document.querySelector('#df-58588963-a2f6-4d71-9035-0aff1e61cc9b');\n",
              "          const dataTable =\n",
              "            await google.colab.kernel.invokeFunction('convertToInteractive',\n",
              "                                                     [key], {});\n",
              "          if (!dataTable) return;\n",
              "\n",
              "          const docLinkHtml = 'Like what you see? Visit the ' +\n",
              "            '<a target=\"_blank\" href=https://colab.research.google.com/notebooks/data_table.ipynb>data table notebook</a>'\n",
              "            + ' to learn more about interactive tables.';\n",
              "          element.innerHTML = '';\n",
              "          dataTable['output_type'] = 'display_data';\n",
              "          await google.colab.output.renderOutput(dataTable, element);\n",
              "          const docLink = document.createElement('div');\n",
              "          docLink.innerHTML = docLinkHtml;\n",
              "          element.appendChild(docLink);\n",
              "        }\n",
              "      </script>\n",
              "    </div>\n",
              "  </div>\n",
              "  "
            ]
          },
          "metadata": {},
          "execution_count": 4
        }
      ]
    },
    {
      "cell_type": "markdown",
      "source": [
        "## Split Dataset for Train and Test"
      ],
      "metadata": {
        "id": "NIWdednMfs3B"
      }
    },
    {
      "cell_type": "code",
      "source": [
        "x = data.iloc[:,:-1]\n",
        "y = data.iloc[:,-1].values\n",
        "\n",
        "from sklearn.model_selection import train_test_split\n",
        "X_train, X_test, y_train, y_test = train_test_split(x, y, test_size = 0.25, random_state = 0)\n",
        "X_train"
      ],
      "metadata": {
        "colab": {
          "base_uri": "https://localhost:8080/",
          "height": 424
        },
        "id": "O-8ELBAdSofq",
        "outputId": "e38ff5c7-34d3-4483-bf7e-fa2186aa0106"
      },
      "execution_count": null,
      "outputs": [
        {
          "output_type": "execute_result",
          "data": {
            "text/plain": [
              "      Id  SepalLengthCm  SepalWidthCm  PetalLengthCm  PetalWidthCm\n",
              "61    62            5.9           3.0            4.2           1.5\n",
              "92    93            5.8           2.6            4.0           1.2\n",
              "112  113            6.8           3.0            5.5           2.1\n",
              "2      3            4.7           3.2            1.3           0.2\n",
              "141  142            6.9           3.1            5.1           2.3\n",
              "..   ...            ...           ...            ...           ...\n",
              "9     10            4.9           3.1            1.5           0.1\n",
              "103  104            6.3           2.9            5.6           1.8\n",
              "67    68            5.8           2.7            4.1           1.0\n",
              "117  118            7.7           3.8            6.7           2.2\n",
              "47    48            4.6           3.2            1.4           0.2\n",
              "\n",
              "[112 rows x 5 columns]"
            ],
            "text/html": [
              "\n",
              "  <div id=\"df-54fb6cc3-23ef-4fc9-98d6-b77838d48a9e\">\n",
              "    <div class=\"colab-df-container\">\n",
              "      <div>\n",
              "<style scoped>\n",
              "    .dataframe tbody tr th:only-of-type {\n",
              "        vertical-align: middle;\n",
              "    }\n",
              "\n",
              "    .dataframe tbody tr th {\n",
              "        vertical-align: top;\n",
              "    }\n",
              "\n",
              "    .dataframe thead th {\n",
              "        text-align: right;\n",
              "    }\n",
              "</style>\n",
              "<table border=\"1\" class=\"dataframe\">\n",
              "  <thead>\n",
              "    <tr style=\"text-align: right;\">\n",
              "      <th></th>\n",
              "      <th>Id</th>\n",
              "      <th>SepalLengthCm</th>\n",
              "      <th>SepalWidthCm</th>\n",
              "      <th>PetalLengthCm</th>\n",
              "      <th>PetalWidthCm</th>\n",
              "    </tr>\n",
              "  </thead>\n",
              "  <tbody>\n",
              "    <tr>\n",
              "      <th>61</th>\n",
              "      <td>62</td>\n",
              "      <td>5.9</td>\n",
              "      <td>3.0</td>\n",
              "      <td>4.2</td>\n",
              "      <td>1.5</td>\n",
              "    </tr>\n",
              "    <tr>\n",
              "      <th>92</th>\n",
              "      <td>93</td>\n",
              "      <td>5.8</td>\n",
              "      <td>2.6</td>\n",
              "      <td>4.0</td>\n",
              "      <td>1.2</td>\n",
              "    </tr>\n",
              "    <tr>\n",
              "      <th>112</th>\n",
              "      <td>113</td>\n",
              "      <td>6.8</td>\n",
              "      <td>3.0</td>\n",
              "      <td>5.5</td>\n",
              "      <td>2.1</td>\n",
              "    </tr>\n",
              "    <tr>\n",
              "      <th>2</th>\n",
              "      <td>3</td>\n",
              "      <td>4.7</td>\n",
              "      <td>3.2</td>\n",
              "      <td>1.3</td>\n",
              "      <td>0.2</td>\n",
              "    </tr>\n",
              "    <tr>\n",
              "      <th>141</th>\n",
              "      <td>142</td>\n",
              "      <td>6.9</td>\n",
              "      <td>3.1</td>\n",
              "      <td>5.1</td>\n",
              "      <td>2.3</td>\n",
              "    </tr>\n",
              "    <tr>\n",
              "      <th>...</th>\n",
              "      <td>...</td>\n",
              "      <td>...</td>\n",
              "      <td>...</td>\n",
              "      <td>...</td>\n",
              "      <td>...</td>\n",
              "    </tr>\n",
              "    <tr>\n",
              "      <th>9</th>\n",
              "      <td>10</td>\n",
              "      <td>4.9</td>\n",
              "      <td>3.1</td>\n",
              "      <td>1.5</td>\n",
              "      <td>0.1</td>\n",
              "    </tr>\n",
              "    <tr>\n",
              "      <th>103</th>\n",
              "      <td>104</td>\n",
              "      <td>6.3</td>\n",
              "      <td>2.9</td>\n",
              "      <td>5.6</td>\n",
              "      <td>1.8</td>\n",
              "    </tr>\n",
              "    <tr>\n",
              "      <th>67</th>\n",
              "      <td>68</td>\n",
              "      <td>5.8</td>\n",
              "      <td>2.7</td>\n",
              "      <td>4.1</td>\n",
              "      <td>1.0</td>\n",
              "    </tr>\n",
              "    <tr>\n",
              "      <th>117</th>\n",
              "      <td>118</td>\n",
              "      <td>7.7</td>\n",
              "      <td>3.8</td>\n",
              "      <td>6.7</td>\n",
              "      <td>2.2</td>\n",
              "    </tr>\n",
              "    <tr>\n",
              "      <th>47</th>\n",
              "      <td>48</td>\n",
              "      <td>4.6</td>\n",
              "      <td>3.2</td>\n",
              "      <td>1.4</td>\n",
              "      <td>0.2</td>\n",
              "    </tr>\n",
              "  </tbody>\n",
              "</table>\n",
              "<p>112 rows × 5 columns</p>\n",
              "</div>\n",
              "      <button class=\"colab-df-convert\" onclick=\"convertToInteractive('df-54fb6cc3-23ef-4fc9-98d6-b77838d48a9e')\"\n",
              "              title=\"Convert this dataframe to an interactive table.\"\n",
              "              style=\"display:none;\">\n",
              "        \n",
              "  <svg xmlns=\"http://www.w3.org/2000/svg\" height=\"24px\"viewBox=\"0 0 24 24\"\n",
              "       width=\"24px\">\n",
              "    <path d=\"M0 0h24v24H0V0z\" fill=\"none\"/>\n",
              "    <path d=\"M18.56 5.44l.94 2.06.94-2.06 2.06-.94-2.06-.94-.94-2.06-.94 2.06-2.06.94zm-11 1L8.5 8.5l.94-2.06 2.06-.94-2.06-.94L8.5 2.5l-.94 2.06-2.06.94zm10 10l.94 2.06.94-2.06 2.06-.94-2.06-.94-.94-2.06-.94 2.06-2.06.94z\"/><path d=\"M17.41 7.96l-1.37-1.37c-.4-.4-.92-.59-1.43-.59-.52 0-1.04.2-1.43.59L10.3 9.45l-7.72 7.72c-.78.78-.78 2.05 0 2.83L4 21.41c.39.39.9.59 1.41.59.51 0 1.02-.2 1.41-.59l7.78-7.78 2.81-2.81c.8-.78.8-2.07 0-2.86zM5.41 20L4 18.59l7.72-7.72 1.47 1.35L5.41 20z\"/>\n",
              "  </svg>\n",
              "      </button>\n",
              "      \n",
              "  <style>\n",
              "    .colab-df-container {\n",
              "      display:flex;\n",
              "      flex-wrap:wrap;\n",
              "      gap: 12px;\n",
              "    }\n",
              "\n",
              "    .colab-df-convert {\n",
              "      background-color: #E8F0FE;\n",
              "      border: none;\n",
              "      border-radius: 50%;\n",
              "      cursor: pointer;\n",
              "      display: none;\n",
              "      fill: #1967D2;\n",
              "      height: 32px;\n",
              "      padding: 0 0 0 0;\n",
              "      width: 32px;\n",
              "    }\n",
              "\n",
              "    .colab-df-convert:hover {\n",
              "      background-color: #E2EBFA;\n",
              "      box-shadow: 0px 1px 2px rgba(60, 64, 67, 0.3), 0px 1px 3px 1px rgba(60, 64, 67, 0.15);\n",
              "      fill: #174EA6;\n",
              "    }\n",
              "\n",
              "    [theme=dark] .colab-df-convert {\n",
              "      background-color: #3B4455;\n",
              "      fill: #D2E3FC;\n",
              "    }\n",
              "\n",
              "    [theme=dark] .colab-df-convert:hover {\n",
              "      background-color: #434B5C;\n",
              "      box-shadow: 0px 1px 3px 1px rgba(0, 0, 0, 0.15);\n",
              "      filter: drop-shadow(0px 1px 2px rgba(0, 0, 0, 0.3));\n",
              "      fill: #FFFFFF;\n",
              "    }\n",
              "  </style>\n",
              "\n",
              "      <script>\n",
              "        const buttonEl =\n",
              "          document.querySelector('#df-54fb6cc3-23ef-4fc9-98d6-b77838d48a9e button.colab-df-convert');\n",
              "        buttonEl.style.display =\n",
              "          google.colab.kernel.accessAllowed ? 'block' : 'none';\n",
              "\n",
              "        async function convertToInteractive(key) {\n",
              "          const element = document.querySelector('#df-54fb6cc3-23ef-4fc9-98d6-b77838d48a9e');\n",
              "          const dataTable =\n",
              "            await google.colab.kernel.invokeFunction('convertToInteractive',\n",
              "                                                     [key], {});\n",
              "          if (!dataTable) return;\n",
              "\n",
              "          const docLinkHtml = 'Like what you see? Visit the ' +\n",
              "            '<a target=\"_blank\" href=https://colab.research.google.com/notebooks/data_table.ipynb>data table notebook</a>'\n",
              "            + ' to learn more about interactive tables.';\n",
              "          element.innerHTML = '';\n",
              "          dataTable['output_type'] = 'display_data';\n",
              "          await google.colab.output.renderOutput(dataTable, element);\n",
              "          const docLink = document.createElement('div');\n",
              "          docLink.innerHTML = docLinkHtml;\n",
              "          element.appendChild(docLink);\n",
              "        }\n",
              "      </script>\n",
              "    </div>\n",
              "  </div>\n",
              "  "
            ]
          },
          "metadata": {},
          "execution_count": 5
        }
      ]
    },
    {
      "cell_type": "markdown",
      "source": [
        "## Create and train Model"
      ],
      "metadata": {
        "id": "gsa4rWMRgh5j"
      }
    },
    {
      "cell_type": "code",
      "source": [
        "from sklearn.svm import SVC\n",
        "model =  SVC(kernel = \"linear\")\n",
        "model.fit(X_train,y_train)"
      ],
      "metadata": {
        "colab": {
          "base_uri": "https://localhost:8080/"
        },
        "id": "yW6tUGjaT0nD",
        "outputId": "5fa30649-ba08-4899-cd68-4e01b3dd2f89"
      },
      "execution_count": null,
      "outputs": [
        {
          "output_type": "execute_result",
          "data": {
            "text/plain": [
              "SVC(kernel='linear')"
            ]
          },
          "metadata": {},
          "execution_count": 6
        }
      ]
    },
    {
      "cell_type": "markdown",
      "source": [
        "### Predict the expexted values"
      ],
      "metadata": {
        "id": "vF6kdMKKg33i"
      }
    },
    {
      "cell_type": "code",
      "source": [
        "#predict the output\n",
        "y_pred = model.predict(X_test)"
      ],
      "metadata": {
        "id": "hebqbag6Uh0c"
      },
      "execution_count": null,
      "outputs": []
    },
    {
      "cell_type": "markdown",
      "source": [
        "## Validate Trained Model By confustion Matrix"
      ],
      "metadata": {
        "id": "Tr2PcVpHg_9K"
      }
    },
    {
      "cell_type": "code",
      "source": [
        "from sklearn.metrics import classification_report,confusion_matrix\n",
        "import sklearn\n",
        "confusion_matrix(y_test,y_pred)"
      ],
      "metadata": {
        "colab": {
          "base_uri": "https://localhost:8080/"
        },
        "id": "KB1EF4BzUxGY",
        "outputId": "3aeec349-75b2-44e9-aaa6-06e74488643d"
      },
      "execution_count": null,
      "outputs": [
        {
          "output_type": "execute_result",
          "data": {
            "text/plain": [
              "array([[13,  0,  0],\n",
              "       [ 0, 16,  0],\n",
              "       [ 0,  0,  9]])"
            ]
          },
          "metadata": {},
          "execution_count": 11
        }
      ]
    },
    {
      "cell_type": "code",
      "source": [
        "print(classification_report(y_test,y_pred))"
      ],
      "metadata": {
        "colab": {
          "base_uri": "https://localhost:8080/"
        },
        "id": "avrxkgxxVTTX",
        "outputId": "9015e109-6da1-49c6-9de2-d27d8608233b"
      },
      "execution_count": null,
      "outputs": [
        {
          "output_type": "stream",
          "name": "stdout",
          "text": [
            "              precision    recall  f1-score   support\n",
            "\n",
            "           1       1.00      1.00      1.00        13\n",
            "           2       1.00      1.00      1.00        16\n",
            "           3       1.00      1.00      1.00         9\n",
            "\n",
            "    accuracy                           1.00        38\n",
            "   macro avg       1.00      1.00      1.00        38\n",
            "weighted avg       1.00      1.00      1.00        38\n",
            "\n"
          ]
        }
      ]
    },
    {
      "cell_type": "code",
      "source": [
        "print('Accuracy:', sklearn.metrics.accuracy_score(y_test,y_pred))\n",
        "\n",
        "print('F1 score:',sklearn.metrics.f1_score(y_test,y_pred,\n",
        "                            average='weighted'))\n",
        "\n",
        "print( 'Recall:',sklearn.metrics.recall_score(y_test,y_pred,\n",
        "                              average='weighted'))\n",
        "\n",
        "print('Precision:',sklearn.metrics.precision_score(y_test,y_pred,\n",
        "                                    average='weighted'))"
      ],
      "metadata": {
        "colab": {
          "base_uri": "https://localhost:8080/"
        },
        "id": "vN0vGWRXv6gE",
        "outputId": "cb44882a-0df0-4e1c-d801-38c9471feb34"
      },
      "execution_count": null,
      "outputs": [
        {
          "output_type": "stream",
          "name": "stdout",
          "text": [
            "Accuracy: 1.0\n",
            "F1 score: 1.0\n",
            "Recall: 1.0\n",
            "Precision: 1.0\n"
          ]
        }
      ]
    },
    {
      "cell_type": "markdown",
      "source": [
        "# 6. K Means Clustering"
      ],
      "metadata": {
        "id": "Pr1K-npVV8uL"
      }
    },
    {
      "cell_type": "code",
      "source": [
        "import numpy as np\n",
        "import matplotlib.pyplot as plt\n",
        "import pandas as pd"
      ],
      "metadata": {
        "id": "6tkqTgziV7UK"
      },
      "execution_count": null,
      "outputs": []
    },
    {
      "cell_type": "markdown",
      "source": [
        "## Preparing Dataset"
      ],
      "metadata": {
        "id": "S1PmHB6RgXYF"
      }
    },
    {
      "cell_type": "code",
      "source": [
        "data = pd.read_csv(\"/content/drive/MyDrive/Colab Notebooks/Iris.csv\")\n",
        "x = data.iloc[:, [0, 1, 2, 3]].values\n",
        "data.head()"
      ],
      "metadata": {
        "colab": {
          "base_uri": "https://localhost:8080/"
        },
        "id": "w36lDoMUvBbP",
        "outputId": "fd50091b-427c-4e33-92d2-a54d93f94e83"
      },
      "execution_count": null,
      "outputs": [
        {
          "output_type": "execute_result",
          "data": {
            "text/plain": [
              "   Id  SepalLengthCm  SepalWidthCm  PetalLengthCm  PetalWidthCm      Species\n",
              "0   1            5.1           3.5            1.4           0.2  Iris-setosa\n",
              "1   2            4.9           3.0            1.4           0.2  Iris-setosa\n",
              "2   3            4.7           3.2            1.3           0.2  Iris-setosa\n",
              "3   4            4.6           3.1            1.5           0.2  Iris-setosa\n",
              "4   5            5.0           3.6            1.4           0.2  Iris-setosa"
            ],
            "text/html": [
              "\n",
              "  <div id=\"df-3a3dafcf-cf27-4561-be15-9e729c9da2c6\">\n",
              "    <div class=\"colab-df-container\">\n",
              "      <div>\n",
              "<style scoped>\n",
              "    .dataframe tbody tr th:only-of-type {\n",
              "        vertical-align: middle;\n",
              "    }\n",
              "\n",
              "    .dataframe tbody tr th {\n",
              "        vertical-align: top;\n",
              "    }\n",
              "\n",
              "    .dataframe thead th {\n",
              "        text-align: right;\n",
              "    }\n",
              "</style>\n",
              "<table border=\"1\" class=\"dataframe\">\n",
              "  <thead>\n",
              "    <tr style=\"text-align: right;\">\n",
              "      <th></th>\n",
              "      <th>Id</th>\n",
              "      <th>SepalLengthCm</th>\n",
              "      <th>SepalWidthCm</th>\n",
              "      <th>PetalLengthCm</th>\n",
              "      <th>PetalWidthCm</th>\n",
              "      <th>Species</th>\n",
              "    </tr>\n",
              "  </thead>\n",
              "  <tbody>\n",
              "    <tr>\n",
              "      <th>0</th>\n",
              "      <td>1</td>\n",
              "      <td>5.1</td>\n",
              "      <td>3.5</td>\n",
              "      <td>1.4</td>\n",
              "      <td>0.2</td>\n",
              "      <td>Iris-setosa</td>\n",
              "    </tr>\n",
              "    <tr>\n",
              "      <th>1</th>\n",
              "      <td>2</td>\n",
              "      <td>4.9</td>\n",
              "      <td>3.0</td>\n",
              "      <td>1.4</td>\n",
              "      <td>0.2</td>\n",
              "      <td>Iris-setosa</td>\n",
              "    </tr>\n",
              "    <tr>\n",
              "      <th>2</th>\n",
              "      <td>3</td>\n",
              "      <td>4.7</td>\n",
              "      <td>3.2</td>\n",
              "      <td>1.3</td>\n",
              "      <td>0.2</td>\n",
              "      <td>Iris-setosa</td>\n",
              "    </tr>\n",
              "    <tr>\n",
              "      <th>3</th>\n",
              "      <td>4</td>\n",
              "      <td>4.6</td>\n",
              "      <td>3.1</td>\n",
              "      <td>1.5</td>\n",
              "      <td>0.2</td>\n",
              "      <td>Iris-setosa</td>\n",
              "    </tr>\n",
              "    <tr>\n",
              "      <th>4</th>\n",
              "      <td>5</td>\n",
              "      <td>5.0</td>\n",
              "      <td>3.6</td>\n",
              "      <td>1.4</td>\n",
              "      <td>0.2</td>\n",
              "      <td>Iris-setosa</td>\n",
              "    </tr>\n",
              "  </tbody>\n",
              "</table>\n",
              "</div>\n",
              "      <button class=\"colab-df-convert\" onclick=\"convertToInteractive('df-3a3dafcf-cf27-4561-be15-9e729c9da2c6')\"\n",
              "              title=\"Convert this dataframe to an interactive table.\"\n",
              "              style=\"display:none;\">\n",
              "        \n",
              "  <svg xmlns=\"http://www.w3.org/2000/svg\" height=\"24px\"viewBox=\"0 0 24 24\"\n",
              "       width=\"24px\">\n",
              "    <path d=\"M0 0h24v24H0V0z\" fill=\"none\"/>\n",
              "    <path d=\"M18.56 5.44l.94 2.06.94-2.06 2.06-.94-2.06-.94-.94-2.06-.94 2.06-2.06.94zm-11 1L8.5 8.5l.94-2.06 2.06-.94-2.06-.94L8.5 2.5l-.94 2.06-2.06.94zm10 10l.94 2.06.94-2.06 2.06-.94-2.06-.94-.94-2.06-.94 2.06-2.06.94z\"/><path d=\"M17.41 7.96l-1.37-1.37c-.4-.4-.92-.59-1.43-.59-.52 0-1.04.2-1.43.59L10.3 9.45l-7.72 7.72c-.78.78-.78 2.05 0 2.83L4 21.41c.39.39.9.59 1.41.59.51 0 1.02-.2 1.41-.59l7.78-7.78 2.81-2.81c.8-.78.8-2.07 0-2.86zM5.41 20L4 18.59l7.72-7.72 1.47 1.35L5.41 20z\"/>\n",
              "  </svg>\n",
              "      </button>\n",
              "      \n",
              "  <style>\n",
              "    .colab-df-container {\n",
              "      display:flex;\n",
              "      flex-wrap:wrap;\n",
              "      gap: 12px;\n",
              "    }\n",
              "\n",
              "    .colab-df-convert {\n",
              "      background-color: #E8F0FE;\n",
              "      border: none;\n",
              "      border-radius: 50%;\n",
              "      cursor: pointer;\n",
              "      display: none;\n",
              "      fill: #1967D2;\n",
              "      height: 32px;\n",
              "      padding: 0 0 0 0;\n",
              "      width: 32px;\n",
              "    }\n",
              "\n",
              "    .colab-df-convert:hover {\n",
              "      background-color: #E2EBFA;\n",
              "      box-shadow: 0px 1px 2px rgba(60, 64, 67, 0.3), 0px 1px 3px 1px rgba(60, 64, 67, 0.15);\n",
              "      fill: #174EA6;\n",
              "    }\n",
              "\n",
              "    [theme=dark] .colab-df-convert {\n",
              "      background-color: #3B4455;\n",
              "      fill: #D2E3FC;\n",
              "    }\n",
              "\n",
              "    [theme=dark] .colab-df-convert:hover {\n",
              "      background-color: #434B5C;\n",
              "      box-shadow: 0px 1px 3px 1px rgba(0, 0, 0, 0.15);\n",
              "      filter: drop-shadow(0px 1px 2px rgba(0, 0, 0, 0.3));\n",
              "      fill: #FFFFFF;\n",
              "    }\n",
              "  </style>\n",
              "\n",
              "      <script>\n",
              "        const buttonEl =\n",
              "          document.querySelector('#df-3a3dafcf-cf27-4561-be15-9e729c9da2c6 button.colab-df-convert');\n",
              "        buttonEl.style.display =\n",
              "          google.colab.kernel.accessAllowed ? 'block' : 'none';\n",
              "\n",
              "        async function convertToInteractive(key) {\n",
              "          const element = document.querySelector('#df-3a3dafcf-cf27-4561-be15-9e729c9da2c6');\n",
              "          const dataTable =\n",
              "            await google.colab.kernel.invokeFunction('convertToInteractive',\n",
              "                                                     [key], {});\n",
              "          if (!dataTable) return;\n",
              "\n",
              "          const docLinkHtml = 'Like what you see? Visit the ' +\n",
              "            '<a target=\"_blank\" href=https://colab.research.google.com/notebooks/data_table.ipynb>data table notebook</a>'\n",
              "            + ' to learn more about interactive tables.';\n",
              "          element.innerHTML = '';\n",
              "          dataTable['output_type'] = 'display_data';\n",
              "          await google.colab.output.renderOutput(dataTable, element);\n",
              "          const docLink = document.createElement('div');\n",
              "          docLink.innerHTML = docLinkHtml;\n",
              "          element.appendChild(docLink);\n",
              "        }\n",
              "      </script>\n",
              "    </div>\n",
              "  </div>\n",
              "  "
            ]
          },
          "metadata": {},
          "execution_count": 60
        }
      ]
    },
    {
      "cell_type": "code",
      "source": [
        "# frequency distribution of species\n",
        "iris_outcome = pd.crosstab(index=data['Species'],columns=\"count\")\n",
        "iris_outcome"
      ],
      "metadata": {
        "colab": {
          "base_uri": "https://localhost:8080/"
        },
        "id": "zIXGdE6_vwSv",
        "outputId": "dabc4214-7235-43c0-b24d-89e08a66ef60"
      },
      "execution_count": null,
      "outputs": [
        {
          "output_type": "execute_result",
          "data": {
            "text/plain": [
              "col_0            count\n",
              "Species               \n",
              "Iris-setosa         50\n",
              "Iris-versicolor     50\n",
              "Iris-virginica      50"
            ],
            "text/html": [
              "\n",
              "  <div id=\"df-839b00f0-046b-4117-8684-9f543d75970b\">\n",
              "    <div class=\"colab-df-container\">\n",
              "      <div>\n",
              "<style scoped>\n",
              "    .dataframe tbody tr th:only-of-type {\n",
              "        vertical-align: middle;\n",
              "    }\n",
              "\n",
              "    .dataframe tbody tr th {\n",
              "        vertical-align: top;\n",
              "    }\n",
              "\n",
              "    .dataframe thead th {\n",
              "        text-align: right;\n",
              "    }\n",
              "</style>\n",
              "<table border=\"1\" class=\"dataframe\">\n",
              "  <thead>\n",
              "    <tr style=\"text-align: right;\">\n",
              "      <th>col_0</th>\n",
              "      <th>count</th>\n",
              "    </tr>\n",
              "    <tr>\n",
              "      <th>Species</th>\n",
              "      <th></th>\n",
              "    </tr>\n",
              "  </thead>\n",
              "  <tbody>\n",
              "    <tr>\n",
              "      <th>Iris-setosa</th>\n",
              "      <td>50</td>\n",
              "    </tr>\n",
              "    <tr>\n",
              "      <th>Iris-versicolor</th>\n",
              "      <td>50</td>\n",
              "    </tr>\n",
              "    <tr>\n",
              "      <th>Iris-virginica</th>\n",
              "      <td>50</td>\n",
              "    </tr>\n",
              "  </tbody>\n",
              "</table>\n",
              "</div>\n",
              "      <button class=\"colab-df-convert\" onclick=\"convertToInteractive('df-839b00f0-046b-4117-8684-9f543d75970b')\"\n",
              "              title=\"Convert this dataframe to an interactive table.\"\n",
              "              style=\"display:none;\">\n",
              "        \n",
              "  <svg xmlns=\"http://www.w3.org/2000/svg\" height=\"24px\"viewBox=\"0 0 24 24\"\n",
              "       width=\"24px\">\n",
              "    <path d=\"M0 0h24v24H0V0z\" fill=\"none\"/>\n",
              "    <path d=\"M18.56 5.44l.94 2.06.94-2.06 2.06-.94-2.06-.94-.94-2.06-.94 2.06-2.06.94zm-11 1L8.5 8.5l.94-2.06 2.06-.94-2.06-.94L8.5 2.5l-.94 2.06-2.06.94zm10 10l.94 2.06.94-2.06 2.06-.94-2.06-.94-.94-2.06-.94 2.06-2.06.94z\"/><path d=\"M17.41 7.96l-1.37-1.37c-.4-.4-.92-.59-1.43-.59-.52 0-1.04.2-1.43.59L10.3 9.45l-7.72 7.72c-.78.78-.78 2.05 0 2.83L4 21.41c.39.39.9.59 1.41.59.51 0 1.02-.2 1.41-.59l7.78-7.78 2.81-2.81c.8-.78.8-2.07 0-2.86zM5.41 20L4 18.59l7.72-7.72 1.47 1.35L5.41 20z\"/>\n",
              "  </svg>\n",
              "      </button>\n",
              "      \n",
              "  <style>\n",
              "    .colab-df-container {\n",
              "      display:flex;\n",
              "      flex-wrap:wrap;\n",
              "      gap: 12px;\n",
              "    }\n",
              "\n",
              "    .colab-df-convert {\n",
              "      background-color: #E8F0FE;\n",
              "      border: none;\n",
              "      border-radius: 50%;\n",
              "      cursor: pointer;\n",
              "      display: none;\n",
              "      fill: #1967D2;\n",
              "      height: 32px;\n",
              "      padding: 0 0 0 0;\n",
              "      width: 32px;\n",
              "    }\n",
              "\n",
              "    .colab-df-convert:hover {\n",
              "      background-color: #E2EBFA;\n",
              "      box-shadow: 0px 1px 2px rgba(60, 64, 67, 0.3), 0px 1px 3px 1px rgba(60, 64, 67, 0.15);\n",
              "      fill: #174EA6;\n",
              "    }\n",
              "\n",
              "    [theme=dark] .colab-df-convert {\n",
              "      background-color: #3B4455;\n",
              "      fill: #D2E3FC;\n",
              "    }\n",
              "\n",
              "    [theme=dark] .colab-df-convert:hover {\n",
              "      background-color: #434B5C;\n",
              "      box-shadow: 0px 1px 3px 1px rgba(0, 0, 0, 0.15);\n",
              "      filter: drop-shadow(0px 1px 2px rgba(0, 0, 0, 0.3));\n",
              "      fill: #FFFFFF;\n",
              "    }\n",
              "  </style>\n",
              "\n",
              "      <script>\n",
              "        const buttonEl =\n",
              "          document.querySelector('#df-839b00f0-046b-4117-8684-9f543d75970b button.colab-df-convert');\n",
              "        buttonEl.style.display =\n",
              "          google.colab.kernel.accessAllowed ? 'block' : 'none';\n",
              "\n",
              "        async function convertToInteractive(key) {\n",
              "          const element = document.querySelector('#df-839b00f0-046b-4117-8684-9f543d75970b');\n",
              "          const dataTable =\n",
              "            await google.colab.kernel.invokeFunction('convertToInteractive',\n",
              "                                                     [key], {});\n",
              "          if (!dataTable) return;\n",
              "\n",
              "          const docLinkHtml = 'Like what you see? Visit the ' +\n",
              "            '<a target=\"_blank\" href=https://colab.research.google.com/notebooks/data_table.ipynb>data table notebook</a>'\n",
              "            + ' to learn more about interactive tables.';\n",
              "          element.innerHTML = '';\n",
              "          dataTable['output_type'] = 'display_data';\n",
              "          await google.colab.output.renderOutput(dataTable, element);\n",
              "          const docLink = document.createElement('div');\n",
              "          docLink.innerHTML = docLinkHtml;\n",
              "          element.appendChild(docLink);\n",
              "        }\n",
              "      </script>\n",
              "    </div>\n",
              "  </div>\n",
              "  "
            ]
          },
          "metadata": {},
          "execution_count": 61
        }
      ]
    },
    {
      "cell_type": "markdown",
      "source": [
        "## Finding Optimal Number of clusters"
      ],
      "metadata": {
        "id": "JyCqE0F5enQB"
      }
    },
    {
      "cell_type": "markdown",
      "source": [
        "### Elbow Methode"
      ],
      "metadata": {
        "id": "R3ZDFCiNgNXL"
      }
    },
    {
      "cell_type": "code",
      "source": [
        "from sklearn.cluster import KMeans\n",
        "\n",
        "wcss = []\n",
        "for i in range(1,10):\n",
        "  kmeans = KMeans(n_clusters=i, init= 'k-means++', max_iter =300,n_init=10,random_state=0)\n",
        "  kmeans.fit(x)\n",
        "  wcss.append(kmeans.inertia_)"
      ],
      "metadata": {
        "id": "wMbVz0KKyEcn"
      },
      "execution_count": null,
      "outputs": []
    },
    {
      "cell_type": "code",
      "source": [
        "plt.plot(range(1,10),wcss)\n",
        "plt.title(\"The elbow method\")\n",
        "plt.xlabel(\"Number of clusters\")\n",
        "plt.ylabel(\"WCSS\")\n",
        "plt.show()"
      ],
      "metadata": {
        "colab": {
          "base_uri": "https://localhost:8080/"
        },
        "id": "WD3hSDhCzW2B",
        "outputId": "0b276890-0160-4fc7-bff8-ec2f3d637e69"
      },
      "execution_count": null,
      "outputs": [
        {
          "output_type": "display_data",
          "data": {
            "text/plain": [
              "<Figure size 432x288 with 1 Axes>"
            ],
            "image/png": "[encoded data removed]"
          },
          "metadata": {
            "needs_background": "light"
          }
        }
      ]
    },
    {
      "cell_type": "markdown",
      "source": [
        "### silhouette score method"
      ],
      "metadata": {
        "id": "-TXlUyAkfKsI"
      }
    },
    {
      "cell_type": "code",
      "source": [
        "from sklearn.metrics import silhouette_score\n",
        "SS=[]\n",
        "for i in range(2,10):\n",
        "    kmeans = KMeans(n_clusters = i, init = 'k-means++', max_iter = 300, n_init = 10, random_state = 0)\n",
        "    kmeans.fit(x)\n",
        "    labels = kmeans.labels_\n",
        "    ss=silhouette_score(x,labels,metric='euclidean')\n",
        "    SS.append(ss)"
      ],
      "metadata": {
        "id": "wAaroH38z_Bd"
      },
      "execution_count": null,
      "outputs": []
    },
    {
      "cell_type": "code",
      "source": [
        "plt.plot(range(2, 10),SS)\n",
        "plt.title('The silhouette score method')\n",
        "plt.xlabel('Number of clusters')\n",
        "plt.ylabel('SS') \n",
        "plt.show()"
      ],
      "metadata": {
        "colab": {
          "base_uri": "https://localhost:8080/"
        },
        "id": "X-G93eId0w76",
        "outputId": "41d6320a-b729-4d6a-b01e-ab58d8d8064e"
      },
      "execution_count": null,
      "outputs": [
        {
          "output_type": "display_data",
          "data": {
            "text/plain": [
              "<Figure size 432x288 with 1 Axes>"
            ],
            "image/png": "[encoded data removed]"
          },
          "metadata": {
            "needs_background": "light"
          }
        }
      ]
    },
    {
      "cell_type": "markdown",
      "source": [
        "## Implementing K-Mean Clustering"
      ],
      "metadata": {
        "id": "PSOv_1OPeOyv"
      }
    },
    {
      "cell_type": "code",
      "source": [
        "kmeans = KMeans(n_clusters = 3 ,init='k-means++',n_init =10,max_iter=300,random_state = 0)\n",
        "y_kmeans = kmeans.fit_predict(x)"
      ],
      "metadata": {
        "id": "0rtKUaxU1U0m"
      },
      "execution_count": null,
      "outputs": []
    },
    {
      "cell_type": "markdown",
      "source": [
        "### Visualising Clusters"
      ],
      "metadata": {
        "id": "Ne0uE9I8ec45"
      }
    },
    {
      "cell_type": "code",
      "source": [
        "plt.scatter(x[y_kmeans == 0,0],x[y_kmeans == 0,1],s=100,c='red',label =\"Iris-setosa\" )\n",
        "plt.scatter(x[y_kmeans == 1,0],x[y_kmeans == 1,1],s=100,c='green',label =\"Iris-versicolor\" )\n",
        "plt.scatter(x[y_kmeans == 2,0],x[y_kmeans == 2,1],s=100,c='blue',label =\"Iris-virgenica\" )\n",
        "plt.scatter(kmeans.cluster_centers_[:, 0], kmeans.cluster_centers_[:,1], s = 100, c = 'black', label = 'Centroids')\n",
        "plt.legend()"
      ],
      "metadata": {
        "colab": {
          "base_uri": "https://localhost:8080/"
        },
        "id": "SMlNDE1i2DG5",
        "outputId": "80d42a16-b182-4328-b366-a64c7400b270"
      },
      "execution_count": null,
      "outputs": [
        {
          "output_type": "execute_result",
          "data": {
            "text/plain": [
              "<matplotlib.legend.Legend at 0x7f456ec12710>"
            ]
          },
          "metadata": {},
          "execution_count": 67
        },
        {
          "output_type": "display_data",
          "data": {
            "text/plain": [
              "<Figure size 432x288 with 1 Axes>"
            ],
            "image/png": "[encoded data removed]"
          },
          "metadata": {
            "needs_background": "light"
          }
        }
      ]
    },
    {
      "cell_type": "markdown",
      "source": [
        "# 7. Backpropogation"
      ],
      "metadata": {
        "id": "nFdBcNRphVcO"
      }
    },
    {
      "cell_type": "code",
      "source": [
        "import numpy as np\n",
        "import matplotlib.pyplot as plt"
      ],
      "metadata": {
        "id": "sessf5eShsGB"
      },
      "execution_count": null,
      "outputs": []
    },
    {
      "cell_type": "code",
      "source": [
        "x1 = np.array([0,1,0,1])\n",
        "x2 = np.array([0,0,1,1])\n",
        "y = np.array([0,1,1,0])\n",
        "\n",
        "error = []\n",
        "itration = []"
      ],
      "metadata": {
        "id": "vAVqX9fdbVq3"
      },
      "execution_count": null,
      "outputs": []
    },
    {
      "cell_type": "code",
      "source": [
        "np.random.rand(23)\n",
        "\n",
        "w00 = np.random.rand()\n",
        "w01 = np.random.rand()\n",
        "w10 = np.random.rand()\n",
        "w11 = np.random.rand()\n",
        "\n",
        "b1 = 1.0\n",
        "\n",
        "w2 = np.random.rand()\n",
        "w3 = np.random.rand()\n",
        "\n",
        "b2 = 1.0"
      ],
      "metadata": {
        "id": "gXY6U7eLcsuG"
      },
      "execution_count": null,
      "outputs": []
    },
    {
      "cell_type": "code",
      "source": [
        "for i in range(1000):\n",
        "  # forward\n",
        "  \n",
        "  z1 = w00*x1 + w01*x2 + b1\n",
        "  z2 = w10*x1 + w11*x2 + b1\n",
        "\n",
        "  h1 = 1 / (1 + np.exp(-z1))\n",
        "  h2 = 1 / (1 + np.exp(-z2))\n",
        "\n",
        "  zout = w2 * h1 + w3 *h2 + b2\n",
        "  o = 1 / (1 + np.exp(-zout))\n",
        "\n",
        "  # backpropagation\n",
        "\n",
        "  e = 0.5 * np.mean((o - y) * (o - y))\n",
        "\n",
        "  de_do = o-y\n",
        "  do_dzout = o * (1-o)\n",
        "  dzout_dw2 = h1\n",
        "  dzout_dw3 = h2\n",
        "  dzout_db2 = 1\n",
        "\n",
        "  de_w2 = de_do * do_dzout * dzout_dw2\n",
        "  de_w3 = de_do * do_dzout * dzout_dw3\n",
        "  de_db2 = de_do * do_dzout * dzout_db2\n",
        "\n",
        "  dzout_dh1=w2\n",
        "  dh1_dz1=h1*(1-h1)\n",
        "  dzout_dh2=w3\n",
        "  dh2_dz2=h2*(1-h2)\n",
        "  dz1_dw00=x1\n",
        "  dz2_dw01=x2\n",
        "  dz1_dw10=x1\n",
        "  dz2_dw11=x2\n",
        "  dz1_db1=1\n",
        "  dz2_db1=1\n",
        "  \n",
        "  # chain rule\n",
        "  de_dw00=de_do*do_dzout*dzout_dh1*dh1_dz1*dz1_dw00\n",
        "\n",
        "  de_dw01=de_do*do_dzout*dzout_dh2*dh2_dz2*dz2_dw01\n",
        "\n",
        "  de_dw10=de_do*do_dzout*dzout_dh1*dh1_dz1*dz1_dw10\n",
        "\n",
        "  de_dw11=de_do*do_dzout*dzout_dh2*dh2_dz2*dz2_dw11\n",
        "\n",
        "  de_db1=de_do*do_dzout*dzout_dh1*dh1_dz1*dz1_db1+de_do*do_dzout*dzout_dh2*dh2_dz2*dz2_db1\n",
        "    \n",
        "\n",
        "  w00-=de_dw00\n",
        "  w01-=de_dw01\n",
        "  w10-=de_dw10\n",
        "  w11-=de_dw11\n",
        "  b1-=de_db1\n",
        "  b2-=de_db2\n",
        "  error.append(np.mean(e))\n",
        "  itration.append(i)"
      ],
      "metadata": {
        "id": "ZcA8WU0ld8zA"
      },
      "execution_count": null,
      "outputs": []
    },
    {
      "cell_type": "code",
      "source": [
        "plt.ylabel(\"error\")\n",
        "plt.xlabel(\"itratiom\")\n",
        "plt.title(\"error plot\")\n",
        "plt.plot(itration,error)\n",
        "print(\"w=\",w00,w01,w10,w11)\n",
        "print(\"w2,w3=\",w2,w3)\n",
        "print(\"b1,b2=\",b1,b2)"
      ],
      "metadata": {
        "colab": {
          "base_uri": "https://localhost:8080/",
          "height": 367
        },
        "id": "QgVeRhpCiyoG",
        "outputId": "9e1d8b07-5533-4235-bf26-5e01839e09e0"
      },
      "execution_count": null,
      "outputs": [
        {
          "output_type": "stream",
          "name": "stdout",
          "text": [
            "w= [0.99009067 1.09091065 0.99009067 0.41949971] [0.85876567 0.85876567 1.03789467 0.01144845] [ 0.0102716   0.11109158  0.0102716  -0.56031935] [ 0.14451938  0.14451938  0.32364838 -0.70279784]\n",
            "w2,w3= 0.744165125486895 0.7533617539147294\n",
            "b1,b2= [-0.82016824  1.30007876  1.28689345 -0.41790817] [-4.23712819  2.50299192  2.48767838 -4.30138511]\n"
          ]
        },
        {
          "output_type": "display_data",
          "data": {
            "text/plain": [
              "<Figure size 432x288 with 1 Axes>"
            ],
            "image/png": "[encoded data removed]"
          },
          "metadata": {
            "needs_background": "light"
          }
        }
      ]
    },
    {
      "cell_type": "code",
      "source": [
        "x1=np.array([0,1,0,1])\n",
        "x2=np.array([0,0,1,1])\n",
        "\n",
        "z1=w00*x1+w01*x2+b1\n",
        "z2=w10*x1+w11*x2+b1\n",
        "h1=1/(1+np.exp(-z1))\n",
        "h2=1/(1+np.exp(-z2))\n",
        "\n",
        "zout=w2*h1+w3*h2+b2\n",
        "o=1/(1+np.exp(-zout))\n",
        "print(\"o =\",np.round(o))"
      ],
      "metadata": {
        "colab": {
          "base_uri": "https://localhost:8080/"
        },
        "id": "7QicB_nYjPk-",
        "outputId": "2a1d8853-f5f5-41ea-f00e-b4c8e8acc5b9"
      },
      "execution_count": null,
      "outputs": [
        {
          "output_type": "stream",
          "name": "stdout",
          "text": [
            "o = [0. 1. 1. 0.]\n"
          ]
        }
      ]
    },
    {
      "cell_type": "markdown",
      "source": [
        "# 8. Classification Using CNN"
      ],
      "metadata": {
        "id": "Efe2iEXT3IZt"
      }
    },
    {
      "cell_type": "code",
      "source": [
        "import tensorflow as tf\n",
        "import matplotlib.pyplot as plt\n",
        "import numpy as np \n",
        "from tensorflow.keras import layers,models"
      ],
      "metadata": {
        "id": "Yg1wSvpB39zY"
      },
      "execution_count": null,
      "outputs": []
    },
    {
      "cell_type": "markdown",
      "source": [
        "## Import and split data"
      ],
      "metadata": {
        "id": "howzoe9Q4sg0"
      }
    },
    {
      "cell_type": "code",
      "source": [
        "data =  tf.keras.datasets.mnist\n",
        "(x_train,y_train),(x_test,y_test) = data.load_data()\n",
        "x_train, x_test = x_train / 255.0, x_test / 255.0"
      ],
      "metadata": {
        "colab": {
          "base_uri": "https://localhost:8080/"
        },
        "id": "-zUPI_3p4ryS",
        "outputId": "8ab5dff8-cbd5-4b41-ac80-382f76a8e224"
      },
      "execution_count": null,
      "outputs": [
        {
          "output_type": "stream",
          "name": "stdout",
          "text": [
            "Downloading data from https://storage.googleapis.com/tensorflow/tf-keras-datasets/mnist.npz\n",
            "11493376/11490434 [==============================] - 0s 0us/step\n",
            "11501568/11490434 [==============================] - 0s 0us/step\n"
          ]
        }
      ]
    },
    {
      "cell_type": "code",
      "source": [
        "class_names = ['0', '1', '2', '3', '4',\n",
        "               '5', '6', '7', '8', '9']\n",
        "\n",
        "plt.figure(figsize = (10,10))\n",
        "for i in range(25):\n",
        "  plt.subplot(5,5,i+1)\n",
        "  plt.xticks([])\n",
        "  plt.yticks([])\n",
        "  plt.grid(False)\n",
        "  plt.imshow(x_train[i])\n",
        "  plt.xlabel(class_names[y_train[i]])\n",
        "plt.show()"
      ],
      "metadata": {
        "colab": {
          "base_uri": "https://localhost:8080/",
          "height": 589
        },
        "id": "UoRV44vY4pnv",
        "outputId": "ba4d9ed5-95c3-4b4b-e792-7f153b9cd47d"
      },
      "execution_count": null,
      "outputs": [
        {
          "output_type": "display_data",
          "data": {
            "text/plain": [
              "<Figure size 720x720 with 25 Axes>"
            ],
            "image/png": "[encoded data removed]"
          },
          "metadata": {}
        }
      ]
    },
    {
      "cell_type": "markdown",
      "source": [
        "## Resizing image to 28x28"
      ],
      "metadata": {
        "id": "ArpZYFq264Fb"
      }
    },
    {
      "cell_type": "code",
      "source": [
        "x_trian =  x_train.reshape(x_train.shape[0],28,28,1)\n",
        "x_test =  x_test.reshape(x_test.shape[0],28,28,1)\n",
        "x_trian.shape,x_test.shape"
      ],
      "metadata": {
        "colab": {
          "base_uri": "https://localhost:8080/"
        },
        "id": "lZWqtgO46y-3",
        "outputId": "df83f3e8-e1f0-484e-e240-b334d2dc412e"
      },
      "execution_count": null,
      "outputs": [
        {
          "output_type": "execute_result",
          "data": {
            "text/plain": [
              "((60000, 28, 28, 1), (10000, 28, 28, 1))"
            ]
          },
          "metadata": {},
          "execution_count": 8
        }
      ]
    },
    {
      "cell_type": "markdown",
      "source": [
        "## Build the Neural Network"
      ],
      "metadata": {
        "id": "6dD3tzG97fu5"
      }
    },
    {
      "cell_type": "code",
      "source": [
        "model =  models.Sequential();\n",
        "model.add(layers.Conv2D(32,(3,3), activation = 'relu', input_shape=(28,28,1)))\n",
        "model.add(layers.MaxPooling2D((2,2)))\n",
        "model.add(layers.Conv2D(64,(3,3), activation = 'relu'))\n",
        "model.add(layers.MaxPooling2D((2,2)))\n",
        "model.add(layers.Conv2D(64,(3,3), activation = 'relu'))\n",
        "model.add(layers.Flatten())\n",
        "model.add(layers.Dense(64,activation ='relu'))\n",
        "model.add(layers.Dense(10,activation = 'softmax'))"
      ],
      "metadata": {
        "id": "bZ4BHu0J70FH"
      },
      "execution_count": null,
      "outputs": []
    },
    {
      "cell_type": "code",
      "source": [
        "model.summary()"
      ],
      "metadata": {
        "colab": {
          "base_uri": "https://localhost:8080/"
        },
        "id": "XtL8yr4u-DK6",
        "outputId": "1aa9606f-1e46-4130-cbda-714ed5a1d593"
      },
      "execution_count": null,
      "outputs": [
        {
          "output_type": "stream",
          "name": "stdout",
          "text": [
            "Model: \"sequential_3\"\n",
            "_________________________________________________________________\n",
            " Layer (type)                Output Shape              Param #   \n",
            "=================================================================\n",
            " conv2d_4 (Conv2D)           (None, 26, 26, 32)        320       \n",
            "                                                                 \n",
            " max_pooling2d_2 (MaxPooling  (None, 13, 13, 32)       0         \n",
            " 2D)                                                             \n",
            "                                                                 \n",
            " conv2d_5 (Conv2D)           (None, 11, 11, 64)        18496     \n",
            "                                                                 \n",
            " max_pooling2d_3 (MaxPooling  (None, 5, 5, 64)         0         \n",
            " 2D)                                                             \n",
            "                                                                 \n",
            " conv2d_6 (Conv2D)           (None, 3, 3, 64)          36928     \n",
            "                                                                 \n",
            " flatten (Flatten)           (None, 576)               0         \n",
            "                                                                 \n",
            " dense (Dense)               (None, 64)                36928     \n",
            "                                                                 \n",
            " dense_1 (Dense)             (None, 10)                650       \n",
            "                                                                 \n",
            "=================================================================\n",
            "Total params: 93,322\n",
            "Trainable params: 93,322\n",
            "Non-trainable params: 0\n",
            "_________________________________________________________________\n"
          ]
        }
      ]
    },
    {
      "cell_type": "markdown",
      "source": [
        "## Train the Network"
      ],
      "metadata": {
        "id": "oAzfM-u-LIeB"
      }
    },
    {
      "cell_type": "code",
      "source": [
        "model.compile(optimizer = 'adam', \n",
        "              loss = tf.keras.losses.SparseCategoricalCrossentropy(from_logits=True),\n",
        "              metrics=['accuracy'])\n",
        "history = model.fit(x_train,y_train, epochs =10, validation_data=(x_test,y_test))"
      ],
      "metadata": {
        "colab": {
          "base_uri": "https://localhost:8080/"
        },
        "id": "NccTF2yQ-Hpq",
        "outputId": "092ee9d8-fb8d-4d14-e9f0-0621ae4b0682"
      },
      "execution_count": null,
      "outputs": [
        {
          "output_type": "stream",
          "name": "stdout",
          "text": [
            "Epoch 1/10\n"
          ]
        },
        {
          "output_type": "stream",
          "name": "stderr",
          "text": [
            "/usr/local/lib/python3.7/dist-packages/tensorflow/python/util/dispatch.py:1082: UserWarning: \"`sparse_categorical_crossentropy` received `from_logits=True`, but the `output` argument was produced by a sigmoid or softmax activation and thus does not represent logits. Was this intended?\"\n",
            "  return dispatch_target(*args, **kwargs)\n"
          ]
        },
        {
          "output_type": "stream",
          "name": "stdout",
          "text": [
            "1875/1875 [==============================] - 55s 29ms/step - loss: 0.1520 - accuracy: 0.9528 - val_loss: 0.0517 - val_accuracy: 0.9845\n",
            "Epoch 2/10\n",
            "1875/1875 [==============================] - 52s 28ms/step - loss: 0.0486 - accuracy: 0.9846 - val_loss: 0.0436 - val_accuracy: 0.9869\n",
            "Epoch 3/10\n",
            "1875/1875 [==============================] - 53s 28ms/step - loss: 0.0353 - accuracy: 0.9886 - val_loss: 0.0375 - val_accuracy: 0.9895\n",
            "Epoch 4/10\n",
            "1875/1875 [==============================] - 52s 28ms/step - loss: 0.0267 - accuracy: 0.9915 - val_loss: 0.0291 - val_accuracy: 0.9910\n",
            "Epoch 5/10\n",
            "1875/1875 [==============================] - 52s 28ms/step - loss: 0.0207 - accuracy: 0.9934 - val_loss: 0.0314 - val_accuracy: 0.9905\n",
            "Epoch 6/10\n",
            "1875/1875 [==============================] - 52s 28ms/step - loss: 0.0169 - accuracy: 0.9944 - val_loss: 0.0310 - val_accuracy: 0.9918\n",
            "Epoch 7/10\n",
            "1875/1875 [==============================] - 53s 28ms/step - loss: 0.0139 - accuracy: 0.9956 - val_loss: 0.0348 - val_accuracy: 0.9907\n",
            "Epoch 8/10\n",
            "1875/1875 [==============================] - 53s 28ms/step - loss: 0.0111 - accuracy: 0.9964 - val_loss: 0.0490 - val_accuracy: 0.9878\n",
            "Epoch 9/10\n",
            "1875/1875 [==============================] - 54s 29ms/step - loss: 0.0107 - accuracy: 0.9967 - val_loss: 0.0349 - val_accuracy: 0.9908\n",
            "Epoch 10/10\n",
            "1875/1875 [==============================] - 55s 29ms/step - loss: 0.0090 - accuracy: 0.9969 - val_loss: 0.0362 - val_accuracy: 0.9912\n"
          ]
        }
      ]
    },
    {
      "cell_type": "code",
      "source": [
        "plt.plot(history.history['accuracy'],label='accuracy')\n",
        "plt.plot(history.history['val_accuracy'],label='val_accuracy')\n",
        "plt.xlabel('Epoch')\n",
        "plt.ylabel('Accuracy')\n",
        "plt.ylim([0.5,1])\n",
        "plt.legend(loc='lower right')\n",
        "plt.show()"
      ],
      "metadata": {
        "colab": {
          "base_uri": "https://localhost:8080/",
          "height": 283
        },
        "id": "2HY0sAc1LOlS",
        "outputId": "51e11824-faea-4514-aa28-b73ddf18a590"
      },
      "execution_count": null,
      "outputs": [
        {
          "output_type": "display_data",
          "data": {
            "text/plain": [
              "<Figure size 432x288 with 1 Axes>"
            ],
            "image/png": "[encoded data removed]"
          },
          "metadata": {
            "needs_background": "light"
          }
        }
      ]
    },
    {
      "cell_type": "code",
      "source": [
        "plt.plot(history.history['loss'],label='Loss')\n",
        "plt.plot(history.history['val_loss'],label='val_loss')\n",
        "plt.ylabel('Loss')\n",
        "plt.xlabel('Epoch')\n",
        "plt.ylim([0,0.5])\n",
        "plt.legend(loc='lower right')\n",
        "plt.show()"
      ],
      "metadata": {
        "colab": {
          "base_uri": "https://localhost:8080/",
          "height": 283
        },
        "id": "HDQzZFZAMUu_",
        "outputId": "9ad25281-efbf-4594-9ca9-82aae843f41f"
      },
      "execution_count": null,
      "outputs": [
        {
          "output_type": "display_data",
          "data": {
            "text/plain": [
              "<Figure size 432x288 with 1 Axes>"
            ],
            "image/png": "[encoded data removed]"
          },
          "metadata": {
            "needs_background": "light"
          }
        }
      ]
    },
    {
      "cell_type": "markdown",
      "source": [
        "## Evaluate Model"
      ],
      "metadata": {
        "id": "dZnOkixGNUnn"
      }
    },
    {
      "cell_type": "code",
      "source": [
        "model.evaluate(x_test,y_test)"
      ],
      "metadata": {
        "colab": {
          "base_uri": "https://localhost:8080/"
        },
        "id": "b07iEivjNG1D",
        "outputId": "29192749-9abc-427c-afd8-fd20612f91c6"
      },
      "execution_count": null,
      "outputs": [
        {
          "output_type": "stream",
          "name": "stdout",
          "text": [
            "313/313 [==============================] - 4s 13ms/step - loss: 0.0362 - accuracy: 0.9912\n"
          ]
        },
        {
          "output_type": "execute_result",
          "data": {
            "text/plain": [
              "[0.03619080409407616, 0.9911999702453613]"
            ]
          },
          "metadata": {},
          "execution_count": 24
        }
      ]
    },
    {
      "cell_type": "code",
      "source": [
        "x_test = x_test.reshape(x_test.shape[0],28,28)\n",
        "plt.imshow(x_test[5000])\n",
        "plt.show()\n",
        "x_test[5000].shape"
      ],
      "metadata": {
        "colab": {
          "base_uri": "https://localhost:8080/",
          "height": 282
        },
        "id": "HBhS1C_JNQYg",
        "outputId": "5f20f642-6eee-4959-f3db-03efe2bee536"
      },
      "execution_count": null,
      "outputs": [
        {
          "output_type": "display_data",
          "data": {
            "text/plain": [
              "<Figure size 432x288 with 1 Axes>"
            ],
            "image/png": "[encoded data removed]"
          },
          "metadata": {
            "needs_background": "light"
          }
        },
        {
          "output_type": "execute_result",
          "data": {
            "text/plain": [
              "(28, 28)"
            ]
          },
          "metadata": {},
          "execution_count": 26
        }
      ]
    },
    {
      "cell_type": "code",
      "source": [
        "x_test = x_test.reshape(x_test.shape[0],28,28,1)\n",
        "predictions = model.predict(x_test)\n",
        "print(\"predicted value:\" + str(np.argmax(predictions[5000])))"
      ],
      "metadata": {
        "colab": {
          "base_uri": "https://localhost:8080/"
        },
        "id": "1BTZeGviQBMS",
        "outputId": "2ee2adfa-345e-474d-e137-6c3cecbd5e64"
      },
      "execution_count": null,
      "outputs": [
        {
          "output_type": "stream",
          "name": "stdout",
          "text": [
            "predicted value:3\n"
          ]
        }
      ]
    },
    {
      "cell_type": "code",
      "source": [
        "pred = []\n",
        "for i in predictions:\n",
        "  pred.append(np.argmax(i))\n",
        "pred[15]"
      ],
      "metadata": {
        "colab": {
          "base_uri": "https://localhost:8080/"
        },
        "id": "mrcB_tMZRNlN",
        "outputId": "55b5b927-28e0-4e7c-f604-6b35adb34bc5"
      },
      "execution_count": null,
      "outputs": [
        {
          "output_type": "execute_result",
          "data": {
            "text/plain": [
              "5"
            ]
          },
          "metadata": {},
          "execution_count": 37
        }
      ]
    },
    {
      "cell_type": "markdown",
      "source": [
        "## Evaluate Performance "
      ],
      "metadata": {
        "id": "7mP9SxTDRsxE"
      }
    },
    {
      "cell_type": "code",
      "source": [
        "import sklearn\n",
        "from sklearn.metrics import confusion_matrix\n",
        "confusion_matrix(y_test,pred)"
      ],
      "metadata": {
        "colab": {
          "base_uri": "https://localhost:8080/"
        },
        "id": "HtMvOSQ8R03o",
        "outputId": "9a2201a0-3288-4901-c26e-b8752eed6a9b"
      },
      "execution_count": null,
      "outputs": [
        {
          "output_type": "execute_result",
          "data": {
            "text/plain": [
              "array([[ 976,    1,    0,    0,    0,    0,    1,    1,    1,    0],\n",
              "       [   0, 1132,    0,    0,    0,    1,    0,    2,    0,    0],\n",
              "       [   2,    1, 1023,    0,    0,    0,    0,    6,    0,    0],\n",
              "       [   0,    0,    2, 1005,    0,    2,    0,    1,    0,    0],\n",
              "       [   0,    0,    3,    0,  970,    0,    2,    1,    0,    6],\n",
              "       [   0,    0,    0,    6,    0,  882,    1,    1,    1,    1],\n",
              "       [   2,    2,    3,    0,    0,    3,  946,    0,    2,    0],\n",
              "       [   0,    2,    5,    1,    0,    0,    0, 1018,    0,    2],\n",
              "       [   1,    0,    1,    2,    0,    1,    0,    3,  963,    3],\n",
              "       [   0,    0,    0,    1,    5,    3,    0,    3,    0,  997]])"
            ]
          },
          "metadata": {},
          "execution_count": 39
        }
      ]
    },
    {
      "cell_type": "code",
      "source": [
        "from sklearn.metrics import classification_report\n",
        "print(classification_report(y_test,pred, target_names=class_names))"
      ],
      "metadata": {
        "colab": {
          "base_uri": "https://localhost:8080/"
        },
        "id": "tA-TFqBKSRLa",
        "outputId": "57b4be76-7528-4f20-ca7a-bd8128dabdbd"
      },
      "execution_count": null,
      "outputs": [
        {
          "output_type": "stream",
          "name": "stdout",
          "text": [
            "              precision    recall  f1-score   support\n",
            "\n",
            "           0       0.99      1.00      1.00       980\n",
            "           1       0.99      1.00      1.00      1135\n",
            "           2       0.99      0.99      0.99      1032\n",
            "           3       0.99      1.00      0.99      1010\n",
            "           4       0.99      0.99      0.99       982\n",
            "           5       0.99      0.99      0.99       892\n",
            "           6       1.00      0.99      0.99       958\n",
            "           7       0.98      0.99      0.99      1028\n",
            "           8       1.00      0.99      0.99       974\n",
            "           9       0.99      0.99      0.99      1009\n",
            "\n",
            "    accuracy                           0.99     10000\n",
            "   macro avg       0.99      0.99      0.99     10000\n",
            "weighted avg       0.99      0.99      0.99     10000\n",
            "\n"
          ]
        }
      ]
    },
    {
      "cell_type": "code",
      "source": [
        "print('Accuracy:', sklearn.metrics.accuracy_score(y_test,pred))\n",
        "\n",
        "print('F1 score:',sklearn.metrics.f1_score(y_test,pred,\n",
        "                            average='weighted'))\n",
        "\n",
        "print( 'Recall:',sklearn.metrics.recall_score(y_test,pred,\n",
        "                              average='weighted'))\n",
        "\n",
        "print('Precision:',sklearn.metrics.precision_score(y_test,pred,\n",
        "                                    average='weighted'))"
      ],
      "metadata": {
        "colab": {
          "base_uri": "https://localhost:8080/"
        },
        "id": "A4MK597KSUTT",
        "outputId": "2195417a-22e3-4b49-fddd-b14490b1ae1d"
      },
      "execution_count": null,
      "outputs": [
        {
          "output_type": "stream",
          "name": "stdout",
          "text": [
            "Accuracy: 0.9912\n",
            "F1 score: 0.9912017812753268\n",
            "Recall: 0.9912\n",
            "Precision: 0.99121781365177\n"
          ]
        }
      ]
    }
  ]
}